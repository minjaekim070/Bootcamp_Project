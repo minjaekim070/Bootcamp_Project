{
  "nbformat": 4,
  "nbformat_minor": 0,
  "metadata": {
    "colab": {
      "provenance": [],
      "gpuType": "T4",
      "mount_file_id": "1LVpeJxuzPxCv9LZcG96L5LN4L4ftFWof",
      "authorship_tag": "ABX9TyOhJgPuN/JiaBwwmMbawrdK",
      "include_colab_link": true
    },
    "kernelspec": {
      "name": "python3",
      "display_name": "Python 3"
    },
    "language_info": {
      "name": "python"
    },
    "accelerator": "GPU"
  },
  "cells": [
    {
      "cell_type": "markdown",
      "metadata": {
        "id": "view-in-github",
        "colab_type": "text"
      },
      "source": [
        "<a href=\"https://colab.research.google.com/github/minjaekim070/Bootcamp_Project/blob/main/CNN_project_2%EC%9D%BC%EC%B0%A8_augmentatin%EC%9D%B4%EC%A0%84.ipynb\" target=\"_parent\"><img src=\"https://colab.research.google.com/assets/colab-badge.svg\" alt=\"Open In Colab\"/></a>"
      ]
    },
    {
      "cell_type": "markdown",
      "source": [
        "전체 데이터셋의 다운로드가 오래 걸려서 bottle 폴더에 대한 내용을 우선적으로 정상/비정상으로 분류할 수 있도록 진행"
      ],
      "metadata": {
        "id": "LHt48_VyZmCp"
      }
    },
    {
      "cell_type": "markdown",
      "source": [
        "#Library import\n"
      ],
      "metadata": {
        "id": "RFSAcMEOUWgg"
      }
    },
    {
      "cell_type": "code",
      "execution_count": 2,
      "metadata": {
        "id": "fGPPV15ASMjF"
      },
      "outputs": [],
      "source": [
        "# 패키지 import\n",
        "import os\n",
        "import torch\n",
        "import torch.nn as nn\n",
        "import torch.optim as optim\n",
        "import torch.nn.functional as F\n",
        "import tensorflow as tf\n",
        "from torchvision import transforms, datasets, utils\n",
        "from torchsummary import summary\n",
        "\n",
        "import matplotlib.pyplot as plt\n",
        "import numpy as np\n",
        "\n",
        "from tensorflow.keras.preprocessing import image\n"
      ]
    },
    {
      "cell_type": "markdown",
      "source": [
        "#이미지 업로드 및 배열 변환\n"
      ],
      "metadata": {
        "id": "cJuTK1nkZfLL"
      }
    },
    {
      "cell_type": "code",
      "source": [
        "# 이미지 경로와 카테고리 설정\n",
        "data_dir = '/content/drive/MyDrive/bottle/train/good'\n",
        "\n",
        "# 이미지 로딩 및 배열 변환\n",
        "train_image_data = []\n",
        "for img_name in os.listdir(data_dir):\n",
        "    img_path = os.path.join(data_dir, img_name)\n",
        "    img = image.load_img(img_path, target_size=(32, 32))  # 이미지를 지정된 크기로 로드합니다\n",
        "    img_array = image.img_to_array(img)  # 이미지를 배열 형태로 변환합니다\n",
        "    train_image_data.append(img_array)\n"
      ],
      "metadata": {
        "id": "VXd6758kSP2n"
      },
      "execution_count": 3,
      "outputs": []
    },
    {
      "cell_type": "code",
      "source": [
        "# 배열로 변환\n",
        "train_image_data = np.array(train_image_data)\n",
        "train_image_data = train_image_data / 255"
      ],
      "metadata": {
        "id": "d7FRmpMGSrQL"
      },
      "execution_count": 4,
      "outputs": []
    },
    {
      "cell_type": "code",
      "source": [
        "train_image_data.shape"
      ],
      "metadata": {
        "colab": {
          "base_uri": "https://localhost:8080/"
        },
        "id": "8gWjISpYT_Fx",
        "outputId": "7c7c22aa-0c24-45c3-f126-0729aaf9b25c"
      },
      "execution_count": 5,
      "outputs": [
        {
          "output_type": "execute_result",
          "data": {
            "text/plain": [
              "(209, 32, 32, 3)"
            ]
          },
          "metadata": {},
          "execution_count": 5
        }
      ]
    },
    {
      "cell_type": "code",
      "source": [
        "large_data_dir = '/content/drive/MyDrive/bottle/test/broken_large'\n",
        "small_data_dir = '/content/drive/MyDrive/bottle/test/broken_small'\n",
        "contamination_data_dir='/content/drive/MyDrive/bottle/test/contamination'\n",
        "test_data_dir = '/content/drive/MyDrive/bottle/test/good'\n",
        "\n",
        "# 이미지 로딩 및 전처리를 위한 ImageDataGenerator 생성\n",
        "from tensorflow.keras.preprocessing.image import ImageDataGenerator\n",
        "datagen = ImageDataGenerator(rescale=1./255)  # 이미지를 0과 1 사이의 값으로 정규화합니다\n",
        "\n",
        "# test 이미지 로딩 및 배열 변환\n",
        "test_image_data = []\n",
        "for img_name in os.listdir(test_data_dir):\n",
        "    img_path = os.path.join(test_data_dir, img_name)\n",
        "    img = image.load_img(img_path, target_size=(32, 32))  # 이미지를 지정된 크기로 로드합니다\n",
        "    img_array = image.img_to_array(img)  # 이미지를 배열 형태로 변환합니다\n",
        "    test_image_data.append(img_array)\n",
        "\n",
        "large_image_data = []\n",
        "for img_name in os.listdir(large_data_dir):\n",
        "    img_path = os.path.join(large_data_dir, img_name)\n",
        "    img = image.load_img(img_path, target_size=(32, 32))  # 이미지를 지정된 크기로 로드합니다\n",
        "    img_array = image.img_to_array(img)  # 이미지를 배열 형태로 변환합니다\n",
        "    large_image_data.append(img_array)\n",
        "\n",
        "small_image_data = []\n",
        "for img_name in os.listdir(small_data_dir):\n",
        "    img_path = os.path.join(small_data_dir, img_name)\n",
        "    img = image.load_img(img_path, target_size=(32, 32))  # 이미지를 지정된 크기로 로드합니다\n",
        "    img_array = image.img_to_array(img)  # 이미지를 배열 형태로 변환합니다\n",
        "    small_image_data.append(img_array)\n",
        "\n",
        "contamination_image_data = []\n",
        "for img_name in os.listdir(contamination_data_dir):\n",
        "    img_path = os.path.join(contamination_data_dir, img_name)\n",
        "    img = image.load_img(img_path, target_size=(32, 32))  # 이미지를 지정된 크기로 로드합니다\n",
        "    img_array = image.img_to_array(img)  # 이미지를 배열 형태로 변환합니다\n",
        "    contamination_image_data.append(img_array)"
      ],
      "metadata": {
        "id": "j7hpP-BQY48s"
      },
      "execution_count": 6,
      "outputs": []
    },
    {
      "cell_type": "code",
      "source": [
        "# 배열로 변환\n",
        "test_image_data = np.array(test_image_data)\n",
        "small_image_data = np.array(small_image_data)\n",
        "large_image_data = np.array(large_image_data)\n",
        "contamination_image_data = np.array(contamination_image_data)\n",
        "\n",
        "test_image_data = test_image_data / 255\n",
        "small_image_data = small_image_data / 255\n",
        "large_image_data = large_image_data / 255\n",
        "contamination_image_data = contamination_image_data / 255"
      ],
      "metadata": {
        "id": "DV758phRpRZI"
      },
      "execution_count": 7,
      "outputs": []
    },
    {
      "cell_type": "code",
      "source": [
        "test_image_data[0][16][16]"
      ],
      "metadata": {
        "colab": {
          "base_uri": "https://localhost:8080/"
        },
        "id": "RD8QJBiyowya",
        "outputId": "8527629c-c032-4858-dd66-c3e1083ac5f5"
      },
      "execution_count": 8,
      "outputs": [
        {
          "output_type": "execute_result",
          "data": {
            "text/plain": [
              "array([0.1882353 , 0.16470589, 0.2       ], dtype=float32)"
            ]
          },
          "metadata": {},
          "execution_count": 8
        }
      ]
    },
    {
      "cell_type": "markdown",
      "source": [
        "#데이터 전처리"
      ],
      "metadata": {
        "id": "ebEjDYpo1b5j"
      }
    },
    {
      "cell_type": "markdown",
      "source": [
        "크게 파손, 적게 파손, 오염된 데이터 셋 모두 augmentation을 통해 데이터의 양을 늘린 뒤에, train과 test로 분리해서 각각의 test셋에 대한 예측 후에 결과 확인"
      ],
      "metadata": {
        "id": "-3rGIGx74Au_"
      }
    },
    {
      "cell_type": "code",
      "source": [
        "#배열 변환된 데이터 셋\n",
        "\"\"\"\n",
        "train_image_data : 정상 훈련 데이터 (200)\n",
        "test_image_data : 정상 테스트 데이터 (20)\n",
        "small_image_data : 적게 파손 (20)\n",
        "large_image_data : 크게 파손 (20)\n",
        "contamination_image_data : 오염 (20)\n",
        "\"\"\""
      ],
      "metadata": {
        "id": "dKt63-sy1iJS"
      },
      "execution_count": null,
      "outputs": []
    },
    {
      "cell_type": "code",
      "source": [
        "subset_train_data = train_image_data[:50]"
      ],
      "metadata": {
        "id": "Wx7bGOXb2dRB"
      },
      "execution_count": 107,
      "outputs": []
    },
    {
      "cell_type": "code",
      "source": [
        "# 이미지 데이터 통합\n",
        "all_images = np.concatenate((subset_train_data, large_image_data, contamination_image_data), axis=0)\n",
        "\n",
        "# 이미지 리사이즈\n",
        "resized_images = []\n",
        "for image in all_images:\n",
        "    resized_image = tf.image.resize(image, (32, 32))\n",
        "    resized_images.append(resized_image)\n",
        "\n",
        "# 이미지 데이터 변환\n",
        "resized_images = np.array(resized_images)\n",
        "resized_images = resized_images.astype(np.float32)\n",
        "\n",
        "# 레이블 생성\n",
        "train_labels = np.array([[1, 0, 0]] * len(subset_train_data))  # 정상: [1, 0, 0]\n",
        "broken_labels = np.array([[0, 1, 0]] * len(large_image_data))  # 파손: [0, 1, 0]\n",
        "contamination_labels = np.array([[0, 0, 1]] * len(contamination_image_data))  # 오염: [0, 0, 1]\n",
        "\n",
        "all_labels = np.concatenate((train_labels, broken_labels, contamination_labels), axis=0)\n"
      ],
      "metadata": {
        "id": "Q7Qqi_Wm1iEB"
      },
      "execution_count": 108,
      "outputs": []
    },
    {
      "cell_type": "code",
      "source": [
        "print(resized_images.shape)\n",
        "print(all_labels.shape)"
      ],
      "metadata": {
        "colab": {
          "base_uri": "https://localhost:8080/"
        },
        "id": "8W6laGHv1q92",
        "outputId": "5af776b0-10a2-4c7c-f29e-adc6a29bd4a9"
      },
      "execution_count": 109,
      "outputs": [
        {
          "output_type": "stream",
          "name": "stdout",
          "text": [
            "(91, 32, 32, 3)\n",
            "(91, 3)\n"
          ]
        }
      ]
    },
    {
      "cell_type": "markdown",
      "source": [
        "#모델 구성 및 결과 예측"
      ],
      "metadata": {
        "id": "oCRxxFhnZa5S"
      }
    },
    {
      "cell_type": "code",
      "source": [
        "import tensorflow as tf\n",
        "from tensorflow.keras import layers, models\n",
        "\n",
        "train_labels = [[1, 0, 0],   # 첫 번째 이미지의 레이블: [정상, 파손, 오염] = [1, 0, 0]\n",
        "                [0, 1, 0],   # 두 번째 이미지의 레이블: [정상, 파손, 오염] = [0, 1, 0]\n",
        "                [0, 0, 1]]  # 세 번째 이미지의 레이블: [정상, 파손, 오염] = [0, 0, 1]\n",
        "# CNN 모델 구성\n",
        "model = models.Sequential()\n",
        "\n",
        "#Layer 1\n",
        "model.add(layers.Conv2D(32, (3, 3), activation='relu', input_shape=(32, 32, 3)))\n",
        "model.add(layers.MaxPooling2D((2, 2)))\n",
        "\n",
        "#Layer 2\n",
        "model.add(layers.Conv2D(64, (3, 3), activation='relu'))\n",
        "model.add(layers.MaxPooling2D((2, 2)))\n",
        "\n",
        "#Layer 3\n",
        "model.add(layers.Conv2D(128, (3,3), activation='relu'))\n",
        "model.add(layers.MaxPooling2D((2,2)))\n",
        "\n",
        "#1D\n",
        "model.add(layers.Flatten())\n",
        "\n",
        "#Dense\n",
        "model.add(layers.Dense(128, activation='relu'))\n",
        "model.add(layers.Dense(3, activation='softmax'))\n",
        "\n",
        "# 모델 컴파일\n",
        "model.compile(optimizer='adam', loss='categorical_crossentropy', metrics=['accuracy'])\n",
        "# 모델 요약 출력\n",
        "model.summary()"
      ],
      "metadata": {
        "colab": {
          "base_uri": "https://localhost:8080/"
        },
        "id": "fceo3IULUAmh",
        "outputId": "f8d10a3b-6418-4973-89bd-a6ccc102fba9"
      },
      "execution_count": 113,
      "outputs": [
        {
          "output_type": "stream",
          "name": "stdout",
          "text": [
            "Model: \"sequential_7\"\n",
            "_________________________________________________________________\n",
            " Layer (type)                Output Shape              Param #   \n",
            "=================================================================\n",
            " conv2d_18 (Conv2D)          (None, 30, 30, 32)        896       \n",
            "                                                                 \n",
            " max_pooling2d_18 (MaxPoolin  (None, 15, 15, 32)       0         \n",
            " g2D)                                                            \n",
            "                                                                 \n",
            " conv2d_19 (Conv2D)          (None, 13, 13, 64)        18496     \n",
            "                                                                 \n",
            " max_pooling2d_19 (MaxPoolin  (None, 6, 6, 64)         0         \n",
            " g2D)                                                            \n",
            "                                                                 \n",
            " conv2d_20 (Conv2D)          (None, 4, 4, 128)         73856     \n",
            "                                                                 \n",
            " max_pooling2d_20 (MaxPoolin  (None, 2, 2, 128)        0         \n",
            " g2D)                                                            \n",
            "                                                                 \n",
            " flatten_7 (Flatten)         (None, 512)               0         \n",
            "                                                                 \n",
            " dense_14 (Dense)            (None, 128)               65664     \n",
            "                                                                 \n",
            " dense_15 (Dense)            (None, 3)                 387       \n",
            "                                                                 \n",
            "=================================================================\n",
            "Total params: 159,299\n",
            "Trainable params: 159,299\n",
            "Non-trainable params: 0\n",
            "_________________________________________________________________\n"
          ]
        }
      ]
    },
    {
      "cell_type": "code",
      "source": [
        "# 모델 학습\n",
        "model.fit(resized_images, all_labels, epochs=20, batch_size=32)"
      ],
      "metadata": {
        "colab": {
          "base_uri": "https://localhost:8080/"
        },
        "id": "W0sh8zmok_Go",
        "outputId": "a468e003-ca67-4d6e-a99a-74e036130820"
      },
      "execution_count": 114,
      "outputs": [
        {
          "output_type": "stream",
          "name": "stdout",
          "text": [
            "Epoch 1/20\n",
            "3/3 [==============================] - 2s 8ms/step - loss: 1.0370 - accuracy: 0.5055\n",
            "Epoch 2/20\n",
            "3/3 [==============================] - 0s 7ms/step - loss: 1.0058 - accuracy: 0.5495\n",
            "Epoch 3/20\n",
            "3/3 [==============================] - 0s 6ms/step - loss: 1.0066 - accuracy: 0.5495\n",
            "Epoch 4/20\n",
            "3/3 [==============================] - 0s 6ms/step - loss: 0.9978 - accuracy: 0.5495\n",
            "Epoch 5/20\n",
            "3/3 [==============================] - 0s 7ms/step - loss: 0.9982 - accuracy: 0.5495\n",
            "Epoch 6/20\n",
            "3/3 [==============================] - 0s 11ms/step - loss: 0.9821 - accuracy: 0.5495\n",
            "Epoch 7/20\n",
            "3/3 [==============================] - 0s 7ms/step - loss: 0.9808 - accuracy: 0.5495\n",
            "Epoch 8/20\n",
            "3/3 [==============================] - 0s 7ms/step - loss: 0.9770 - accuracy: 0.5714\n",
            "Epoch 9/20\n",
            "3/3 [==============================] - 0s 6ms/step - loss: 0.9551 - accuracy: 0.5495\n",
            "Epoch 10/20\n",
            "3/3 [==============================] - 0s 7ms/step - loss: 0.9472 - accuracy: 0.5495\n",
            "Epoch 11/20\n",
            "3/3 [==============================] - 0s 6ms/step - loss: 0.9337 - accuracy: 0.5495\n",
            "Epoch 12/20\n",
            "3/3 [==============================] - 0s 7ms/step - loss: 0.9118 - accuracy: 0.5714\n",
            "Epoch 13/20\n",
            "3/3 [==============================] - 0s 7ms/step - loss: 0.8911 - accuracy: 0.6154\n",
            "Epoch 14/20\n",
            "3/3 [==============================] - 0s 7ms/step - loss: 0.8604 - accuracy: 0.5714\n",
            "Epoch 15/20\n",
            "3/3 [==============================] - 0s 6ms/step - loss: 0.8101 - accuracy: 0.6374\n",
            "Epoch 16/20\n",
            "3/3 [==============================] - 0s 7ms/step - loss: 0.7660 - accuracy: 0.6923\n",
            "Epoch 17/20\n",
            "3/3 [==============================] - 0s 6ms/step - loss: 0.7198 - accuracy: 0.7253\n",
            "Epoch 18/20\n",
            "3/3 [==============================] - 0s 8ms/step - loss: 0.6719 - accuracy: 0.7692\n",
            "Epoch 19/20\n",
            "3/3 [==============================] - 0s 7ms/step - loss: 0.6191 - accuracy: 0.7912\n",
            "Epoch 20/20\n",
            "3/3 [==============================] - 0s 7ms/step - loss: 0.6093 - accuracy: 0.7912\n"
          ]
        },
        {
          "output_type": "execute_result",
          "data": {
            "text/plain": [
              "<keras.callbacks.History at 0x7937aaee81f0>"
            ]
          },
          "metadata": {},
          "execution_count": 114
        }
      ]
    },
    {
      "cell_type": "code",
      "source": [
        "# 예측 수행\n",
        "predictions = model.predict(small_image_data)"
      ],
      "metadata": {
        "colab": {
          "base_uri": "https://localhost:8080/"
        },
        "id": "fP7_fxBJtZHm",
        "outputId": "0fb4eff4-9cd4-48f0-e0e3-5ea94612f7b9"
      },
      "execution_count": 115,
      "outputs": [
        {
          "output_type": "stream",
          "name": "stdout",
          "text": [
            "1/1 [==============================] - 0s 75ms/step\n"
          ]
        }
      ]
    },
    {
      "cell_type": "code",
      "source": [
        "# 최종 예측 레이블 생성\n",
        "predicted_labels = []\n",
        "for prediction in predictions:\n",
        "    if prediction[0] > prediction[1] and prediction[0] > prediction[2]:\n",
        "        predicted_labels.append([1, 0, 0])\n",
        "    elif prediction[1] > prediction[0] and prediction[1] > prediction[2]:\n",
        "        predicted_labels.append([0, 1, 0])\n",
        "    else:\n",
        "        predicted_labels.append([0, 0, 1])\n",
        "predicted_labels = np.array(predicted_labels)\n",
        "count = 0\n",
        "for label in predicted_labels:\n",
        "    if np.array_equal(label, [0, 1, 0]):\n",
        "        count += 1\n",
        "\n",
        "prediction_accuracy = count / len(small_image_data) * 100\n",
        "print('예측률: {}%'.format(prediction_accuracy))"
      ],
      "metadata": {
        "colab": {
          "base_uri": "https://localhost:8080/"
        },
        "id": "ezrxfTFZugf-",
        "outputId": "3379565e-ace7-40f4-b924-113dcaa7d9e0"
      },
      "execution_count": 116,
      "outputs": [
        {
          "output_type": "stream",
          "name": "stdout",
          "text": [
            "예측률: 50.0%\n"
          ]
        }
      ]
    },
    {
      "cell_type": "code",
      "source": [
        "predictions = model.predict(test_image_data)\n",
        "predicted_labels = []\n",
        "for prediction in predictions:\n",
        "    if prediction[0] > prediction[1] and prediction[0] > prediction[2]:\n",
        "        predicted_labels.append([1, 0, 0])\n",
        "    elif prediction[1] > prediction[0] and prediction[1] > prediction[2]:\n",
        "        predicted_labels.append([0, 1, 0])\n",
        "    else:\n",
        "        predicted_labels.append([0, 0, 1])\n",
        "predicted_labels = np.array(predicted_labels)\n",
        "\n",
        "count = 0\n",
        "for label in predicted_labels:\n",
        "    if np.array_equal(label, [1, 0, 0]):\n",
        "        count += 1\n",
        "\n",
        "prediction_accuracy = count / len(test_image_data) * 100\n",
        "print('예측률: {}%'.format(prediction_accuracy))\n"
      ],
      "metadata": {
        "colab": {
          "base_uri": "https://localhost:8080/"
        },
        "id": "wfOdBhlQw3Qs",
        "outputId": "32050d69-ebae-40ad-8b70-f3f0e9306152"
      },
      "execution_count": 117,
      "outputs": [
        {
          "output_type": "stream",
          "name": "stdout",
          "text": [
            "1/1 [==============================] - 0s 19ms/step\n",
            "예측률: 100.0%\n"
          ]
        }
      ]
    },
    {
      "cell_type": "code",
      "source": [],
      "metadata": {
        "id": "3lOKVSqWxFQ-"
      },
      "execution_count": null,
      "outputs": []
    }
  ]
}