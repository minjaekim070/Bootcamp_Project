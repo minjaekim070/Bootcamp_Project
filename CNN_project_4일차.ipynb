{
  "nbformat": 4,
  "nbformat_minor": 0,
  "metadata": {
    "colab": {
      "provenance": [],
      "gpuType": "T4",
      "collapsed_sections": [
        "RFSAcMEOUWgg",
        "cJuTK1nkZfLL",
        "ebEjDYpo1b5j",
        "oCRxxFhnZa5S",
        "e69uKpkSkVjl"
      ],
      "mount_file_id": "1LVpeJxuzPxCv9LZcG96L5LN4L4ftFWof",
      "authorship_tag": "ABX9TyNrxbS/Kmztx95jvSHSF8c0",
      "include_colab_link": true
    },
    "kernelspec": {
      "name": "python3",
      "display_name": "Python 3"
    },
    "language_info": {
      "name": "python"
    },
    "accelerator": "GPU"
  },
  "cells": [
    {
      "cell_type": "markdown",
      "metadata": {
        "id": "view-in-github",
        "colab_type": "text"
      },
      "source": [
        "<a href=\"https://colab.research.google.com/github/minjaekim070/Bootcamp_Project/blob/main/CNN_project_4%EC%9D%BC%EC%B0%A8.ipynb\" target=\"_parent\"><img src=\"https://colab.research.google.com/assets/colab-badge.svg\" alt=\"Open In Colab\"/></a>"
      ]
    },
    {
      "cell_type": "markdown",
      "source": [
        "전체 데이터셋의 다운로드가 오래 걸려서 bottle 폴더에 대한 내용을 우선적으로 정상/비정상으로 분류할 수 있도록 진행"
      ],
      "metadata": {
        "id": "LHt48_VyZmCp"
      }
    },
    {
      "cell_type": "markdown",
      "source": [
        "#Library import\n"
      ],
      "metadata": {
        "id": "RFSAcMEOUWgg"
      }
    },
    {
      "cell_type": "code",
      "execution_count": 2,
      "metadata": {
        "id": "fGPPV15ASMjF"
      },
      "outputs": [],
      "source": [
        "# 패키지 import\n",
        "import os\n",
        "import torch\n",
        "import torch.nn as nn\n",
        "import torch.optim as optim\n",
        "import torch.nn.functional as F\n",
        "import tensorflow as tf\n",
        "from torchvision import transforms, datasets, utils\n",
        "from torchsummary import summary\n",
        "\n",
        "import matplotlib.pyplot as plt\n",
        "import numpy as np\n",
        "\n",
        "from tensorflow.keras.preprocessing import image\n"
      ]
    },
    {
      "cell_type": "markdown",
      "source": [
        "#이미지 업로드 및 배열 변환\n"
      ],
      "metadata": {
        "id": "cJuTK1nkZfLL"
      }
    },
    {
      "cell_type": "code",
      "source": [
        "# 이미지 경로\n",
        "train_data_dir = '/content/drive/MyDrive/bottle/train/good'\n",
        "large_data_dir = '/content/drive/MyDrive/bottle/test/broken_large'\n",
        "small_data_dir = '/content/drive/MyDrive/bottle/test/broken_small'\n",
        "contamination_data_dir='/content/drive/MyDrive/bottle/test/contamination'\n",
        "test_data_dir = '/content/drive/MyDrive/bottle/test/good'\n",
        "gr_tr_large_dir = '/content/drive/MyDrive/bottle/ground_truth/broken_large'\n",
        "gr_tr_small_dir = '/content/drive/MyDrive/bottle/ground_truth/broken_small'\n",
        "gr_tr_contamination_dir = '/content/drive/MyDrive/bottle/ground_truth/contamination'"
      ],
      "metadata": {
        "id": "VXd6758kSP2n"
      },
      "execution_count": 3,
      "outputs": []
    },
    {
      "cell_type": "code",
      "source": [
        "#이미지를 데이터로 변환\n",
        "def load_image_data(image_dir):\n",
        "    image_data = []\n",
        "    for img_name in os.listdir(image_dir):\n",
        "        img_path = os.path.join(image_dir, img_name)\n",
        "        img = image.load_img(img_path, target_size=(64, 64))  # 이미지를 지정된 크기로 로드합니다\n",
        "        img_array = image.img_to_array(img)  # 이미지를 배열 형태로 변환합니다\n",
        "        image_data.append(img_array)\n",
        "    return image_data\n",
        "\n",
        "def load_data(data_dir, test_data_dir, large_data_dir, small_data_dir, contamination_data_dir):\n",
        "    train_image_data = load_image_data(data_dir)\n",
        "    test_image_data = load_image_data(test_data_dir)\n",
        "    large_image_data = load_image_data(large_data_dir)\n",
        "    small_image_data = load_image_data(small_data_dir)\n",
        "    contamination_image_data = load_image_data(contamination_data_dir)\n",
        "    return train_image_data, test_image_data, large_image_data, small_image_data, contamination_image_data\n",
        "\n",
        "train_image_data, test_image_data, large_image_data, small_image_data, contamination_image_data = load_data(train_data_dir, test_data_dir, large_data_dir, small_data_dir, contamination_data_dir)\n"
      ],
      "metadata": {
        "id": "j7hpP-BQY48s"
      },
      "execution_count": 4,
      "outputs": []
    },
    {
      "cell_type": "code",
      "source": [
        "#Segmentation용 이미지를 데이터로 변환\n",
        "def load_data(gr_tr_large_dir, gr_tr_small_dir, gr_tr_contamination_dir):\n",
        "    gr_tr_large_data = load_image_data(gr_tr_large_dir)\n",
        "    gr_tr_small_data = load_image_data(gr_tr_small_dir)\n",
        "    gr_tr_contamination_data = load_image_data(gr_tr_contamination_dir)\n",
        "    return gr_tr_large_data, gr_tr_small_data, gr_tr_contamination_data\n",
        "\n",
        "gr_tr_large_data, gr_tr_small_data, gr_tr_contamination_data = load_data(gr_tr_large_dir, gr_tr_small_dir, gr_tr_contamination_dir)\n"
      ],
      "metadata": {
        "id": "JEAdTIrRoYPE"
      },
      "execution_count": 5,
      "outputs": []
    },
    {
      "cell_type": "code",
      "source": [
        "#배열로 변환, normalization\n",
        "def preprocess_image_data(image_data):\n",
        "    return np.array(image_data) / 255\n",
        "\n",
        "train_image_data = preprocess_image_data(train_image_data)\n",
        "test_image_data = preprocess_image_data(test_image_data)\n",
        "small_image_data = preprocess_image_data(small_image_data)\n",
        "large_image_data = preprocess_image_data(large_image_data)\n",
        "contamination_image_data = preprocess_image_data(contamination_image_data)\n",
        "gr_tr_large_data = preprocess_image_data(gr_tr_large_data)\n",
        "gr_tr_small_data = preprocess_image_data(gr_tr_small_data)\n",
        "gr_tr_contamination_data = preprocess_image_data(gr_tr_contamination_data)\n"
      ],
      "metadata": {
        "id": "DV758phRpRZI"
      },
      "execution_count": 6,
      "outputs": []
    },
    {
      "cell_type": "code",
      "source": [
        "#데이터 확인\n",
        "test_image_data[0][16][16]"
      ],
      "metadata": {
        "colab": {
          "base_uri": "https://localhost:8080/"
        },
        "id": "RD8QJBiyowya",
        "outputId": "b1e84f1e-b752-4412-e2d9-43d458daa244"
      },
      "execution_count": 7,
      "outputs": [
        {
          "output_type": "execute_result",
          "data": {
            "text/plain": [
              "array([0.40392157, 0.34117648, 0.32156864], dtype=float32)"
            ]
          },
          "metadata": {},
          "execution_count": 7
        }
      ]
    },
    {
      "cell_type": "markdown",
      "source": [
        "#데이터 전처리"
      ],
      "metadata": {
        "id": "ebEjDYpo1b5j"
      }
    },
    {
      "cell_type": "markdown",
      "source": [
        "크게 파손, 적게 파손, 오염된 데이터 셋 모두 augmentation을 통해 데이터의 양을 늘린 뒤에, train과 test로 분리 후에 예측 결과 확인"
      ],
      "metadata": {
        "id": "-3rGIGx74Au_"
      }
    },
    {
      "cell_type": "code",
      "source": [
        "#배열 변환된 데이터 셋\n",
        "\"\"\"\n",
        "train_image_data : 정상 훈련 데이터 (200)\n",
        "test_image_data : 정상 테스트 데이터 (20)\n",
        "small_image_data : 적게 파손 (20)\n",
        "large_image_data : 크게 파손 (20)\n",
        "contamination_image_data : 오염 (20)\n",
        "\"\"\""
      ],
      "metadata": {
        "colab": {
          "base_uri": "https://localhost:8080/",
          "height": 36
        },
        "id": "dKt63-sy1iJS",
        "outputId": "4cfdb96f-1a31-4cd5-c7a1-de1df9ce12c4"
      },
      "execution_count": 8,
      "outputs": [
        {
          "output_type": "execute_result",
          "data": {
            "text/plain": [
              "'\\ntrain_image_data : 정상 훈련 데이터 (200)\\ntest_image_data : 정상 테스트 데이터 (20)\\nsmall_image_data : 적게 파손 (20)\\nlarge_image_data : 크게 파손 (20)\\ncontamination_image_data : 오염 (20)\\n'"
            ],
            "application/vnd.google.colaboratory.intrinsic+json": {
              "type": "string"
            }
          },
          "metadata": {},
          "execution_count": 8
        }
      ]
    },
    {
      "cell_type": "code",
      "source": [
        "#정상 데이터셋이 너무 과도하게 많기 때문에 50개 정도로 추출\n",
        "subset_train_data = train_image_data[:50]"
      ],
      "metadata": {
        "id": "Wx7bGOXb2dRB"
      },
      "execution_count": 9,
      "outputs": []
    },
    {
      "cell_type": "code",
      "source": [
        "from tensorflow.keras.preprocessing.image import ImageDataGenerator\n",
        "from PIL import Image\n",
        "\n",
        "# 이미지 데이터 증강을 위한 ImageDataGenerator 생성\n",
        "datagen = ImageDataGenerator(\n",
        "    rotation_range=20,  # 이미지 회전 범위 (0~20도 사이에서 무작위로 회전)\n",
        "    width_shift_range=0.1,  # 가로로 이미지 이동 범위 (전체 너비의 0.1 비율로 무작위로 이동)\n",
        "    height_shift_range=0.1,  # 세로로 이미지 이동 범위 (전체 높이의 0.1 비율로 무작위로 이동)\n",
        "    shear_range=0.2,  # 이미지 변형을 위한 전단 강도 (0.2 비율 내외로 무작위로 전단)\n",
        "    zoom_range=0.2,  # 이미지 확대/축소 범위 (0.2 비율 내외로 무작위로 확대/축소)\n",
        "    horizontal_flip=True,  # 이미지 수평 뒤집기\n",
        "    fill_mode='nearest'  # 이미지 변형 시 채울 픽셀 값 설정\n",
        ")\n",
        "\n",
        "# augmented 이미지 개수\n",
        "desired_num_augmented_images = 10"
      ],
      "metadata": {
        "id": "EEhWDU7i4xtP"
      },
      "execution_count": 10,
      "outputs": []
    },
    {
      "cell_type": "code",
      "source": [
        "def augment_images(image_data, desired_num_augmented_images):\n",
        "    augmented_images = []\n",
        "    num_generated_images = 0\n",
        "\n",
        "    while num_generated_images < desired_num_augmented_images:\n",
        "        image = image_data[0]\n",
        "        generated_images = datagen.flow(np.expand_dims(image, axis=0), batch_size=1)\n",
        "\n",
        "        augmented_images.extend(generated_images[0])\n",
        "        num_generated_images = len(augmented_images)\n",
        "\n",
        "    augmented_images = np.array(augmented_images[:desired_num_augmented_images])\n",
        "    return augmented_images\n",
        "\n",
        "# broken_small 이미지 증강\n",
        "augmented_small_images = augment_images(small_image_data, desired_num_augmented_images)\n",
        "\n",
        "# broken_large 이미지 증강\n",
        "augmented_large_images = augment_images(large_image_data, desired_num_augmented_images)\n",
        "\n",
        "# contamination 이미지 증강\n",
        "augmented_contamination_images = augment_images(contamination_image_data, desired_num_augmented_images)\n"
      ],
      "metadata": {
        "id": "0iCPeuJi7cTN"
      },
      "execution_count": 11,
      "outputs": []
    },
    {
      "cell_type": "code",
      "source": [
        "#데이터 개수 확인\n",
        "print(test_image_data.shape[0])\n",
        "print(small_image_data.shape[0])\n",
        "print(large_image_data.shape[0])\n",
        "print(contamination_image_data.shape[0])\n",
        "print(augmented_small_images.shape[0])\n",
        "print(augmented_large_images.shape[0])\n",
        "print(augmented_contamination_images.shape[0])"
      ],
      "metadata": {
        "colab": {
          "base_uri": "https://localhost:8080/"
        },
        "id": "lQB15CIQbTVr",
        "outputId": "81c71e80-eb0d-4dde-8c3d-fbab91c1b01f"
      },
      "execution_count": 12,
      "outputs": [
        {
          "output_type": "stream",
          "name": "stdout",
          "text": [
            "20\n",
            "22\n",
            "20\n",
            "21\n",
            "10\n",
            "10\n",
            "10\n"
          ]
        }
      ]
    },
    {
      "cell_type": "code",
      "source": [
        "#각각의 데이터와 augmented_image합친 후 shuffle\n",
        "combined_small_data = np.concatenate((small_image_data, augmented_small_images), axis=0)\n",
        "np.random.shuffle(combined_small_data)\n",
        "\n",
        "combined_large_data = np.concatenate((large_image_data, augmented_large_images), axis=0)\n",
        "np.random.shuffle(combined_large_data)\n",
        "\n",
        "combined_contamination_data = np.concatenate((contamination_image_data, augmented_contamination_images), axis=0)\n",
        "np.random.shuffle(combined_contamination_data)\n",
        "\n",
        "#적게 파손, 크게 파손 모두 파손된 데이터로 합쳐서 분류\n",
        "combined_broken_data = np.concatenate((combined_small_data, combined_large_data), axis=0)"
      ],
      "metadata": {
        "id": "2wOOGdjN9Zir"
      },
      "execution_count": 13,
      "outputs": []
    },
    {
      "cell_type": "code",
      "source": [
        "#배열 변환된 데이터 셋\n",
        "\"\"\"\n",
        "subset_train_data : 정상 훈련 데이터\n",
        "test_image_data : 정상 테스트 데이터\n",
        "combined_broken_data : augmentation 진행한 broken_small, broken_large data\n",
        "combined_contamination_data : augmentation 진행한 contamination_data\n",
        "\"\"\""
      ],
      "metadata": {
        "colab": {
          "base_uri": "https://localhost:8080/",
          "height": 54
        },
        "id": "SDoJqPe49z30",
        "outputId": "17ef6f88-8bdf-4abe-c16f-8d7658befdcb"
      },
      "execution_count": 14,
      "outputs": [
        {
          "output_type": "execute_result",
          "data": {
            "text/plain": [
              "'\\nsubset_train_data : 정상 훈련 데이터\\ntest_image_data : 정상 테스트 데이터\\ncombined_broken_data : augmentation 진행한 broken_small, broken_large data\\ncombined_contamination_data : augmentation 진행한 contamination_data\\n'"
            ],
            "application/vnd.google.colaboratory.intrinsic+json": {
              "type": "string"
            }
          },
          "metadata": {},
          "execution_count": 14
        }
      ]
    },
    {
      "cell_type": "code",
      "source": [
        "#Train set 구성\n",
        "\n",
        "# 데이터 개수 구하기\n",
        "broken_num_samples = combined_broken_data.shape[0]\n",
        "contamination_num_samples = combined_contamination_data.shape[0]\n",
        "\n",
        "# 90%의 데이터 개수 계산\n",
        "b_90 = int(0.90 * broken_num_samples)\n",
        "c_90 = int(0.90 * contamination_num_samples)\n",
        "\n",
        "# 90% 데이터 추출\n",
        "b_new_data = combined_broken_data[:b_90]\n",
        "c_new_data = combined_contamination_data[:c_90]\n",
        "\n",
        "# subset_train_data와 combined_small_data 합치기\n",
        "resized_images = np.concatenate((subset_train_data, b_new_data, c_new_data), axis=0)"
      ],
      "metadata": {
        "id": "VRjNygNAPeeG"
      },
      "execution_count": 15,
      "outputs": []
    },
    {
      "cell_type": "code",
      "source": [
        "all_labels = []\n",
        "for i in range(0,subset_train_data.shape[0]):\n",
        "  all_labels.append([1,0,0])\n",
        "for j in range(0,b_new_data.shape[0]):\n",
        "  all_labels.append([0,1,0])\n",
        "for k in range(0,c_new_data.shape[0]):\n",
        "  all_labels.append([0,0,1])\n",
        "all_labels = np.array(all_labels)"
      ],
      "metadata": {
        "id": "gNtqeDd9S4bh"
      },
      "execution_count": 16,
      "outputs": []
    },
    {
      "cell_type": "code",
      "source": [
        "#Test set 구성\n",
        "b_test_data = combined_broken_data[b_90:]\n",
        "c_test_data = combined_contamination_data[c_90:]\n",
        "test_set_data = np.concatenate((test_image_data, b_test_data, c_test_data),axis=0)\n",
        "\n",
        "test_labels = []\n",
        "for i in range(0,test_image_data.shape[0]):\n",
        "  test_labels.append([1,0,0])\n",
        "for j in range(0,b_test_data.shape[0]):\n",
        "  test_labels.append([0,1,0])\n",
        "for k in range(0,c_test_data.shape[0]):\n",
        "  test_labels.append([0,0,1])\n",
        "test_labels = np.array(test_labels)"
      ],
      "metadata": {
        "id": "QYmTL5NbSbsS"
      },
      "execution_count": 17,
      "outputs": []
    },
    {
      "cell_type": "code",
      "source": [
        "#최종 데이터셋 shape 확인\n",
        "print(resized_images.shape)\n",
        "print(all_labels.shape)\n",
        "print(test_set_data.shape)\n",
        "print(test_labels.shape)"
      ],
      "metadata": {
        "colab": {
          "base_uri": "https://localhost:8080/"
        },
        "id": "8W6laGHv1q92",
        "outputId": "b211f7ff-451c-4294-ef3b-52c70a35cfb3"
      },
      "execution_count": 18,
      "outputs": [
        {
          "output_type": "stream",
          "name": "stdout",
          "text": [
            "(132, 64, 64, 3)\n",
            "(132, 3)\n",
            "(31, 64, 64, 3)\n",
            "(31, 3)\n"
          ]
        }
      ]
    },
    {
      "cell_type": "markdown",
      "source": [
        "#모델 구성 및 결과 예측"
      ],
      "metadata": {
        "id": "oCRxxFhnZa5S"
      }
    },
    {
      "cell_type": "code",
      "source": [
        "from sklearn.model_selection import GridSearchCV\n",
        "from tensorflow.keras.wrappers.scikit_learn import KerasClassifier\n",
        "from tensorflow.keras.models import Sequential\n",
        "\n",
        "\n",
        "# CNN 모델을 함수 형태로 정의\n",
        "def create_model():\n",
        "    model = Sequential()\n",
        "    model.add(layers.Conv2D(64, (3, 3), activation='relu', input_shape=(64, 64, 3)))\n",
        "    model.add(layers.MaxPooling2D((2, 2)))\n",
        "    model.add(layers.Conv2D(128, (3, 3), activation='relu'))\n",
        "    model.add(layers.MaxPooling2D((2, 2)))\n",
        "    model.add(layers.Conv2D(256, (3,3), activation='relu'))\n",
        "    model.add(layers.MaxPooling2D((2,2)))\n",
        "    model.add(layers.Flatten())\n",
        "    model.add(layers.Dense(256, activation='relu'))\n",
        "    model.add(layers.Dense(64, activation='relu'))\n",
        "    model.add(layers.Dense(3, activation='softmax'))\n",
        "    model.compile(optimizer='adam', loss='categorical_crossentropy', metrics=['accuracy'])\n",
        "    return model\n",
        "\n",
        "# KerasClassifier를 사용하여 Keras 모델을 래핑\n",
        "keras_model = KerasClassifier(build_fn=create_model)\n",
        "\n",
        "# 그리드 탐색을 위한 hyperparameter 조합 설정\n",
        "param_grid = {\n",
        "    'batch_size': [32, 64],\n",
        "    'epochs': [10, 20, 30]\n",
        "}\n",
        "\n",
        "# GridSearchCV를 사용하여 그리드 탐색 수행\n",
        "grid_search = GridSearchCV(estimator=keras_model, param_grid=param_grid, cv=3)\n",
        "grid_search_result = grid_search.fit(resized_images, all_labels)\n",
        "\n",
        "# 최적의 hyperparameter 조합과 결과 출력\n",
        "print(\"Best Score: \", grid_search_result.best_score_)\n",
        "print(\"Best Params: \", grid_search_result.best_params_)"
      ],
      "metadata": {
        "id": "8uxcxVvoihHk"
      },
      "execution_count": null,
      "outputs": []
    },
    {
      "cell_type": "markdown",
      "source": [
        "Best Params:  {'batch_size': 64, 'epochs': 30} 으로 확인했지만 accuracy 값을 봤을 때 과적합이 발생했을 확률이 굉장히 높다고 판단되기 떄문에 {'batch_size': 64, 'epochs': 15}로 모델학습"
      ],
      "metadata": {
        "id": "qyC0Ee9Wur2O"
      }
    },
    {
      "cell_type": "code",
      "source": [
        "model = Sequential()\n",
        "model.add(layers.Conv2D(64, (3, 3), activation='relu', input_shape=(64, 64, 3)))\n",
        "model.add(layers.MaxPooling2D((2, 2)))\n",
        "model.add(layers.Conv2D(128, (3, 3), activation='relu'))\n",
        "model.add(layers.MaxPooling2D((2, 2)))\n",
        "model.add(layers.Conv2D(256, (3,3), activation='relu'))\n",
        "model.add(layers.MaxPooling2D((2,2)))\n",
        "model.add(layers.Flatten())\n",
        "model.add(layers.Dense(256, activation='relu'))\n",
        "model.add(layers.Dense(64, activation='relu'))\n",
        "model.add(layers.Dense(3, activation='softmax'))\n",
        "model.compile(optimizer='adam', loss='categorical_crossentropy', metrics=['accuracy'])\n",
        "\n",
        "#모델 학습\n",
        "model.fit(resized_images, all_labels, epochs=15, batch_size=64, verbose=1)\n",
        "\n",
        "model.save('mnist_cnn,h5')"
      ],
      "metadata": {
        "colab": {
          "base_uri": "https://localhost:8080/"
        },
        "id": "CUEIRyTf0fxw",
        "outputId": "79f12db1-df86-4117-f9c1-45700cb2bddd"
      },
      "execution_count": 19,
      "outputs": [
        {
          "output_type": "stream",
          "name": "stdout",
          "text": [
            "Epoch 1/15\n",
            "3/3 [==============================] - 3s 100ms/step - loss: 1.0970 - accuracy: 0.3182\n",
            "Epoch 2/15\n",
            "3/3 [==============================] - 0s 14ms/step - loss: 1.0496 - accuracy: 0.4318\n",
            "Epoch 3/15\n",
            "3/3 [==============================] - 0s 13ms/step - loss: 1.0613 - accuracy: 0.3864\n",
            "Epoch 4/15\n",
            "3/3 [==============================] - 0s 14ms/step - loss: 1.0535 - accuracy: 0.4167\n",
            "Epoch 5/15\n",
            "3/3 [==============================] - 0s 13ms/step - loss: 1.0608 - accuracy: 0.4167\n",
            "Epoch 6/15\n",
            "3/3 [==============================] - 0s 13ms/step - loss: 1.0584 - accuracy: 0.5152\n",
            "Epoch 7/15\n",
            "3/3 [==============================] - 0s 13ms/step - loss: 1.0434 - accuracy: 0.4924\n",
            "Epoch 8/15\n",
            "3/3 [==============================] - 0s 14ms/step - loss: 0.9991 - accuracy: 0.5833\n",
            "Epoch 9/15\n",
            "3/3 [==============================] - 0s 13ms/step - loss: 1.0307 - accuracy: 0.6439\n",
            "Epoch 10/15\n",
            "3/3 [==============================] - 0s 13ms/step - loss: 0.9908 - accuracy: 0.7500\n",
            "Epoch 11/15\n",
            "3/3 [==============================] - 0s 14ms/step - loss: 0.8891 - accuracy: 0.7348\n",
            "Epoch 12/15\n",
            "3/3 [==============================] - 0s 13ms/step - loss: 0.7704 - accuracy: 0.7424\n",
            "Epoch 13/15\n",
            "3/3 [==============================] - 0s 14ms/step - loss: 0.7552 - accuracy: 0.7121\n",
            "Epoch 14/15\n",
            "3/3 [==============================] - 0s 13ms/step - loss: 0.5752 - accuracy: 0.7803\n",
            "Epoch 15/15\n",
            "3/3 [==============================] - 0s 12ms/step - loss: 0.5481 - accuracy: 0.7803\n"
          ]
        },
        {
          "output_type": "stream",
          "name": "stderr",
          "text": [
            "WARNING:absl:Found untraced functions such as _jit_compiled_convolution_op, _jit_compiled_convolution_op, _jit_compiled_convolution_op while saving (showing 3 of 3). These functions will not be directly callable after loading.\n"
          ]
        }
      ]
    },
    {
      "cell_type": "code",
      "source": [
        "# test set에 대한 예측 수행\n",
        "predictions = model.predict(test_set_data)\n",
        "\n",
        "# 최종 예측 레이블 생성\n",
        "predicted_labels = []\n",
        "for prediction in predictions:\n",
        "    if prediction[0] > prediction[1] and prediction[0] > prediction[2]:\n",
        "        predicted_labels.append([1, 0, 0])\n",
        "    elif prediction[1] > prediction[0] and prediction[1] > prediction[2]:\n",
        "        predicted_labels.append([0, 1, 0])\n",
        "    else:\n",
        "        predicted_labels.append([0, 0, 1])\n",
        "predicted_labels = np.array(predicted_labels)\n",
        "\n",
        "#예측률 확인\n",
        "count = 0\n",
        "for i in range(0,predicted_labels.shape[0]):\n",
        "  if np.array_equal(predicted_labels[i], test_labels[i]):\n",
        "        count += 1\n",
        "\n",
        "prediction_accuracy = count / predicted_labels.shape[0] * 100\n",
        "print('test set에 대한 예측률: {}%'.format(prediction_accuracy))\n"
      ],
      "metadata": {
        "colab": {
          "base_uri": "https://localhost:8080/"
        },
        "id": "85n1g-3NpU8h",
        "outputId": "9ad50786-15cc-4103-bbdf-a5f2c4b5d1a6"
      },
      "execution_count": null,
      "outputs": [
        {
          "output_type": "stream",
          "name": "stdout",
          "text": [
            "1/1 [==============================] - 0s 236ms/step\n",
            "test set에 대한 예측률: 87.09677419354838%\n"
          ]
        }
      ]
    },
    {
      "cell_type": "code",
      "source": [
        "#원본 데이터에 대한 예측 및 평가 함수\n",
        "def predict_and_evaluate(model, data, target_labels):\n",
        "    predictions = model.predict(data)\n",
        "\n",
        "    predicted_labels = []\n",
        "    for prediction in predictions:\n",
        "        if prediction[0] > prediction[1] and prediction[0] > prediction[2]:\n",
        "            predicted_labels.append([1, 0, 0])\n",
        "        elif prediction[1] > prediction[0] and prediction[1] > prediction[2]:\n",
        "            predicted_labels.append([0, 1, 0])\n",
        "        else:\n",
        "            predicted_labels.append([0, 0, 1])\n",
        "    predicted_labels = np.array(predicted_labels)\n",
        "\n",
        "    count = 0\n",
        "    for i in range(predicted_labels.shape[0]):\n",
        "        if np.array_equal(predicted_labels[i], target_labels):\n",
        "            count += 1\n",
        "\n",
        "    prediction_accuracy = count / predicted_labels.shape[0] * 100\n",
        "    return prediction_accuracy"
      ],
      "metadata": {
        "id": "af_Jb-MQopKh"
      },
      "execution_count": null,
      "outputs": []
    },
    {
      "cell_type": "code",
      "source": [
        "#원본 데이터에 대한 예측 및 정확도 평가\n",
        "\n",
        "# broken_large\n",
        "accuracy_large = predict_and_evaluate(model, large_image_data, [0, 1, 0])\n",
        "print('broken_large에 대한 예측률: {}%'.format(accuracy_large))\n",
        "\n",
        "# broken_small\n",
        "accuracy_small = predict_and_evaluate(model, small_image_data, [0, 1, 0])\n",
        "print('broken_small에 대한 예측률: {}%'.format(accuracy_small))\n",
        "\n",
        "#contamination\n",
        "accuracy_contamination = predict_and_evaluate(model, contamination_image_data, [0,0,1])\n",
        "print('contamination에 대한 예측률:{}%'.format(accuracy_contamination))"
      ],
      "metadata": {
        "colab": {
          "base_uri": "https://localhost:8080/"
        },
        "id": "sQQdEy6FosR6",
        "outputId": "5c6430f6-698b-4576-873e-4faf0348d1f4"
      },
      "execution_count": null,
      "outputs": [
        {
          "output_type": "stream",
          "name": "stdout",
          "text": [
            "1/1 [==============================] - 0s 115ms/step\n",
            "broken_large에 대한 예측률: 100.0%\n",
            "1/1 [==============================] - 0s 128ms/step\n",
            "broken_small에 대한 예측률: 77.27272727272727%\n",
            "1/1 [==============================] - 0s 126ms/step\n",
            "contamination에 대한 예측률:0.0%\n"
          ]
        }
      ]
    },
    {
      "cell_type": "markdown",
      "source": [
        "#Image Segmentation\n"
      ],
      "metadata": {
        "id": "e69uKpkSkVjl"
      }
    },
    {
      "cell_type": "code",
      "source": [
        "!pip install -q git+https://github.com/tensorflow/examples.git"
      ],
      "metadata": {
        "colab": {
          "base_uri": "https://localhost:8080/"
        },
        "id": "Ij3W21vwvL57",
        "outputId": "85ed316e-e745-44a3-adce-aca8ab0ca223"
      },
      "execution_count": null,
      "outputs": [
        {
          "output_type": "stream",
          "name": "stdout",
          "text": [
            "  Preparing metadata (setup.py) ... \u001b[?25l\u001b[?25hdone\n",
            "  Building wheel for tensorflow-examples (setup.py) ... \u001b[?25l\u001b[?25hdone\n"
          ]
        }
      ]
    },
    {
      "cell_type": "code",
      "source": [
        "# U-Net model\n",
        "# coded by st.watermelon\n",
        "#https://pasus.tistory.com/204 링\n",
        "import tensorflow as tf\n",
        "from tensorflow.keras.layers import Conv2D, MaxPooling2D, Conv2DTranspose\n",
        "from tensorflow.keras.layers import Activation, BatchNormalization, Concatenate\n"
      ],
      "metadata": {
        "id": "s6HjktPQvHJk"
      },
      "execution_count": null,
      "outputs": []
    },
    {
      "cell_type": "code",
      "source": [
        "#배열 변환된 ground_truth 이미지\n",
        "\"\"\"\n",
        "gr_tr_large_data : ground_truth 데이터 (20)\n",
        "gr_tr_small_data : ground_truth 데이터 (22)\n",
        "gr_tr_contamination_data : ground_truth 데이터 (21)\n",
        "large_image_data : 크게 파손 (20)\n",
        "small_image_data : 적게 파손 (22)\n",
        "contamination_image_data : 오염 (21)\n",
        "\"\"\""
      ],
      "metadata": {
        "id": "-AziH72yqVv3"
      },
      "execution_count": null,
      "outputs": []
    },
    {
      "cell_type": "code",
      "source": [
        "#train, test set 분리\n",
        "gr_tr_large_80,gr_tr_small_80, gr_tr_conta_80  = 16, 17, 17\n",
        "gr_tr_train_set = np.concatenate((gr_tr_large_data[:gr_tr_large_80], gr_tr_small_data[:gr_tr_small_80], gr_tr_contamination_data[:gr_tr_conta_80]),axis=0)\n",
        "gr_tr_test_set = np.concatenate((gr_tr_large_data[gr_tr_large_80:], gr_tr_small_data[gr_tr_small_80:], gr_tr_contamination_data[gr_tr_conta_80:]),axis=0)\n",
        "train_image_set = np.concatenate((large_image_data[:gr_tr_large_80], small_image_data[:gr_tr_small_80], contamination_image_data[:gr_tr_conta_80]),axis=0)\n",
        "test_image_set = np.concatenate((large_image_data[gr_tr_large_80:], small_image_data[gr_tr_small_80:], contamination_image_data[gr_tr_conta_80:]),axis=0)"
      ],
      "metadata": {
        "id": "IcTTybkDBoz2"
      },
      "execution_count": null,
      "outputs": []
    },
    {
      "cell_type": "code",
      "source": [
        "print(gr_tr_train_set.shape, gr_tr_test_set.shape, train_image_set.shape, test_image_set.shape)"
      ],
      "metadata": {
        "colab": {
          "base_uri": "https://localhost:8080/"
        },
        "id": "UgGPVE5uqaAX",
        "outputId": "5d1ffee4-4b57-4300-bdf6-316dc353ad1f"
      },
      "execution_count": null,
      "outputs": [
        {
          "output_type": "stream",
          "name": "stdout",
          "text": [
            "(50, 64, 64, 3) (13, 64, 64, 3) (50, 64, 64, 3) (13, 64, 64, 3)\n"
          ]
        }
      ]
    },
    {
      "cell_type": "code",
      "source": [
        "#Train, Test set\n",
        "\"\"\"\n",
        "gr_tr_train_set, train_image_set : train (50)\n",
        "gr_tr_test_set, test_image_set : test (13)\n",
        "\"\"\""
      ],
      "metadata": {
        "id": "5w_FsNLVE8IU"
      },
      "execution_count": null,
      "outputs": []
    },
    {
      "cell_type": "code",
      "source": [
        "#이미지, ground_truth 확인\n",
        "def plot_image(image):\n",
        "    plt.imshow(image)\n",
        "    plt.axis('off')\n",
        "    plt.show()\n",
        "# gr_tr_large_data와 large_image_data 이미지 동시 plot\n",
        "plot_image(gr_tr_large_data[0])\n",
        "plot_image(large_image_data[0])"
      ],
      "metadata": {
        "id": "3S10jMS3s5CL"
      },
      "execution_count": null,
      "outputs": []
    },
    {
      "cell_type": "code",
      "source": [
        "########################################################\n",
        "\"\"\" Conv Block \"\"\"\n",
        "class ConvBlock(tf.keras.layers.Layer):\n",
        "    def __init__(self, n_filters):\n",
        "        super(ConvBlock, self).__init__()\n",
        "\n",
        "        self.conv1 = Conv2D(n_filters, 3, padding='same')\n",
        "        self.conv2 = Conv2D(n_filters, 3, padding='same')\n",
        "\n",
        "        self.bn1 = BatchNormalization()\n",
        "        self.bn2 = BatchNormalization()\n",
        "\n",
        "        self.activation = Activation('relu')\n",
        "\n",
        "    def call(self, inputs):\n",
        "        x = self.conv1(inputs)\n",
        "        x = self.bn1(x)\n",
        "        x = self.activation(x)\n",
        "\n",
        "        x = self.conv2(x)\n",
        "        x = self.bn2(x)\n",
        "        x = self.activation(x)\n",
        "\n",
        "        return x\n",
        "\n",
        "########################################################\n",
        "\"\"\" Encoder Block \"\"\"\n",
        "class EncoderBlock(tf.keras.layers.Layer):\n",
        "    def __init__(self, n_filters):\n",
        "        super(EncoderBlock, self).__init__()\n",
        "\n",
        "        self.conv_blk = ConvBlock(n_filters)\n",
        "        self.pool = MaxPooling2D((2,2))\n",
        "\n",
        "    def call(self, inputs):\n",
        "        x = self.conv_blk(inputs)\n",
        "        p = self.pool(x)\n",
        "        return x, p\n",
        "\n",
        "########################################################\n",
        "\"\"\" Decoder Block \"\"\"\n",
        "class DecoderBlock(tf.keras.layers.Layer):\n",
        "    def __init__(self, n_filters):\n",
        "        super(DecoderBlock, self).__init__()\n",
        "\n",
        "        self.up = Conv2DTranspose(n_filters, (2,2), strides=2, padding='same')\n",
        "        self.conv_blk = ConvBlock(n_filters)\n",
        "\n",
        "    def call(self, inputs, skip):\n",
        "        x = self.up(inputs)\n",
        "        x = Concatenate()([x, skip])\n",
        "        x = self.conv_blk(x)\n",
        "\n",
        "        return x\n",
        "\n",
        "########################################################\n",
        "\"\"\" U-Net Model \"\"\"\n",
        "class UNET(tf.keras.Model):\n",
        "    def __init__(self, n_classes):\n",
        "        super(UNET, self).__init__()\n",
        "\n",
        "        # Encoder\n",
        "        self.e1 = EncoderBlock(64)\n",
        "        self.e2 = EncoderBlock(128)\n",
        "        self.e3 = EncoderBlock(256)\n",
        "        self.e4 = EncoderBlock(512)\n",
        "\n",
        "        # Bridge\n",
        "        self.b = ConvBlock(1024)\n",
        "\n",
        "        # Decoder\n",
        "        self.d1 = DecoderBlock(512)\n",
        "        self.d2 = DecoderBlock(256)\n",
        "        self.d3 = DecoderBlock(128)\n",
        "        self.d4 = DecoderBlock(64)\n",
        "\n",
        "        # Outputs\n",
        "        if n_classes == 1:\n",
        "            activation = 'sigmoid'\n",
        "        else:\n",
        "            activation = 'softmax'\n",
        "\n",
        "        self.outputs = Conv2D(n_classes, 1, padding='same', activation=activation)\n",
        "\n",
        "    def call(self, inputs):\n",
        "        s1, p1 = self.e1(inputs)\n",
        "        s2, p2 = self.e2(p1)\n",
        "        s3, p3 = self.e3(p2)\n",
        "        s4, p4 = self.e4(p3)\n",
        "\n",
        "        b = self.b(p4)\n",
        "\n",
        "        d1 = self.d1(b, s4)\n",
        "        d2 = self.d2(d1, s3)\n",
        "        d3 = self.d3(d2, s2)\n",
        "        d4 = self.d4(d3, s1)\n",
        "\n",
        "        outputs = self.outputs(d4)\n",
        "\n",
        "        return outputs"
      ],
      "metadata": {
        "id": "AdAuA8u1vl-5"
      },
      "execution_count": null,
      "outputs": []
    },
    {
      "cell_type": "code",
      "source": [
        "# U-Net Model\n",
        "class UNET(tf.keras.Model):\n",
        "    # U-Net 모델 구현 (이전 설명의 코드 활용)\n",
        "\n",
        "  # 학습 데이터와 검증 데이터로 분할\n",
        "  train_data = (train_image_set, gr_tr_train_set)\n",
        "  val_data = (test_image_set, gr_tr_test_set)\n",
        "\n",
        "  # 모델 인스턴스화\n",
        "  model = UNET(n_classes)\n",
        "\n",
        "  # 손실 함수 및 최적화 알고리즘 설정\n",
        "  loss_fn = tf.keras.losses.CategoricalCrossentropy()\n",
        "  optimizer = tf.keras.optimizers.Adam()\n",
        "\n",
        "  # 메트릭 설정 (선택 사항)\n",
        "  metrics = [tf.keras.metrics.CategoricalAccuracy(), tf.keras.metrics.MeanIoU(n_classes)]\n",
        "\n",
        "  # 모델 컴파일\n",
        "  model.compile(optimizer=optimizer, loss=loss_fn, metrics=metrics)\n",
        "\n",
        "  # 모델 학습\n",
        "  epochs = 15\n",
        "  batch_size = 16\n",
        "  model.fit(train_data[0], train_data[1], validation_data=(val_data[0], val_data[1]), batch_size=batch_size, epochs=epochs)\n",
        "\n",
        "\n",
        "  # 모델 평가\n",
        "  loss, accuracy, mean_iou = model.evaluate(test_image_set, gr_tr_test_set)\n",
        "  print(\"Test Loss:\", loss)\n",
        "  print(\"Test Accuracy:\", accuracy)\n",
        "  print(\"Test Mean IoU:\", mean_iou)\n",
        "\n",
        "\n",
        "  #########################################################################################################\n",
        "  # 테스트 세트 예측\n",
        "  predicted_masks = model.predict(test_image_set)\n",
        "\n",
        "  # 시각화를 위해 테스트 세트의 이미지 데이터, 예측된 마스크, 실제 마스크를 가져옴\n",
        "  images = test_image_set\n",
        "  predicted_masks = np.argmax(predicted_masks, axis=-1)  # 다중 클래스 예측 결과를 클래스 인덱스로 변환\n",
        "  ground_truth_masks = gr_tr_test_set\n",
        "\n",
        "  # 테스트 세트의 이미지, 예측된 마스크, 실제 마스크 시각화\n",
        "  num_samples = images.shape[0]\n",
        "\n",
        "  plt.figure(figsize=(15, 5))\n",
        "  for i in range(num_samples):\n",
        "      plt.subplot(1, num_samples, i + 1)\n",
        "      plt.imshow(images[i])\n",
        "      plt.title('Sample {}'.format(i + 1))\n",
        "      plt.axis('off')\n",
        "  plt.show()\n",
        "\n",
        "  # 각 subplot 간의 간격을 조절\n",
        "  plt.subplots_adjust(wspace=0.5)\n",
        "  plt.show()\n",
        "\n",
        "  plt.figure(figsize=(15, 5))\n",
        "  for i in range(num_samples):\n",
        "      plt.subplot(1, num_samples, i + 1)\n",
        "      plt.imshow(predicted_masks[i], cmap='gray')\n",
        "      plt.title('Predicted Mask {}'.format(i + 1))\n",
        "      plt.axis('off')\n",
        "  plt.tight_layout()\n",
        "  plt.show()\n",
        "\n",
        "  # 각 subplot 간의 간격을 조절\n",
        "  plt.subplots_adjust(wspace=0.5)\n",
        "  plt.show()\n",
        "\n",
        "\n",
        "  plt.figure(figsize=(15, 5))\n",
        "  for i in range(num_samples):\n",
        "      plt.subplot(1, num_samples, i + 1)\n",
        "      plt.imshow(ground_truth_masks[i], cmap='gray')\n",
        "      plt.title('Ground Truth Mask {}'.format(i + 1))\n",
        "      plt.axis('off')\n",
        "  plt.tight_layout()\n",
        "  plt.show()\n"
      ],
      "metadata": {
        "colab": {
          "base_uri": "https://localhost:8080/",
          "height": 1000
        },
        "id": "_jZQZOyIDLHf",
        "outputId": "9ffca931-008d-4a01-90df-4a279b863bea"
      },
      "execution_count": null,
      "outputs": [
        {
          "output_type": "stream",
          "name": "stdout",
          "text": [
            "Epoch 1/15\n",
            "4/4 [==============================] - 16s 329ms/step - loss: 0.2724 - categorical_accuracy: 0.4332 - mean_io_u_14: 0.4616 - val_loss: 0.2425 - val_categorical_accuracy: 0.1413 - val_mean_io_u_14: 0.4632\n",
            "Epoch 2/15\n",
            "4/4 [==============================] - 0s 84ms/step - loss: 0.2574 - categorical_accuracy: 0.4495 - mean_io_u_14: 0.4616 - val_loss: 0.2426 - val_categorical_accuracy: 0.1331 - val_mean_io_u_14: 0.4632\n",
            "Epoch 3/15\n",
            "4/4 [==============================] - 0s 84ms/step - loss: 0.2552 - categorical_accuracy: 0.4182 - mean_io_u_14: 0.4616 - val_loss: 0.2552 - val_categorical_accuracy: 0.3238 - val_mean_io_u_14: 0.4632\n",
            "Epoch 4/15\n",
            "4/4 [==============================] - 0s 83ms/step - loss: 0.2553 - categorical_accuracy: 0.4568 - mean_io_u_14: 0.4616 - val_loss: 2.6269 - val_categorical_accuracy: 0.4931 - val_mean_io_u_14: 0.4715\n",
            "Epoch 5/15\n",
            "4/4 [==============================] - 0s 82ms/step - loss: 0.2560 - categorical_accuracy: 0.3707 - mean_io_u_14: 0.4616 - val_loss: 60.4721 - val_categorical_accuracy: 0.7488 - val_mean_io_u_14: 0.3805\n",
            "Epoch 6/15\n",
            "4/4 [==============================] - 0s 82ms/step - loss: 0.2559 - categorical_accuracy: 0.5486 - mean_io_u_14: 0.4616 - val_loss: 187.3151 - val_categorical_accuracy: 0.2722 - val_mean_io_u_14: 0.3539\n",
            "Epoch 7/15\n",
            "4/4 [==============================] - 0s 95ms/step - loss: 0.2581 - categorical_accuracy: 0.6540 - mean_io_u_14: 0.4616 - val_loss: 708.2841 - val_categorical_accuracy: 0.0361 - val_mean_io_u_14: 0.3498\n",
            "Epoch 8/15\n",
            "4/4 [==============================] - 0s 87ms/step - loss: 0.2560 - categorical_accuracy: 0.7684 - mean_io_u_14: 0.4616 - val_loss: 1278.4102 - val_categorical_accuracy: 0.0000e+00 - val_mean_io_u_14: 0.3504\n",
            "Epoch 9/15\n",
            "4/4 [==============================] - 0s 84ms/step - loss: 0.2557 - categorical_accuracy: 0.7300 - mean_io_u_14: 0.4616 - val_loss: 1510.4817 - val_categorical_accuracy: 0.0171 - val_mean_io_u_14: 0.3505\n",
            "Epoch 10/15\n",
            "4/4 [==============================] - 0s 83ms/step - loss: 0.2555 - categorical_accuracy: 0.7028 - mean_io_u_14: 0.4616 - val_loss: 878.3418 - val_categorical_accuracy: 0.0330 - val_mean_io_u_14: 0.3502\n",
            "Epoch 11/15\n",
            "4/4 [==============================] - 0s 96ms/step - loss: 0.2552 - categorical_accuracy: 0.6500 - mean_io_u_14: 0.4616 - val_loss: 1094.8882 - val_categorical_accuracy: 0.1644 - val_mean_io_u_14: 0.3506\n",
            "Epoch 12/15\n",
            "4/4 [==============================] - 0s 83ms/step - loss: 0.2551 - categorical_accuracy: 0.5844 - mean_io_u_14: 0.4616 - val_loss: 1515.9342 - val_categorical_accuracy: 0.2937 - val_mean_io_u_14: 0.3505\n",
            "Epoch 13/15\n",
            "4/4 [==============================] - 0s 83ms/step - loss: 0.2558 - categorical_accuracy: 0.6299 - mean_io_u_14: 0.4616 - val_loss: 1428.9507 - val_categorical_accuracy: 0.7159 - val_mean_io_u_14: 0.3520\n",
            "Epoch 14/15\n",
            "4/4 [==============================] - 0s 82ms/step - loss: 0.2551 - categorical_accuracy: 0.6950 - mean_io_u_14: 0.4616 - val_loss: 767.8343 - val_categorical_accuracy: 0.8328 - val_mean_io_u_14: 0.3529\n",
            "Epoch 15/15\n",
            "4/4 [==============================] - 0s 96ms/step - loss: 0.2548 - categorical_accuracy: 0.7767 - mean_io_u_14: 0.4616 - val_loss: 250.3910 - val_categorical_accuracy: 0.8655 - val_mean_io_u_14: 0.3645\n",
            "1/1 [==============================] - 0s 52ms/step - loss: 250.3910 - categorical_accuracy: 0.8655 - mean_io_u_14: 0.3645\n",
            "Test Loss: 250.39100646972656\n",
            "Test Accuracy: 0.8655348420143127\n",
            "Test Mean IoU: 0.36450934410095215\n",
            "1/1 [==============================] - 1s 504ms/step\n"
          ]
        },
        {
          "output_type": "display_data",
          "data": {
            "text/plain": [
              "<Figure size 1500x500 with 13 Axes>"
            ],
            "image/png": "[encoded data removed]"
          },
          "metadata": {}
        },
        {
          "output_type": "display_data",
          "data": {
            "text/plain": [
              "<Figure size 640x480 with 0 Axes>"
            ]
          },
          "metadata": {}
        },
        {
          "output_type": "display_data",
          "data": {
            "text/plain": [
              "<Figure size 1500x500 with 13 Axes>"
            ],
            "image/png": "[encoded data removed]"
          },
          "metadata": {}
        },
        {
          "output_type": "display_data",
          "data": {
            "text/plain": [
              "<Figure size 640x480 with 0 Axes>"
            ]
          },
          "metadata": {}
        },
        {
          "output_type": "display_data",
          "data": {
            "text/plain": [
              "<Figure size 1500x500 with 13 Axes>"
            ],
            "image/png": "[encoded data removed]"
          },
          "metadata": {}
        }
      ]
    },
    {
      "cell_type": "code",
      "source": [],
      "metadata": {
        "id": "QILj4Hws5U8P"
      },
      "execution_count": null,
      "outputs": []
    },
    {
      "cell_type": "markdown",
      "source": [
        "#FastAPI"
      ],
      "metadata": {
        "id": "8q1iwPdyjLfP"
      }
    },
    {
      "cell_type": "code",
      "source": [
        "!pip install fastapi\n",
        "!pip install uvicorn\n",
        "!pip install pyngrok\n",
        "!pip install python-multipart"
      ],
      "metadata": {
        "colab": {
          "base_uri": "https://localhost:8080/"
        },
        "id": "eHqMl8wtoKea",
        "outputId": "75a50f6b-0858-425d-ee5b-7644062a25fc"
      },
      "execution_count": 31,
      "outputs": [
        {
          "output_type": "stream",
          "name": "stdout",
          "text": [
            "Requirement already satisfied: fastapi in /usr/local/lib/python3.10/dist-packages (0.100.0)\n",
            "Requirement already satisfied: pydantic!=1.8,!=1.8.1,!=2.0.0,!=2.0.1,<3.0.0,>=1.7.4 in /usr/local/lib/python3.10/dist-packages (from fastapi) (1.10.11)\n",
            "Requirement already satisfied: starlette<0.28.0,>=0.27.0 in /usr/local/lib/python3.10/dist-packages (from fastapi) (0.27.0)\n",
            "Requirement already satisfied: typing-extensions>=4.5.0 in /usr/local/lib/python3.10/dist-packages (from fastapi) (4.7.1)\n",
            "Requirement already satisfied: anyio<5,>=3.4.0 in /usr/local/lib/python3.10/dist-packages (from starlette<0.28.0,>=0.27.0->fastapi) (3.7.1)\n",
            "Requirement already satisfied: idna>=2.8 in /usr/local/lib/python3.10/dist-packages (from anyio<5,>=3.4.0->starlette<0.28.0,>=0.27.0->fastapi) (3.4)\n",
            "Requirement already satisfied: sniffio>=1.1 in /usr/local/lib/python3.10/dist-packages (from anyio<5,>=3.4.0->starlette<0.28.0,>=0.27.0->fastapi) (1.3.0)\n",
            "Requirement already satisfied: exceptiongroup in /usr/local/lib/python3.10/dist-packages (from anyio<5,>=3.4.0->starlette<0.28.0,>=0.27.0->fastapi) (1.1.2)\n",
            "Requirement already satisfied: uvicorn in /usr/local/lib/python3.10/dist-packages (0.23.1)\n",
            "Requirement already satisfied: click>=7.0 in /usr/local/lib/python3.10/dist-packages (from uvicorn) (8.1.4)\n",
            "Requirement already satisfied: h11>=0.8 in /usr/local/lib/python3.10/dist-packages (from uvicorn) (0.14.0)\n",
            "Requirement already satisfied: typing-extensions>=4.0 in /usr/local/lib/python3.10/dist-packages (from uvicorn) (4.7.1)\n",
            "Requirement already satisfied: pyngrok in /usr/local/lib/python3.10/dist-packages (6.0.0)\n",
            "Requirement already satisfied: PyYAML in /usr/local/lib/python3.10/dist-packages (from pyngrok) (6.0)\n",
            "Collecting python-multipart\n",
            "  Downloading python_multipart-0.0.6-py3-none-any.whl (45 kB)\n",
            "\u001b[2K     \u001b[90m━━━━━━━━━━━━━━━━━━━━━━━━━━━━━━━━━━━━━━━━\u001b[0m \u001b[32m45.7/45.7 kB\u001b[0m \u001b[31m1.8 MB/s\u001b[0m eta \u001b[36m0:00:00\u001b[0m\n",
            "\u001b[?25hInstalling collected packages: python-multipart\n",
            "Successfully installed python-multipart-0.0.6\n"
          ]
        }
      ]
    },
    {
      "cell_type": "code",
      "source": [
        "#FastAPI Library\n",
        "from typing import Union\n",
        "from fastapi import FastAPI, UploadFile, File\n",
        "from tensorflow.keras.models import load_model\n",
        "from starlette.requests import Request\n",
        "from fastapi import FastAPI, HTTPException, UploadFile, File\n",
        "from starlette.requests import Request\n",
        "from starlette.responses import HTMLResponse\n",
        "from tensorflow.keras.models import load_model\n",
        "from PIL import Image\n",
        "import numpy as np\n",
        "import io"
      ],
      "metadata": {
        "id": "pGJ8VgscjQ02"
      },
      "execution_count": 26,
      "outputs": []
    },
    {
      "cell_type": "code",
      "source": [
        "import io\n",
        "import numpy as np\n",
        "from PIL import Image\n",
        "from fastapi import FastAPI, UploadFile, File, Request\n",
        "\n",
        "# 이전에 모델을 로드하거나 생성하고 model 변수에 할당했다고 가정합니다.\n",
        "# 예시로 모델을 아래와 같이 가정하겠습니다.\n",
        "# 모델은 이미지 크기를 (64, 64, 3)으로 입력으로 받는 것을 가정합니다.\n",
        "# model = load_model(\"your_model_path\")\n",
        "\n",
        "app = FastAPI()\n",
        "\n",
        "# 이전 코드와 동일한 \"/predict\" 엔드포인트\n",
        "@app.post(\"/predict\")\n",
        "async def predict(file: UploadFile = File(...)):\n",
        "    # 이미지 불러오기 및 전처리\n",
        "    image = Image.open(io.BytesIO(await file.read()))\n",
        "    image = image.resize((64, 64)).convert('L')\n",
        "    image = np.array(image) / 255.0\n",
        "    image = np.expand_dims(image, axis=0)\n",
        "\n",
        "    # 예측\n",
        "    pred = model.predict(image)\n",
        "    result = np.argmax(pred)\n",
        "\n",
        "    return {\"result\": int(result)}\n",
        "\n",
        "# 새로운 엔드포인트를 추가합니다.\n",
        "@app.post(\"/predict_with_image\")\n",
        "async def predict_with_image(image: UploadFile = File(...)):\n",
        "    # 이미지 불러오기 및 전처리\n",
        "    image = Image.open(io.BytesIO(await image.read()))\n",
        "    image = image.resize((64, 64)).convert('L')\n",
        "    image = np.array(image) / 255.0\n",
        "    image = np.expand_dims(image, axis=0)\n",
        "\n",
        "    # 예측\n",
        "    pred = model.predict(image)\n",
        "    result = np.argmax(pred)\n",
        "\n",
        "    return {\"result\": int(result)}\n",
        "\n",
        "@app.get(\"/\", response_class=HTMLResponse)\n",
        "async def read_root(request: Request):\n",
        "    return \"\"\"\n",
        "    <html>\n",
        "        <body>\n",
        "            <form action=\"/predict\" enctype=\"multipart/form-data\" method=\"post\">\n",
        "                <input name=\"file\" type=\"file\">\n",
        "                <input type=\"submit\">\n",
        "            </form>\n",
        "        </body>\n",
        "    </html>\n",
        "    \"\"\"\n"
      ],
      "metadata": {
        "id": "yMt3t-fl1zsY"
      },
      "execution_count": 37,
      "outputs": []
    },
    {
      "cell_type": "code",
      "source": [
        "from pyngrok import ngrok\n",
        "import uvicorn\n",
        "import threading\n",
        "\n",
        "url = ngrok.connect(8000)  # FastAPI의 기본 포트는 8000입니다.\n",
        "print('Public URL:', url)\n",
        "\n",
        "def run():\n",
        "    uvicorn.run(app, host=\"0.0.0.0\", port=8000)\n",
        "\n",
        "threading.Thread(target=run).start()"
      ],
      "metadata": {
        "colab": {
          "base_uri": "https://localhost:8080/"
        },
        "id": "2nUJ0YDH2RM6",
        "outputId": "e9841a6f-e49e-470f-e689-6e76ca8e0811"
      },
      "execution_count": 41,
      "outputs": [
        {
          "output_type": "stream",
          "name": "stdout",
          "text": [
            "Public URL: NgrokTunnel: \"https://0e05-35-204-184-48.ngrok.io\" -> \"http://localhost:8000\"\n"
          ]
        },
        {
          "output_type": "stream",
          "name": "stderr",
          "text": [
            "INFO:     Started server process [1175]\n",
            "INFO:     Waiting for application startup.\n",
            "INFO:     Application startup complete.\n",
            "ERROR:    [Errno 98] error while attempting to bind on address ('0.0.0.0', 8000): address already in use\n",
            "INFO:     Waiting for application shutdown.\n",
            "INFO:     Application shutdown complete.\n"
          ]
        }
      ]
    },
    {
      "cell_type": "code",
      "source": [
        "!lsof -i :8000"
      ],
      "metadata": {
        "id": "ZmZVlKY85lRk"
      },
      "execution_count": 1,
      "outputs": []
    },
    {
      "cell_type": "code",
      "source": [
        "! kill-9 787"
      ],
      "metadata": {
        "colab": {
          "base_uri": "https://localhost:8080/"
        },
        "id": "pGxszHiBHfLf",
        "outputId": "bcc1faa4-ebe9-43d1-d62a-4a2c8f919e51"
      },
      "execution_count": 2,
      "outputs": [
        {
          "output_type": "stream",
          "name": "stdout",
          "text": [
            "/bin/bash: line 1: kill-9: command not found\n"
          ]
        }
      ]
    },
    {
      "cell_type": "code",
      "source": [],
      "metadata": {
        "id": "xNhq9l8THheG"
      },
      "execution_count": null,
      "outputs": []
    }
  ]
}