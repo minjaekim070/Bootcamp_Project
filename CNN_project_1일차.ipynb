{
  "nbformat": 4,
  "nbformat_minor": 0,
  "metadata": {
    "colab": {
      "provenance": [],
      "mount_file_id": "1LVpeJxuzPxCv9LZcG96L5LN4L4ftFWof",
      "authorship_tag": "ABX9TyNQgokBCp5G/n/hZgR+Yisf",
      "include_colab_link": true
    },
    "kernelspec": {
      "name": "python3",
      "display_name": "Python 3"
    },
    "language_info": {
      "name": "python"
    }
  },
  "cells": [
    {
      "cell_type": "markdown",
      "metadata": {
        "id": "view-in-github",
        "colab_type": "text"
      },
      "source": [
        "<a href=\"https://colab.research.google.com/github/minjaekim070/Bootcamp_Project/blob/main/CNN_project_1%EC%9D%BC%EC%B0%A8.ipynb\" target=\"_parent\"><img src=\"https://colab.research.google.com/assets/colab-badge.svg\" alt=\"Open In Colab\"/></a>"
      ]
    },
    {
      "cell_type": "markdown",
      "source": [
        "전체 데이터셋의 다운로드가 오래 걸려서 bottle 폴더에 대한 내용을 우선적으로 정상/비정상으로 분류할 수 있도록 진행"
      ],
      "metadata": {
        "id": "LHt48_VyZmCp"
      }
    },
    {
      "cell_type": "markdown",
      "source": [
        "#Library import\n"
      ],
      "metadata": {
        "id": "RFSAcMEOUWgg"
      }
    },
    {
      "cell_type": "code",
      "execution_count": 41,
      "metadata": {
        "id": "fGPPV15ASMjF"
      },
      "outputs": [],
      "source": [
        "# 패키지 import\n",
        "import os\n",
        "import torch\n",
        "import torch.nn as nn\n",
        "import torch.optim as optim\n",
        "import torch.nn.functional as F\n",
        "import tensorflow as tf\n",
        "from torchvision import transforms, datasets, utils\n",
        "from torchsummary import summary\n",
        "\n",
        "import matplotlib.pyplot as plt\n",
        "import numpy as np\n",
        "\n",
        "from tensorflow.keras.preprocessing import image\n"
      ]
    },
    {
      "cell_type": "markdown",
      "source": [
        "#이미지 업로드 및 배열 변환\n"
      ],
      "metadata": {
        "id": "cJuTK1nkZfLL"
      }
    },
    {
      "cell_type": "code",
      "source": [
        "# 이미지 경로와 카테고리 설정\n",
        "data_dir = '/content/drive/MyDrive/bottle/train/good'\n",
        "\n",
        "# 이미지 로딩 및 배열 변환\n",
        "train_image_data = []\n",
        "for img_name in os.listdir(data_dir):\n",
        "    img_path = os.path.join(data_dir, img_name)\n",
        "    img = image.load_img(img_path, target_size=(32, 32))  # 이미지를 지정된 크기로 로드합니다\n",
        "    img_array = image.img_to_array(img)  # 이미지를 배열 형태로 변환합니다\n",
        "    train_image_data.append(img_array)\n"
      ],
      "metadata": {
        "id": "VXd6758kSP2n"
      },
      "execution_count": 65,
      "outputs": []
    },
    {
      "cell_type": "code",
      "source": [
        "# 배열로 변환\n",
        "train_image_data = np.array(train_image_data)"
      ],
      "metadata": {
        "id": "d7FRmpMGSrQL"
      },
      "execution_count": 66,
      "outputs": []
    },
    {
      "cell_type": "code",
      "source": [
        "train_image_data.shape"
      ],
      "metadata": {
        "colab": {
          "base_uri": "https://localhost:8080/"
        },
        "id": "8gWjISpYT_Fx",
        "outputId": "95009771-8406-42a2-af2d-dbd9cb976480"
      },
      "execution_count": 67,
      "outputs": [
        {
          "output_type": "execute_result",
          "data": {
            "text/plain": [
              "(209, 32, 32, 3)"
            ]
          },
          "metadata": {},
          "execution_count": 67
        }
      ]
    },
    {
      "cell_type": "code",
      "source": [
        "large_data_dir = '/content/drive/MyDrive/bottle/test/broken_large'\n",
        "small_data_dir = '/content/drive/MyDrive/bottle/test/broken_small'\n",
        "contamination_data_dir='/content/drive/MyDrive/bottle/test/contamination'\n",
        "test_data_dir = '/content/drive/MyDrive/bottle/test/good'\n",
        "\n",
        "# 이미지 로딩 및 전처리를 위한 ImageDataGenerator 생성\n",
        "from tensorflow.keras.preprocessing.image import ImageDataGenerator\n",
        "datagen = ImageDataGenerator(rescale=1./255)  # 이미지를 0과 1 사이의 값으로 정규화합니다\n",
        "\n",
        "# test 이미지 로딩 및 배열 변환\n",
        "test_image_data = []\n",
        "for img_name in os.listdir(test_data_dir):\n",
        "    img_path = os.path.join(test_data_dir, img_name)\n",
        "    img = image.load_img(img_path, target_size=(32, 32))  # 이미지를 지정된 크기로 로드합니다\n",
        "    img_array = image.img_to_array(img)  # 이미지를 배열 형태로 변환합니다\n",
        "    test_image_data.append(img_array)\n",
        "\n",
        "large_image_data = []\n",
        "for img_name in os.listdir(large_data_dir):\n",
        "    img_path = os.path.join(large_data_dir, img_name)\n",
        "    img = image.load_img(img_path, target_size=(32, 32))  # 이미지를 지정된 크기로 로드합니다\n",
        "    img_array = image.img_to_array(img)  # 이미지를 배열 형태로 변환합니다\n",
        "    large_image_data.append(img_array)\n",
        "\n",
        "small_image_data = []\n",
        "for img_name in os.listdir(small_data_dir):\n",
        "    img_path = os.path.join(small_data_dir, img_name)\n",
        "    img = image.load_img(img_path, target_size=(32, 32))  # 이미지를 지정된 크기로 로드합니다\n",
        "    img_array = image.img_to_array(img)  # 이미지를 배열 형태로 변환합니다\n",
        "    small_image_data.append(img_array)\n",
        "\n",
        "contamination_image_data = []\n",
        "for img_name in os.listdir(contamination_data_dir):\n",
        "    img_path = os.path.join(contamination_data_dir, img_name)\n",
        "    img = image.load_img(img_path, target_size=(32, 32))  # 이미지를 지정된 크기로 로드합니다\n",
        "    img_array = image.img_to_array(img)  # 이미지를 배열 형태로 변환합니다\n",
        "    contamination_image_data.append(img_array)\n",
        "\n",
        "# 배열로 변환\n",
        "test_image_data = np.array(test_image_data)\n",
        "small_image_data = np.array(small_image_data)\n",
        "large_image_data = np.array(large_image_data)\n",
        "contamination_image_data = np.array(contamination_image_data)"
      ],
      "metadata": {
        "id": "j7hpP-BQY48s"
      },
      "execution_count": 45,
      "outputs": []
    },
    {
      "cell_type": "markdown",
      "source": [
        "#모델 구성 및 결과 예측"
      ],
      "metadata": {
        "id": "oCRxxFhnZa5S"
      }
    },
    {
      "cell_type": "code",
      "source": [
        "import tensorflow as tf\n",
        "from tensorflow.keras import layers\n",
        "\n",
        "# CNN 모델 생성\n",
        "model = tf.keras.Sequential()\n",
        "\n",
        "# 첫 번째 컨볼루션 레이어\n",
        "model.add(layers.Conv2D(32, (3, 3), activation='relu', input_shape=(32, 32, 3)))\n",
        "model.add(layers.MaxPooling2D((2, 2)))\n",
        "\n",
        "# 두 번째 컨볼루션 레이어\n",
        "model.add(layers.Conv2D(64, (3, 3), activation='relu', padding='same'))\n",
        "model.add(layers.MaxPooling2D((2, 2)))\n",
        "\n",
        "# 세 번째 컨볼루션 레이어\n",
        "model.add(layers.Conv2D(128, (3, 3), activation='relu', padding='same'))\n",
        "model.add(layers.MaxPooling2D((2, 2)))\n",
        "\n",
        "# 전체 데이터를 1D 벡터로 변환\n",
        "model.add(layers.Flatten())\n",
        "\n",
        "# 완전 연결 레이어\n",
        "model.add(layers.Dense(256, activation='relu'))\n",
        "model.add(layers.Dropout(0.5))\n",
        "\n",
        "# 출력 레이어\n",
        "model.add(layers.Dense(1, activation='sigmoid'))\n",
        "\n",
        "# 모델 컴파일\n",
        "model.compile(optimizer='adam', loss='binary_crossentropy', metrics=['accuracy'])\n",
        "\n",
        "# 모델 요약 정보 출력\n",
        "model.summary()"
      ],
      "metadata": {
        "colab": {
          "base_uri": "https://localhost:8080/"
        },
        "id": "fceo3IULUAmh",
        "outputId": "01586f0b-fbca-4077-85e6-6567192b7a30"
      },
      "execution_count": 48,
      "outputs": [
        {
          "output_type": "stream",
          "name": "stdout",
          "text": [
            "Model: \"sequential_5\"\n",
            "_________________________________________________________________\n",
            " Layer (type)                Output Shape              Param #   \n",
            "=================================================================\n",
            " conv2d_19 (Conv2D)          (None, 30, 30, 32)        896       \n",
            "                                                                 \n",
            " max_pooling2d_16 (MaxPoolin  (None, 15, 15, 32)       0         \n",
            " g2D)                                                            \n",
            "                                                                 \n",
            " conv2d_20 (Conv2D)          (None, 15, 15, 64)        18496     \n",
            "                                                                 \n",
            " max_pooling2d_17 (MaxPoolin  (None, 7, 7, 64)         0         \n",
            " g2D)                                                            \n",
            "                                                                 \n",
            " conv2d_21 (Conv2D)          (None, 7, 7, 128)         73856     \n",
            "                                                                 \n",
            " max_pooling2d_18 (MaxPoolin  (None, 3, 3, 128)        0         \n",
            " g2D)                                                            \n",
            "                                                                 \n",
            " flatten_3 (Flatten)         (None, 1152)              0         \n",
            "                                                                 \n",
            " dense_6 (Dense)             (None, 256)               295168    \n",
            "                                                                 \n",
            " dropout_2 (Dropout)         (None, 256)               0         \n",
            "                                                                 \n",
            " dense_7 (Dense)             (None, 1)                 257       \n",
            "                                                                 \n",
            "=================================================================\n",
            "Total params: 388,673\n",
            "Trainable params: 388,673\n",
            "Non-trainable params: 0\n",
            "_________________________________________________________________\n"
          ]
        }
      ]
    },
    {
      "cell_type": "code",
      "source": [
        "# 입력 데이터와 레이블 준비\n",
        "train_images = image_data\n",
        "train_labels = np.ones((len(train_images), 1))  # 정상 데이터이므로 모두 1로 레이블을 설정\n",
        "\n",
        "# 모델 학습\n",
        "model.fit(train_images, train_labels, epochs=10, batch_size=32)"
      ],
      "metadata": {
        "colab": {
          "base_uri": "https://localhost:8080/"
        },
        "id": "5hVqISUxU9ah",
        "outputId": "36077e17-ce3c-4c9d-dfbe-614056e03287"
      },
      "execution_count": 49,
      "outputs": [
        {
          "output_type": "stream",
          "name": "stdout",
          "text": [
            "Epoch 1/10\n",
            "7/7 [==============================] - 2s 69ms/step - loss: 5.2810 - accuracy: 0.8612\n",
            "Epoch 2/10\n",
            "7/7 [==============================] - 0s 64ms/step - loss: 0.0000e+00 - accuracy: 1.0000\n",
            "Epoch 3/10\n",
            "7/7 [==============================] - 0s 66ms/step - loss: 0.0000e+00 - accuracy: 1.0000\n",
            "Epoch 4/10\n",
            "7/7 [==============================] - 0s 65ms/step - loss: 0.0000e+00 - accuracy: 1.0000\n",
            "Epoch 5/10\n",
            "7/7 [==============================] - 0s 65ms/step - loss: 0.0000e+00 - accuracy: 1.0000\n",
            "Epoch 6/10\n",
            "7/7 [==============================] - 0s 63ms/step - loss: 0.0000e+00 - accuracy: 1.0000\n",
            "Epoch 7/10\n",
            "7/7 [==============================] - 0s 66ms/step - loss: 0.0000e+00 - accuracy: 1.0000\n",
            "Epoch 8/10\n",
            "7/7 [==============================] - 0s 71ms/step - loss: 0.0000e+00 - accuracy: 1.0000\n",
            "Epoch 9/10\n",
            "7/7 [==============================] - 0s 67ms/step - loss: 0.0000e+00 - accuracy: 1.0000\n",
            "Epoch 10/10\n",
            "7/7 [==============================] - 0s 67ms/step - loss: 0.0000e+00 - accuracy: 1.0000\n"
          ]
        },
        {
          "output_type": "execute_result",
          "data": {
            "text/plain": [
              "<keras.callbacks.History at 0x78fb68d63310>"
            ]
          },
          "metadata": {},
          "execution_count": 49
        }
      ]
    },
    {
      "cell_type": "code",
      "source": [
        "predictions = model.predict(test_image_data)\n",
        "# 예측 결과 출력\n",
        "for i, prediction in enumerate(predictions):\n",
        "    if prediction >= 0.5:\n",
        "        print(f\"이미지 {i+1}: 정상\")\n",
        "    else:\n",
        "        print(f\"이미지 {i+1}: 비정상\")"
      ],
      "metadata": {
        "id": "GHuxLhDBV05n"
      },
      "execution_count": null,
      "outputs": []
    },
    {
      "cell_type": "code",
      "source": [
        "predictions"
      ],
      "metadata": {
        "id": "w1FpA138ak-C"
      },
      "execution_count": null,
      "outputs": []
    },
    {
      "cell_type": "code",
      "source": [
        "small_predictions = model.predict(small_image_data)\n",
        "large_predictions = model.predict(large_image_data)\n",
        "contamination_predictions = model.predict(contamination_image_data)\n",
        "\n",
        "print(small_predictions)"
      ],
      "metadata": {
        "id": "WDcawn57XU6N"
      },
      "execution_count": null,
      "outputs": []
    },
    {
      "cell_type": "code",
      "source": [
        "# 예측 결과 출력\n",
        "print('small_large data set에 대한 예측 결과')\n",
        "for i, prediction in enumerate(small_predictions):\n",
        "    if prediction >= 0.5:\n",
        "        print(f\"이미지 {i+1}: 정상\")\n",
        "    else:\n",
        "        print(f\"이미지 {i+1}: 비정상\")"
      ],
      "metadata": {
        "id": "Zlx-lsxcg-_E"
      },
      "execution_count": null,
      "outputs": []
    },
    {
      "cell_type": "code",
      "source": [
        "# 예측 결과 출력\n",
        "print('broken_large data set에 대한 예측 결과')\n",
        "for i, prediction in enumerate(large_predictions):\n",
        "    if prediction >= 0.5:\n",
        "        print(f\"이미지 {i+1}: 정상\")\n",
        "    else:\n",
        "        print(f\"이미지 {i+1}: 비정상\")"
      ],
      "metadata": {
        "id": "vqVmz6nbXqt-"
      },
      "execution_count": null,
      "outputs": []
    },
    {
      "cell_type": "code",
      "source": [
        "# 예측 결과 출력\n",
        "print('contamination data set에 대한 예측 결과')\n",
        "for i, prediction in enumerate(contamination_predictions):\n",
        "    if prediction >= 0.5:\n",
        "        print(f\"이미지 {i+1}: 정상\")\n",
        "    else:\n",
        "        print(f\"이미지 {i+1}: 비정상\")"
      ],
      "metadata": {
        "id": "xEeHsIqlXq4U"
      },
      "execution_count": null,
      "outputs": []
    },
    {
      "cell_type": "code",
      "source": [],
      "metadata": {
        "id": "fYk_lXiLYBM8"
      },
      "execution_count": null,
      "outputs": []
    }
  ]
}