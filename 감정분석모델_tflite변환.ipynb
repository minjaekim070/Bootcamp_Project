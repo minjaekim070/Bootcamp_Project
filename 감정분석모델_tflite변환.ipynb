{
  "nbformat": 4,
  "nbformat_minor": 0,
  "metadata": {
    "colab": {
      "provenance": [],
      "gpuType": "V100",
      "include_colab_link": true
    },
    "kernelspec": {
      "name": "python3",
      "display_name": "Python 3"
    },
    "language_info": {
      "name": "python"
    },
    "accelerator": "GPU"
  },
  "cells": [
    {
      "cell_type": "markdown",
      "metadata": {
        "id": "view-in-github",
        "colab_type": "text"
      },
      "source": [
        "<a href=\"https://colab.research.google.com/github/minjaekim070/Bootcamp_Project/blob/main/%EA%B0%90%EC%A0%95%EB%B6%84%EC%84%9D%EB%AA%A8%EB%8D%B8_tflite%EB%B3%80%ED%99%98.ipynb\" target=\"_parent\"><img src=\"https://colab.research.google.com/assets/colab-badge.svg\" alt=\"Open In Colab\"/></a>"
      ]
    },
    {
      "cell_type": "code",
      "source": [
        "from keras.models import model_from_json\n",
        "import numpy as np\n",
        "import cv2\n",
        "import argparse\n",
        "import os\n",
        "class FacialExpressionModel(object):\n",
        "    EMOTIONS_LIST = [\"angry\", \"disgust\", \"fear\", \"happy\", \"sad\", \"surprise\", \"neutral\"]\n",
        "\n",
        "    def __init__(self, model_json_file, model_weights_file):\n",
        "        with open(model_json_file, \"r\") as json_file:\n",
        "            loaded_model_json = json_file.read()\n",
        "            self.loaded_model = model_from_json(loaded_model_json)\n",
        "\n",
        "        self.loaded_model.load_weights(model_weights_file)\n",
        "        print(\"Model loaded from disk\")\n",
        "        self.loaded_model.summary()\n",
        "\n",
        "    def predict_emotion(self, img):\n",
        "      self.preds = self.loaded_model.predict(img)\n",
        "\n",
        "      # EMOTIONS_LIST에 있는 레이블과 예측 결과를 딕셔너리로 생성\n",
        "      emotion_dict = {emotion: round(score, 3) for emotion, score in zip(self.EMOTIONS_LIST, self.preds[0])}\n",
        "\n",
        "      # 각각의 감정에 해당하는 확률 값을 따로 모으는 딕셔너리\n",
        "      emotions_by_type = {\n",
        "          'happy': [],\n",
        "          'sad': [],\n",
        "          'surprise': [],\n",
        "          'neutral': [],\n",
        "      }\n",
        "\n",
        "      emotion_by_type = {\n",
        "      'happy': emotion_dict['happy'],\n",
        "      'sad': emotion_dict['sad'] + emotion_dict['disgust'],\n",
        "      'neutral': emotion_dict['neutral']  + emotion_dict['angry'] + emotion_dict['fear'],\n",
        "      'surprise': emotion_dict['surprise']\n",
        "       }\n",
        "\n",
        "      return emotion_by_type\n",
        "\n",
        "# Provide the paths to the model JSON file and model weights file\n",
        "model_json = '/content/drive/MyDrive/감정분석 모델/model.json'\n",
        "model_weights = '/content/drive/MyDrive/감정분석 모델/weights.h5'\n",
        "\n",
        "# Load the model\n",
        "model = FacialExpressionModel(model_json, model_weights)"
      ],
      "metadata": {
        "id": "ns1_F436UhpG"
      },
      "execution_count": null,
      "outputs": []
    },
    {
      "cell_type": "markdown",
      "source": [
        "#모델 작동"
      ],
      "metadata": {
        "id": "DxnwXeQjzTKj"
      }
    },
    {
      "cell_type": "code",
      "source": [
        "# 모델의 입력 shape과 출력 shape 확인\n",
        "input_shape = model.loaded_model.input_shape\n",
        "output_shape = model.loaded_model.output_shape\n",
        "print(\"Input shape:\", input_shape)\n",
        "print(\"Output shape:\", output_shape)"
      ],
      "metadata": {
        "colab": {
          "base_uri": "https://localhost:8080/"
        },
        "id": "490RlSGadTcv",
        "outputId": "30a4c5e7-55bf-4581-a582-504874a587b2"
      },
      "execution_count": null,
      "outputs": [
        {
          "output_type": "stream",
          "name": "stdout",
          "text": [
            "Input shape: (None, 48, 48, 1)\n",
            "Output shape: (None, 7)\n"
          ]
        }
      ]
    },
    {
      "cell_type": "code",
      "source": [
        "!pip install fer"
      ],
      "metadata": {
        "id": "C8ZX5rKghJHg"
      },
      "execution_count": null,
      "outputs": []
    },
    {
      "cell_type": "code",
      "source": [
        "from fer import FER\n",
        "import os\n",
        "import sys\n",
        "import pandas as pd\n",
        "import cv2\n",
        "import numpy as np\n",
        "import os\n",
        "import glob"
      ],
      "metadata": {
        "id": "c6eZNHgwhG_T"
      },
      "execution_count": null,
      "outputs": []
    },
    {
      "cell_type": "code",
      "source": [
        "folder_path = '/content/drive/MyDrive/운전자 이상탐지/Training/original/bus/R_001_60_M'\n",
        "extensions = ['jpg']\n",
        "\n",
        "photo_list = []\n",
        "for ext in extensions:\n",
        "    photo_list.extend(glob.glob(os.path.join(folder_path, f'*.{ext}')))"
      ],
      "metadata": {
        "id": "Yi0OqFSsdZAx"
      },
      "execution_count": null,
      "outputs": []
    },
    {
      "cell_type": "code",
      "source": [
        "from google.colab.patches import cv2_imshow\n",
        "image = '/content/drive/MyDrive/운전자 이상탐지/Training/original/bus/R_001_60_M/R_001_60_M_01_M0_G0_C0_05.jpg'\n",
        "image = cv2.imread(image)\n",
        "cv2_imshow(image)"
      ],
      "metadata": {
        "id": "3HDFQ_0jmWAn"
      },
      "execution_count": null,
      "outputs": []
    },
    {
      "cell_type": "code",
      "source": [
        "detector = FER()\n",
        "detector.detect_emotions(image)"
      ],
      "metadata": {
        "colab": {
          "base_uri": "https://localhost:8080/"
        },
        "id": "9rtPoQKLwp-0",
        "outputId": "85b452b4-af92-4b82-9fec-049269d21b9d"
      },
      "execution_count": null,
      "outputs": [
        {
          "output_type": "execute_result",
          "data": {
            "text/plain": [
              "[{'box': array([181, 601, 357, 357], dtype=int32),\n",
              "  'emotions': {'angry': 0.07,\n",
              "   'disgust': 0.01,\n",
              "   'fear': 0.09,\n",
              "   'happy': 0.04,\n",
              "   'sad': 0.51,\n",
              "   'surprise': 0.05,\n",
              "   'neutral': 0.24}}]"
            ]
          },
          "metadata": {},
          "execution_count": 152
        }
      ]
    },
    {
      "cell_type": "code",
      "source": [
        "# 이미지 축소\n",
        "resized_image = cv2.resize(image, (48,48))\n",
        "\n",
        "#bounding_box\n",
        "x,y,w,h = 219, 628, 302, 302  #bounding box 값 가변\n",
        "resized_image = image[y:y+h,x:x+w]\n",
        "resized_image = cv2.resize(resized_image, (48,48))\n",
        "cv2_imshow(resized_image)"
      ],
      "metadata": {
        "colab": {
          "base_uri": "https://localhost:8080/",
          "height": 65
        },
        "id": "nYV-8XSOwnCa",
        "outputId": "549f884c-06a7-4cea-9406-d92a23b0be4c"
      },
      "execution_count": null,
      "outputs": [
        {
          "output_type": "display_data",
          "data": {
            "text/plain": [
              "<PIL.Image.Image image mode=RGB size=48x48>"
            ],
            "image/png": "[encoded data removed]"
          },
          "metadata": {}
        }
      ]
    },
    {
      "cell_type": "code",
      "source": [
        "# 이미지를 흑백 이미지로 변환\n",
        "gray_image = cv2.cvtColor(resized_image, cv2.COLOR_BGR2GRAY)\n",
        "input_data = gray_image[np.newaxis, :, :, np.newaxis]\n",
        "print(input_data.shape)"
      ],
      "metadata": {
        "colab": {
          "base_uri": "https://localhost:8080/"
        },
        "id": "3B7ekvVHpnOu",
        "outputId": "e2d8ab5c-0227-4f1c-cae4-7a336395b791"
      },
      "execution_count": null,
      "outputs": [
        {
          "output_type": "stream",
          "name": "stdout",
          "text": [
            "(1, 48, 48, 1)\n"
          ]
        }
      ]
    },
    {
      "cell_type": "code",
      "source": [
        "model.predict_emotion(input_data)"
      ],
      "metadata": {
        "colab": {
          "base_uri": "https://localhost:8080/"
        },
        "id": "lruWpBjKlmK_",
        "outputId": "fcf0dbaa-6914-49c6-962d-9ca2f0b28525"
      },
      "execution_count": null,
      "outputs": [
        {
          "output_type": "stream",
          "name": "stdout",
          "text": [
            "1/1 [==============================] - 0s 177ms/step\n"
          ]
        },
        {
          "output_type": "execute_result",
          "data": {
            "text/plain": [
              "{'happy': 0.006, 'sad': 0.142, 'neutral': 0.731, 'surprise': 0.121}"
            ]
          },
          "metadata": {},
          "execution_count": 160
        }
      ]
    },
    {
      "cell_type": "markdown",
      "source": [
        "#tflite 파일 변환"
      ],
      "metadata": {
        "id": "KWkM7I3z1EaK"
      }
    },
    {
      "cell_type": "code",
      "source": [
        "import tensorflow as tf\n",
        "from keras.models import model_from_json\n",
        "import numpy as np\n",
        "\n",
        "# Convert Keras model to TensorFlow Lite format\n",
        "converter = tf.lite.TFLiteConverter.from_keras_model(model.loaded_model)\n",
        "tflite_model = converter.convert()\n",
        "\n",
        "# Save the TensorFlow Lite model to a file\n",
        "tflite_model_path = '/content/drive/MyDrive/감정분석 모델/model.tflite'\n",
        "with open(tflite_model_path, 'wb') as f:\n",
        "    f.write(tflite_model)\n",
        "\n",
        "print(\"TensorFlow Lite model saved to\", tflite_model_path)"
      ],
      "metadata": {
        "colab": {
          "base_uri": "https://localhost:8080/"
        },
        "id": "HrycKQ3k1F3p",
        "outputId": "15f5b9e6-14f3-4546-9202-71bc3559317e"
      },
      "execution_count": null,
      "outputs": [
        {
          "output_type": "stream",
          "name": "stderr",
          "text": [
            "WARNING:absl:Found untraced functions such as _jit_compiled_convolution_op, _jit_compiled_convolution_op, _jit_compiled_convolution_op, _jit_compiled_convolution_op, _jit_compiled_convolution_op while saving (showing 5 of 8). These functions will not be directly callable after loading.\n"
          ]
        },
        {
          "output_type": "stream",
          "name": "stdout",
          "text": [
            "TensorFlow Lite model saved to /content/drive/MyDrive/감정분석 모델/model.tflite\n"
          ]
        }
      ]
    },
    {
      "cell_type": "code",
      "source": [],
      "metadata": {
        "id": "UKr3pAGF1SC5"
      },
      "execution_count": null,
      "outputs": []
    }
  ]
}