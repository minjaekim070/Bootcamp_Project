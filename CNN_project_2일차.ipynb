{
  "nbformat": 4,
  "nbformat_minor": 0,
  "metadata": {
    "colab": {
      "provenance": [],
      "gpuType": "T4",
      "mount_file_id": "1LVpeJxuzPxCv9LZcG96L5LN4L4ftFWof",
      "authorship_tag": "ABX9TyPYDHMoSD+3Kggf2QMaCn0/",
      "include_colab_link": true
    },
    "kernelspec": {
      "name": "python3",
      "display_name": "Python 3"
    },
    "language_info": {
      "name": "python"
    },
    "accelerator": "GPU"
  },
  "cells": [
    {
      "cell_type": "markdown",
      "metadata": {
        "id": "view-in-github",
        "colab_type": "text"
      },
      "source": [
        "<a href=\"https://colab.research.google.com/github/minjaekim070/Bootcamp_Project/blob/main/CNN_project_2%EC%9D%BC%EC%B0%A8.ipynb\" target=\"_parent\"><img src=\"https://colab.research.google.com/assets/colab-badge.svg\" alt=\"Open In Colab\"/></a>"
      ]
    },
    {
      "cell_type": "markdown",
      "source": [
        "전체 데이터셋의 다운로드가 오래 걸려서 bottle 폴더에 대한 내용을 우선적으로 정상/비정상으로 분류할 수 있도록 진행"
      ],
      "metadata": {
        "id": "LHt48_VyZmCp"
      }
    },
    {
      "cell_type": "markdown",
      "source": [
        "#Library import\n"
      ],
      "metadata": {
        "id": "RFSAcMEOUWgg"
      }
    },
    {
      "cell_type": "code",
      "execution_count": 2,
      "metadata": {
        "id": "fGPPV15ASMjF"
      },
      "outputs": [],
      "source": [
        "# 패키지 import\n",
        "import os\n",
        "import torch\n",
        "import torch.nn as nn\n",
        "import torch.optim as optim\n",
        "import torch.nn.functional as F\n",
        "import tensorflow as tf\n",
        "from torchvision import transforms, datasets, utils\n",
        "from torchsummary import summary\n",
        "\n",
        "import matplotlib.pyplot as plt\n",
        "import numpy as np\n",
        "\n",
        "from tensorflow.keras.preprocessing import image\n"
      ]
    },
    {
      "cell_type": "markdown",
      "source": [
        "#이미지 업로드 및 배열 변환\n"
      ],
      "metadata": {
        "id": "cJuTK1nkZfLL"
      }
    },
    {
      "cell_type": "code",
      "source": [
        "# 이미지 경로와 카테고리 설정\n",
        "data_dir = '/content/drive/MyDrive/bottle/train/good'\n",
        "\n",
        "# 이미지 로딩 및 배열 변환\n",
        "train_image_data = []\n",
        "for img_name in os.listdir(data_dir):\n",
        "    img_path = os.path.join(data_dir, img_name)\n",
        "    img = image.load_img(img_path, target_size=(32, 32))  # 이미지를 지정된 크기로 로드합니다\n",
        "    img_array = image.img_to_array(img)  # 이미지를 배열 형태로 변환합니다\n",
        "    train_image_data.append(img_array)\n"
      ],
      "metadata": {
        "id": "VXd6758kSP2n"
      },
      "execution_count": 3,
      "outputs": []
    },
    {
      "cell_type": "code",
      "source": [
        "# 배열로 변환\n",
        "train_image_data = np.array(train_image_data)\n",
        "train_image_data = train_image_data / 255"
      ],
      "metadata": {
        "id": "d7FRmpMGSrQL"
      },
      "execution_count": 4,
      "outputs": []
    },
    {
      "cell_type": "code",
      "source": [
        "train_image_data.shape"
      ],
      "metadata": {
        "colab": {
          "base_uri": "https://localhost:8080/"
        },
        "id": "8gWjISpYT_Fx",
        "outputId": "7c7c22aa-0c24-45c3-f126-0729aaf9b25c"
      },
      "execution_count": 5,
      "outputs": [
        {
          "output_type": "execute_result",
          "data": {
            "text/plain": [
              "(209, 32, 32, 3)"
            ]
          },
          "metadata": {},
          "execution_count": 5
        }
      ]
    },
    {
      "cell_type": "code",
      "source": [
        "large_data_dir = '/content/drive/MyDrive/bottle/test/broken_large'\n",
        "small_data_dir = '/content/drive/MyDrive/bottle/test/broken_small'\n",
        "contamination_data_dir='/content/drive/MyDrive/bottle/test/contamination'\n",
        "test_data_dir = '/content/drive/MyDrive/bottle/test/good'\n",
        "\n",
        "# 이미지 로딩 및 전처리를 위한 ImageDataGenerator 생성\n",
        "from tensorflow.keras.preprocessing.image import ImageDataGenerator\n",
        "datagen = ImageDataGenerator(rescale=1./255)  # 이미지를 0과 1 사이의 값으로 정규화합니다\n",
        "\n",
        "# test 이미지 로딩 및 배열 변환\n",
        "test_image_data = []\n",
        "for img_name in os.listdir(test_data_dir):\n",
        "    img_path = os.path.join(test_data_dir, img_name)\n",
        "    img = image.load_img(img_path, target_size=(32, 32))  # 이미지를 지정된 크기로 로드합니다\n",
        "    img_array = image.img_to_array(img)  # 이미지를 배열 형태로 변환합니다\n",
        "    test_image_data.append(img_array)\n",
        "\n",
        "large_image_data = []\n",
        "for img_name in os.listdir(large_data_dir):\n",
        "    img_path = os.path.join(large_data_dir, img_name)\n",
        "    img = image.load_img(img_path, target_size=(32, 32))  # 이미지를 지정된 크기로 로드합니다\n",
        "    img_array = image.img_to_array(img)  # 이미지를 배열 형태로 변환합니다\n",
        "    large_image_data.append(img_array)\n",
        "\n",
        "small_image_data = []\n",
        "for img_name in os.listdir(small_data_dir):\n",
        "    img_path = os.path.join(small_data_dir, img_name)\n",
        "    img = image.load_img(img_path, target_size=(32, 32))  # 이미지를 지정된 크기로 로드합니다\n",
        "    img_array = image.img_to_array(img)  # 이미지를 배열 형태로 변환합니다\n",
        "    small_image_data.append(img_array)\n",
        "\n",
        "contamination_image_data = []\n",
        "for img_name in os.listdir(contamination_data_dir):\n",
        "    img_path = os.path.join(contamination_data_dir, img_name)\n",
        "    img = image.load_img(img_path, target_size=(32, 32))  # 이미지를 지정된 크기로 로드합니다\n",
        "    img_array = image.img_to_array(img)  # 이미지를 배열 형태로 변환합니다\n",
        "    contamination_image_data.append(img_array)"
      ],
      "metadata": {
        "id": "j7hpP-BQY48s"
      },
      "execution_count": 6,
      "outputs": []
    },
    {
      "cell_type": "code",
      "source": [
        "# 배열로 변환\n",
        "test_image_data = np.array(test_image_data)\n",
        "small_image_data = np.array(small_image_data)\n",
        "large_image_data = np.array(large_image_data)\n",
        "contamination_image_data = np.array(contamination_image_data)\n",
        "\n",
        "test_image_data = test_image_data / 255\n",
        "small_image_data = small_image_data / 255\n",
        "large_image_data = large_image_data / 255\n",
        "contamination_image_data = contamination_image_data / 255"
      ],
      "metadata": {
        "id": "DV758phRpRZI"
      },
      "execution_count": 7,
      "outputs": []
    },
    {
      "cell_type": "code",
      "source": [
        "test_image_data[0][16][16]"
      ],
      "metadata": {
        "colab": {
          "base_uri": "https://localhost:8080/"
        },
        "id": "RD8QJBiyowya",
        "outputId": "8527629c-c032-4858-dd66-c3e1083ac5f5"
      },
      "execution_count": 8,
      "outputs": [
        {
          "output_type": "execute_result",
          "data": {
            "text/plain": [
              "array([0.1882353 , 0.16470589, 0.2       ], dtype=float32)"
            ]
          },
          "metadata": {},
          "execution_count": 8
        }
      ]
    },
    {
      "cell_type": "markdown",
      "source": [
        "#모델 구성 및 결과 예측"
      ],
      "metadata": {
        "id": "oCRxxFhnZa5S"
      }
    },
    {
      "cell_type": "code",
      "source": [
        "#준비된 데이터 셋\n",
        "\"\"\"\n",
        "train_image_data : 정상\n",
        "test_image_data : 정상\n",
        "small_image_data : 파손\n",
        "large_image_data : 파손\n",
        "contamination_image_data : 오염\n",
        "\"\"\""
      ],
      "metadata": {
        "id": "0PwkApcyeEw9"
      },
      "execution_count": null,
      "outputs": []
    },
    {
      "cell_type": "code",
      "source": [
        "# 이미지 데이터 통합\n",
        "all_images = np.concatenate((test_image_data, large_image_data, contamination_image_data), axis=0)\n",
        "\n",
        "# 이미지 리사이즈\n",
        "resized_images = []\n",
        "for image in all_images:\n",
        "    resized_image = tf.image.resize(image, (32, 32))\n",
        "    resized_images.append(resized_image)\n",
        "\n",
        "# 이미지 데이터 변환\n",
        "resized_images = np.array(resized_images)\n",
        "resized_images = resized_images.astype(np.float32)\n",
        "\n",
        "# 레이블 생성\n",
        "train_labels = np.array([[1, 0, 0]] * len(test_image_data))  # 정상: [1, 0, 0]\n",
        "broken_labels = np.array([[0, 1, 0]] * len(large_image_data))  # 파손: [0, 1, 0]\n",
        "contamination_labels = np.array([[0, 0, 1]] * len(contamination_image_data))  # 오염: [0, 0, 1]\n",
        "\n",
        "all_labels = np.concatenate((train_labels, broken_labels, contamination_labels), axis=0)\n"
      ],
      "metadata": {
        "id": "ETxBdp2QhK_S"
      },
      "execution_count": 36,
      "outputs": []
    },
    {
      "cell_type": "code",
      "source": [
        "print(resized_images.shape)\n",
        "print(all_labels.shape)"
      ],
      "metadata": {
        "colab": {
          "base_uri": "https://localhost:8080/"
        },
        "id": "rK6m7TARm4PP",
        "outputId": "a085486c-42b2-4fec-83c8-ba23ef8c0429"
      },
      "execution_count": 37,
      "outputs": [
        {
          "output_type": "stream",
          "name": "stdout",
          "text": [
            "(209, 32, 32, 3)\n",
            "(61, 32, 32, 3)\n",
            "(61, 3)\n"
          ]
        }
      ]
    },
    {
      "cell_type": "code",
      "source": [
        "import tensorflow as tf\n",
        "from tensorflow.keras import layers, models\n",
        "\n",
        "train_labels = [[1, 0, 0],   # 첫 번째 이미지의 레이블: [정상, 파손, 오염] = [1, 0, 0]\n",
        "                [0, 1, 0],   # 두 번째 이미지의 레이블: [정상, 파손, 오염] = [0, 1, 0]\n",
        "                [0, 0, 1]]  # 세 번째 이미지의 레이블: [정상, 파손, 오염] = [0, 0, 1]\n",
        "# CNN 모델 구성\n",
        "model = models.Sequential()\n",
        "\n",
        "#Layer 1\n",
        "model.add(layers.Conv2D(32, (3, 3), activation='relu', input_shape=(32, 32, 3)))\n",
        "model.add(layers.MaxPooling2D((2, 2)))\n",
        "\n",
        "#Layer 2\n",
        "model.add(layers.Conv2D(64, (3, 3), activation='relu'))\n",
        "model.add(layers.MaxPooling2D((2, 2)))\n",
        "\n",
        "#1D\n",
        "model.add(layers.Flatten())\n",
        "\n",
        "#Dense\n",
        "model.add(layers.Dense(64, activation='relu'))\n",
        "model.add(layers.Dense(3, activation='softmax'))\n",
        "\n",
        "# 모델 컴파일\n",
        "model.compile(optimizer='adam', loss='categorical_crossentropy', metrics=['accuracy'])\n",
        "# 모델 요약 출력\n",
        "model.summary()"
      ],
      "metadata": {
        "colab": {
          "base_uri": "https://localhost:8080/"
        },
        "id": "fceo3IULUAmh",
        "outputId": "5268769b-f25a-43b2-ebe1-c283c81a5090"
      },
      "execution_count": 29,
      "outputs": [
        {
          "output_type": "stream",
          "name": "stdout",
          "text": [
            "Model: \"sequential_2\"\n",
            "_________________________________________________________________\n",
            " Layer (type)                Output Shape              Param #   \n",
            "=================================================================\n",
            " conv2d_4 (Conv2D)           (None, 30, 30, 32)        896       \n",
            "                                                                 \n",
            " max_pooling2d_4 (MaxPooling  (None, 15, 15, 32)       0         \n",
            " 2D)                                                             \n",
            "                                                                 \n",
            " conv2d_5 (Conv2D)           (None, 13, 13, 64)        18496     \n",
            "                                                                 \n",
            " max_pooling2d_5 (MaxPooling  (None, 6, 6, 64)         0         \n",
            " 2D)                                                             \n",
            "                                                                 \n",
            " flatten_2 (Flatten)         (None, 2304)              0         \n",
            "                                                                 \n",
            " dense_4 (Dense)             (None, 64)                147520    \n",
            "                                                                 \n",
            " dense_5 (Dense)             (None, 3)                 195       \n",
            "                                                                 \n",
            "=================================================================\n",
            "Total params: 167,107\n",
            "Trainable params: 167,107\n",
            "Non-trainable params: 0\n",
            "_________________________________________________________________\n"
          ]
        }
      ]
    },
    {
      "cell_type": "code",
      "source": [
        "# 모델 학습\n",
        "model.fit(resized_images, all_labels, epochs=10, batch_size=32)"
      ],
      "metadata": {
        "colab": {
          "base_uri": "https://localhost:8080/"
        },
        "id": "W0sh8zmok_Go",
        "outputId": "822c6486-cb24-4eac-a2d1-6409a91c7df7"
      },
      "execution_count": 38,
      "outputs": [
        {
          "output_type": "stream",
          "name": "stdout",
          "text": [
            "Epoch 1/10\n",
            "2/2 [==============================] - 0s 153ms/step - loss: 1.2209 - accuracy: 0.3279\n",
            "Epoch 2/10\n",
            "2/2 [==============================] - 0s 8ms/step - loss: 1.0523 - accuracy: 0.4098\n",
            "Epoch 3/10\n",
            "2/2 [==============================] - 0s 8ms/step - loss: 1.0757 - accuracy: 0.3279\n",
            "Epoch 4/10\n",
            "2/2 [==============================] - 0s 10ms/step - loss: 1.0570 - accuracy: 0.3607\n",
            "Epoch 5/10\n",
            "2/2 [==============================] - 0s 8ms/step - loss: 1.0077 - accuracy: 0.7705\n",
            "Epoch 6/10\n",
            "2/2 [==============================] - 0s 8ms/step - loss: 1.0156 - accuracy: 0.5738\n",
            "Epoch 7/10\n",
            "2/2 [==============================] - 0s 7ms/step - loss: 1.0198 - accuracy: 0.4426\n",
            "Epoch 8/10\n",
            "2/2 [==============================] - 0s 8ms/step - loss: 1.0009 - accuracy: 0.4918\n",
            "Epoch 9/10\n",
            "2/2 [==============================] - 0s 8ms/step - loss: 0.9748 - accuracy: 0.7377\n",
            "Epoch 10/10\n",
            "2/2 [==============================] - 0s 8ms/step - loss: 0.9834 - accuracy: 0.7049\n"
          ]
        },
        {
          "output_type": "execute_result",
          "data": {
            "text/plain": [
              "<keras.callbacks.History at 0x7937ca0b6e00>"
            ]
          },
          "metadata": {},
          "execution_count": 38
        }
      ]
    },
    {
      "cell_type": "code",
      "source": [
        "# 예측 수행\n",
        "predictions = model.predict(small_image_data)"
      ],
      "metadata": {
        "colab": {
          "base_uri": "https://localhost:8080/"
        },
        "id": "fP7_fxBJtZHm",
        "outputId": "915b8c34-5aef-487f-fe55-d170e248136d"
      },
      "execution_count": 65,
      "outputs": [
        {
          "output_type": "stream",
          "name": "stdout",
          "text": [
            "1/1 [==============================] - 0s 23ms/step\n"
          ]
        }
      ]
    },
    {
      "cell_type": "code",
      "source": [
        "predictions"
      ],
      "metadata": {
        "colab": {
          "base_uri": "https://localhost:8080/"
        },
        "id": "x10o0UKRuZLq",
        "outputId": "87f5ab41-099e-417b-df3d-4906c410824c"
      },
      "execution_count": 66,
      "outputs": [
        {
          "output_type": "execute_result",
          "data": {
            "text/plain": [
              "array([[0.22459038, 0.41832125, 0.35708836],\n",
              "       [0.26837778, 0.35394242, 0.3776798 ],\n",
              "       [0.28076318, 0.34335044, 0.37588638],\n",
              "       [0.21695596, 0.41729066, 0.3657534 ],\n",
              "       [0.23953864, 0.39052168, 0.36993966],\n",
              "       [0.23197049, 0.41807228, 0.3499572 ],\n",
              "       [0.2525344 , 0.36883736, 0.37862825],\n",
              "       [0.26174194, 0.37689683, 0.3613613 ],\n",
              "       [0.21095107, 0.4410752 , 0.3479738 ],\n",
              "       [0.21937765, 0.43392098, 0.34670138],\n",
              "       [0.16738124, 0.48860455, 0.3440142 ],\n",
              "       [0.2857293 , 0.34534883, 0.36892188],\n",
              "       [0.2671682 , 0.3757918 , 0.35703996],\n",
              "       [0.2522643 , 0.3812298 , 0.36650592],\n",
              "       [0.2617141 , 0.37796158, 0.36032426],\n",
              "       [0.22715205, 0.41302842, 0.35981953],\n",
              "       [0.25180107, 0.3920544 , 0.3561445 ],\n",
              "       [0.17522094, 0.44503316, 0.37974584],\n",
              "       [0.22348033, 0.41883025, 0.3576894 ],\n",
              "       [0.26675838, 0.3613306 , 0.37191102],\n",
              "       [0.25078943, 0.39182073, 0.35738984],\n",
              "       [0.26858062, 0.35773948, 0.37367988]], dtype=float32)"
            ]
          },
          "metadata": {},
          "execution_count": 66
        }
      ]
    },
    {
      "cell_type": "code",
      "source": [
        "# 최종 예측 레이블 생성\n",
        "predicted_labels = []\n",
        "for prediction in predictions:\n",
        "    if prediction[0] > prediction[1] and prediction[0] > prediction[2]:\n",
        "        predicted_labels.append([1, 0, 0])\n",
        "    elif prediction[1] > prediction[0] and prediction[1] > prediction[2]:\n",
        "        predicted_labels.append([0, 1, 0])\n",
        "    else:\n",
        "        predicted_labels.append([0, 0, 1])\n",
        "predicted_labels = np.array(predicted_labels)"
      ],
      "metadata": {
        "id": "A27m_SDFubcF"
      },
      "execution_count": 67,
      "outputs": []
    },
    {
      "cell_type": "code",
      "source": [
        "count = 0\n",
        "for label in predicted_labels:\n",
        "    if np.array_equal(label, [0, 1, 0]):\n",
        "        count += 1\n",
        "\n",
        "prediction_accuracy = count / len(small_image_data) * 100\n",
        "print('예측률: {}%'.format(prediction_accuracy))"
      ],
      "metadata": {
        "colab": {
          "base_uri": "https://localhost:8080/"
        },
        "id": "ezrxfTFZugf-",
        "outputId": "171fb34e-ca23-449d-d05c-9c964c429edb"
      },
      "execution_count": 69,
      "outputs": [
        {
          "output_type": "stream",
          "name": "stdout",
          "text": [
            "예측률: 72.72727272727273%\n"
          ]
        }
      ]
    },
    {
      "cell_type": "markdown",
      "source": [
        "broken_small에 대해서 어느정도는 잘 예측하는 모습"
      ],
      "metadata": {
        "id": "JuND_DWExu5S"
      }
    },
    {
      "cell_type": "code",
      "source": [
        "predictions = model.predict(train_image_data)\n",
        "predicted_labels = []\n",
        "for prediction in predictions:\n",
        "    if prediction[0] > prediction[1] and prediction[0] > prediction[2]:\n",
        "        predicted_labels.append([1, 0, 0])\n",
        "    elif prediction[1] > prediction[0] and prediction[1] > prediction[2]:\n",
        "        predicted_labels.append([0, 1, 0])\n",
        "    else:\n",
        "        predicted_labels.append([0, 0, 1])\n",
        "predicted_labels = np.array(predicted_labels)\n",
        "\n",
        "count = 0\n",
        "for label in predicted_labels:\n",
        "    if np.array_equal(label, [1, 0, 0]):\n",
        "        count += 1\n",
        "\n",
        "prediction_accuracy = count / len(train_image_data) * 100\n",
        "print('예측률: {}%'.format(prediction_accuracy))\n"
      ],
      "metadata": {
        "colab": {
          "base_uri": "https://localhost:8080/"
        },
        "id": "wfOdBhlQw3Qs",
        "outputId": "c77442d5-cc4f-425c-91a7-ed68692dfc20"
      },
      "execution_count": 71,
      "outputs": [
        {
          "output_type": "stream",
          "name": "stdout",
          "text": [
            "7/7 [==============================] - 0s 2ms/step\n",
            "예측률: 0.0%\n"
          ]
        }
      ]
    },
    {
      "cell_type": "markdown",
      "source": [
        "막상 정상 데이터에 대해서는 정확도가 0으로 나오는 모습"
      ],
      "metadata": {
        "id": "V5SXff25zAZW"
      }
    },
    {
      "cell_type": "code",
      "source": [],
      "metadata": {
        "id": "3lOKVSqWxFQ-"
      },
      "execution_count": null,
      "outputs": []
    }
  ]
}