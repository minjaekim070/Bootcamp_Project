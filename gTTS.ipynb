{
  "nbformat": 4,
  "nbformat_minor": 0,
  "metadata": {
    "colab": {
      "provenance": [],
      "gpuType": "T4",
      "mount_file_id": "1F_l05dMOo9MW1URZZMVdzwAu6ioaDcXY",
      "authorship_tag": "ABX9TyMNlq7O557Y7pkLdgoEtZW/",
      "include_colab_link": true
    },
    "kernelspec": {
      "name": "python3",
      "display_name": "Python 3"
    },
    "language_info": {
      "name": "python"
    }
  },
  "cells": [
    {
      "cell_type": "markdown",
      "metadata": {
        "id": "view-in-github",
        "colab_type": "text"
      },
      "source": [
        "<a href=\"https://colab.research.google.com/github/minjaekim070/Bootcamp_Project/blob/main/gTTS.ipynb\" target=\"_parent\"><img src=\"https://colab.research.google.com/assets/colab-badge.svg\" alt=\"Open In Colab\"/></a>"
      ]
    },
    {
      "cell_type": "code",
      "execution_count": 1,
      "metadata": {
        "colab": {
          "base_uri": "https://localhost:8080/"
        },
        "id": "nHtYH66L182D",
        "outputId": "6ad21a1d-0984-430c-9b24-a3a82cca90a0"
      },
      "outputs": [
        {
          "output_type": "stream",
          "name": "stdout",
          "text": [
            "Collecting gTTs\n",
            "  Downloading gTTS-2.3.2-py3-none-any.whl (28 kB)\n",
            "Requirement already satisfied: requests<3,>=2.27 in /usr/local/lib/python3.10/dist-packages (from gTTs) (2.27.1)\n",
            "Requirement already satisfied: click<8.2,>=7.1 in /usr/local/lib/python3.10/dist-packages (from gTTs) (8.1.6)\n",
            "Requirement already satisfied: urllib3<1.27,>=1.21.1 in /usr/local/lib/python3.10/dist-packages (from requests<3,>=2.27->gTTs) (1.26.16)\n",
            "Requirement already satisfied: certifi>=2017.4.17 in /usr/local/lib/python3.10/dist-packages (from requests<3,>=2.27->gTTs) (2023.7.22)\n",
            "Requirement already satisfied: charset-normalizer~=2.0.0 in /usr/local/lib/python3.10/dist-packages (from requests<3,>=2.27->gTTs) (2.0.12)\n",
            "Requirement already satisfied: idna<4,>=2.5 in /usr/local/lib/python3.10/dist-packages (from requests<3,>=2.27->gTTs) (3.4)\n",
            "Installing collected packages: gTTs\n",
            "Successfully installed gTTs-2.3.2\n"
          ]
        }
      ],
      "source": [
        "!pip install gTTs"
      ]
    },
    {
      "cell_type": "code",
      "source": [
        "!pip install playsound"
      ],
      "metadata": {
        "colab": {
          "base_uri": "https://localhost:8080/"
        },
        "id": "s6hPtzG61_Cu",
        "outputId": "18a27894-c833-4aa8-f475-14cb816d6d68"
      },
      "execution_count": 2,
      "outputs": [
        {
          "output_type": "stream",
          "name": "stdout",
          "text": [
            "Collecting playsound\n",
            "  Downloading playsound-1.3.0.tar.gz (7.7 kB)\n",
            "  Preparing metadata (setup.py) ... \u001b[?25l\u001b[?25hdone\n",
            "Building wheels for collected packages: playsound\n",
            "  Building wheel for playsound (setup.py) ... \u001b[?25l\u001b[?25hdone\n",
            "  Created wheel for playsound: filename=playsound-1.3.0-py3-none-any.whl size=7019 sha256=306cf1cd837219e406330320bcc4fe4c9dd12ed329f2dd61a1b32b0e35db3170\n",
            "  Stored in directory: /root/.cache/pip/wheels/90/89/ed/2d643f4226fc8c7c9156fc28abd8051e2d2c0de37ae51ac45c\n",
            "Successfully built playsound\n",
            "Installing collected packages: playsound\n",
            "Successfully installed playsound-1.3.0\n"
          ]
        }
      ]
    },
    {
      "cell_type": "code",
      "source": [
        "from gtts import gTTS\n",
        "from playsound import playsound\n"
      ],
      "metadata": {
        "colab": {
          "base_uri": "https://localhost:8080/"
        },
        "id": "iEHyzc0s2J_s",
        "outputId": "d47a2266-d332-4368-a5ad-46751a25ae1f"
      },
      "execution_count": 3,
      "outputs": [
        {
          "output_type": "stream",
          "name": "stderr",
          "text": [
            "WARNING:playsound:playsound is relying on another python subprocess. Please use `pip install pygobject` if you want playsound to run more efficiently.\n"
          ]
        }
      ]
    },
    {
      "cell_type": "code",
      "source": [
        "text = '슬퍼보이시네요. 위로가 될만한 노래를 틀어드릴게요'\n",
        "file_name = 'tts_sad.mp3'\n",
        "tts_en = gTTS(text=text, lang='ko')\n",
        "tts_en.save(file_name)"
      ],
      "metadata": {
        "id": "qUmo3fwJ2RLt"
      },
      "execution_count": 12,
      "outputs": []
    },
    {
      "cell_type": "code",
      "source": [
        "playsound('sample.mp3')"
      ],
      "metadata": {
        "colab": {
          "base_uri": "https://localhost:8080/",
          "height": 342
        },
        "id": "GHOXncw12zUT",
        "outputId": "1aad5fea-0cd1-4a1d-e513-e227b4bc692d"
      },
      "execution_count": 7,
      "outputs": [
        {
          "output_type": "error",
          "ename": "CalledProcessError",
          "evalue": "ignored",
          "traceback": [
            "\u001b[0;31m---------------------------------------------------------------------------\u001b[0m",
            "\u001b[0;31mCalledProcessError\u001b[0m                        Traceback (most recent call last)",
            "\u001b[0;32m<ipython-input-7-b984974aa9b6>\u001b[0m in \u001b[0;36m<cell line: 1>\u001b[0;34m()\u001b[0m\n\u001b[0;32m----> 1\u001b[0;31m \u001b[0mplaysound\u001b[0m\u001b[0;34m(\u001b[0m\u001b[0;34m'sample.mp3'\u001b[0m\u001b[0;34m)\u001b[0m\u001b[0;34m\u001b[0m\u001b[0;34m\u001b[0m\u001b[0m\n\u001b[0m",
            "\u001b[0;32m/usr/local/lib/python3.10/dist-packages/playsound.py\u001b[0m in \u001b[0;36m<lambda>\u001b[0;34m(sound, block)\u001b[0m\n\u001b[1;32m    252\u001b[0m         \u001b[0;32mexcept\u001b[0m\u001b[0;34m:\u001b[0m\u001b[0;34m\u001b[0m\u001b[0;34m\u001b[0m\u001b[0m\n\u001b[1;32m    253\u001b[0m             \u001b[0mlogger\u001b[0m\u001b[0;34m.\u001b[0m\u001b[0mwarning\u001b[0m\u001b[0;34m(\u001b[0m\u001b[0;34m\"playsound is relying on another python subprocess. Please use `pip install pygobject` if you want playsound to run more efficiently.\"\u001b[0m\u001b[0;34m)\u001b[0m\u001b[0;34m\u001b[0m\u001b[0;34m\u001b[0m\u001b[0m\n\u001b[0;32m--> 254\u001b[0;31m             \u001b[0mplaysound\u001b[0m \u001b[0;34m=\u001b[0m \u001b[0;32mlambda\u001b[0m \u001b[0msound\u001b[0m\u001b[0;34m,\u001b[0m \u001b[0mblock\u001b[0m \u001b[0;34m=\u001b[0m \u001b[0;32mTrue\u001b[0m\u001b[0;34m:\u001b[0m \u001b[0m_playsoundAnotherPython\u001b[0m\u001b[0;34m(\u001b[0m\u001b[0;34m'/usr/bin/python3'\u001b[0m\u001b[0;34m,\u001b[0m \u001b[0msound\u001b[0m\u001b[0;34m,\u001b[0m \u001b[0mblock\u001b[0m\u001b[0;34m,\u001b[0m \u001b[0mmacOS\u001b[0m \u001b[0;34m=\u001b[0m \u001b[0;32mFalse\u001b[0m\u001b[0;34m)\u001b[0m\u001b[0;34m\u001b[0m\u001b[0;34m\u001b[0m\u001b[0m\n\u001b[0m\u001b[1;32m    255\u001b[0m \u001b[0;34m\u001b[0m\u001b[0m\n\u001b[1;32m    256\u001b[0m \u001b[0;32mdel\u001b[0m \u001b[0msystem\u001b[0m\u001b[0;34m\u001b[0m\u001b[0;34m\u001b[0m\u001b[0m\n",
            "\u001b[0;32m/usr/local/lib/python3.10/dist-packages/playsound.py\u001b[0m in \u001b[0;36m_playsoundAnotherPython\u001b[0;34m(otherPython, sound, block, macOS)\u001b[0m\n\u001b[1;32m    227\u001b[0m     \u001b[0mt\u001b[0m\u001b[0;34m.\u001b[0m\u001b[0mstart\u001b[0m\u001b[0;34m(\u001b[0m\u001b[0;34m)\u001b[0m\u001b[0;34m\u001b[0m\u001b[0;34m\u001b[0m\u001b[0m\n\u001b[1;32m    228\u001b[0m     \u001b[0;32mif\u001b[0m \u001b[0mblock\u001b[0m\u001b[0;34m:\u001b[0m\u001b[0;34m\u001b[0m\u001b[0;34m\u001b[0m\u001b[0m\n\u001b[0;32m--> 229\u001b[0;31m         \u001b[0mt\u001b[0m\u001b[0;34m.\u001b[0m\u001b[0mjoin\u001b[0m\u001b[0;34m(\u001b[0m\u001b[0;34m)\u001b[0m\u001b[0;34m\u001b[0m\u001b[0;34m\u001b[0m\u001b[0m\n\u001b[0m\u001b[1;32m    230\u001b[0m \u001b[0;34m\u001b[0m\u001b[0m\n\u001b[1;32m    231\u001b[0m \u001b[0;32mfrom\u001b[0m \u001b[0mplatform\u001b[0m \u001b[0;32mimport\u001b[0m \u001b[0msystem\u001b[0m\u001b[0;34m\u001b[0m\u001b[0;34m\u001b[0m\u001b[0m\n",
            "\u001b[0;32m/usr/local/lib/python3.10/dist-packages/playsound.py\u001b[0m in \u001b[0;36mjoin\u001b[0;34m(self, timeout)\u001b[0m\n\u001b[1;32m    216\u001b[0m             \u001b[0msuper\u001b[0m\u001b[0;34m(\u001b[0m\u001b[0;34m)\u001b[0m\u001b[0;34m.\u001b[0m\u001b[0mjoin\u001b[0m\u001b[0;34m(\u001b[0m\u001b[0mtimeout\u001b[0m\u001b[0;34m)\u001b[0m\u001b[0;34m\u001b[0m\u001b[0;34m\u001b[0m\u001b[0m\n\u001b[1;32m    217\u001b[0m             \u001b[0;32mif\u001b[0m \u001b[0mself\u001b[0m\u001b[0;34m.\u001b[0m\u001b[0mexc\u001b[0m\u001b[0;34m:\u001b[0m\u001b[0;34m\u001b[0m\u001b[0;34m\u001b[0m\u001b[0m\n\u001b[0;32m--> 218\u001b[0;31m                 \u001b[0;32mraise\u001b[0m \u001b[0mself\u001b[0m\u001b[0;34m.\u001b[0m\u001b[0mexc\u001b[0m\u001b[0;34m\u001b[0m\u001b[0;34m\u001b[0m\u001b[0m\n\u001b[0m\u001b[1;32m    219\u001b[0m             \u001b[0;32mreturn\u001b[0m \u001b[0mself\u001b[0m\u001b[0;34m.\u001b[0m\u001b[0mret\u001b[0m\u001b[0;34m\u001b[0m\u001b[0;34m\u001b[0m\u001b[0m\n\u001b[1;32m    220\u001b[0m \u001b[0;34m\u001b[0m\u001b[0m\n",
            "\u001b[0;32m/usr/local/lib/python3.10/dist-packages/playsound.py\u001b[0m in \u001b[0;36mrun\u001b[0;34m(self)\u001b[0m\n\u001b[1;32m    209\u001b[0m             \u001b[0mself\u001b[0m\u001b[0;34m.\u001b[0m\u001b[0mexc\u001b[0m \u001b[0;34m=\u001b[0m \u001b[0;32mNone\u001b[0m\u001b[0;34m\u001b[0m\u001b[0;34m\u001b[0m\u001b[0m\n\u001b[1;32m    210\u001b[0m             \u001b[0;32mtry\u001b[0m\u001b[0;34m:\u001b[0m\u001b[0;34m\u001b[0m\u001b[0;34m\u001b[0m\u001b[0m\n\u001b[0;32m--> 211\u001b[0;31m                 \u001b[0mself\u001b[0m\u001b[0;34m.\u001b[0m\u001b[0mret\u001b[0m \u001b[0;34m=\u001b[0m \u001b[0mself\u001b[0m\u001b[0;34m.\u001b[0m\u001b[0m_target\u001b[0m\u001b[0;34m(\u001b[0m\u001b[0;34m*\u001b[0m\u001b[0mself\u001b[0m\u001b[0;34m.\u001b[0m\u001b[0m_args\u001b[0m\u001b[0;34m,\u001b[0m \u001b[0;34m**\u001b[0m\u001b[0mself\u001b[0m\u001b[0;34m.\u001b[0m\u001b[0m_kwargs\u001b[0m\u001b[0;34m)\u001b[0m\u001b[0;34m\u001b[0m\u001b[0;34m\u001b[0m\u001b[0m\n\u001b[0m\u001b[1;32m    212\u001b[0m             \u001b[0;32mexcept\u001b[0m \u001b[0mBaseException\u001b[0m \u001b[0;32mas\u001b[0m \u001b[0me\u001b[0m\u001b[0;34m:\u001b[0m\u001b[0;34m\u001b[0m\u001b[0;34m\u001b[0m\u001b[0m\n\u001b[1;32m    213\u001b[0m                 \u001b[0mself\u001b[0m\u001b[0;34m.\u001b[0m\u001b[0mexc\u001b[0m \u001b[0;34m=\u001b[0m \u001b[0me\u001b[0m\u001b[0;34m\u001b[0m\u001b[0;34m\u001b[0m\u001b[0m\n",
            "\u001b[0;32m/usr/local/lib/python3.10/dist-packages/playsound.py\u001b[0m in \u001b[0;36m<lambda>\u001b[0;34m()\u001b[0m\n\u001b[1;32m    224\u001b[0m \u001b[0;34m\u001b[0m\u001b[0m\n\u001b[1;32m    225\u001b[0m     \u001b[0mplaysoundPath\u001b[0m \u001b[0;34m=\u001b[0m \u001b[0mabspath\u001b[0m\u001b[0;34m(\u001b[0m\u001b[0mgetsourcefile\u001b[0m\u001b[0;34m(\u001b[0m\u001b[0;32mlambda\u001b[0m\u001b[0;34m:\u001b[0m \u001b[0;36m0\u001b[0m\u001b[0;34m)\u001b[0m\u001b[0;34m)\u001b[0m\u001b[0;34m\u001b[0m\u001b[0;34m\u001b[0m\u001b[0m\n\u001b[0;32m--> 226\u001b[0;31m     \u001b[0mt\u001b[0m \u001b[0;34m=\u001b[0m \u001b[0mPropogatingThread\u001b[0m\u001b[0;34m(\u001b[0m\u001b[0mtarget\u001b[0m \u001b[0;34m=\u001b[0m \u001b[0;32mlambda\u001b[0m\u001b[0;34m:\u001b[0m \u001b[0mcheck_call\u001b[0m\u001b[0;34m(\u001b[0m\u001b[0;34m[\u001b[0m\u001b[0motherPython\u001b[0m\u001b[0;34m,\u001b[0m \u001b[0mplaysoundPath\u001b[0m\u001b[0;34m,\u001b[0m \u001b[0m_handlePathOSX\u001b[0m\u001b[0;34m(\u001b[0m\u001b[0msound\u001b[0m\u001b[0;34m)\u001b[0m \u001b[0;32mif\u001b[0m \u001b[0mmacOS\u001b[0m \u001b[0;32melse\u001b[0m \u001b[0msound\u001b[0m\u001b[0;34m]\u001b[0m\u001b[0;34m)\u001b[0m\u001b[0;34m)\u001b[0m\u001b[0;34m\u001b[0m\u001b[0;34m\u001b[0m\u001b[0m\n\u001b[0m\u001b[1;32m    227\u001b[0m     \u001b[0mt\u001b[0m\u001b[0;34m.\u001b[0m\u001b[0mstart\u001b[0m\u001b[0;34m(\u001b[0m\u001b[0;34m)\u001b[0m\u001b[0;34m\u001b[0m\u001b[0;34m\u001b[0m\u001b[0m\n\u001b[1;32m    228\u001b[0m     \u001b[0;32mif\u001b[0m \u001b[0mblock\u001b[0m\u001b[0;34m:\u001b[0m\u001b[0;34m\u001b[0m\u001b[0;34m\u001b[0m\u001b[0m\n",
            "\u001b[0;32m/usr/lib/python3.10/subprocess.py\u001b[0m in \u001b[0;36mcheck_call\u001b[0;34m(*popenargs, **kwargs)\u001b[0m\n\u001b[1;32m    367\u001b[0m         \u001b[0;32mif\u001b[0m \u001b[0mcmd\u001b[0m \u001b[0;32mis\u001b[0m \u001b[0;32mNone\u001b[0m\u001b[0;34m:\u001b[0m\u001b[0;34m\u001b[0m\u001b[0;34m\u001b[0m\u001b[0m\n\u001b[1;32m    368\u001b[0m             \u001b[0mcmd\u001b[0m \u001b[0;34m=\u001b[0m \u001b[0mpopenargs\u001b[0m\u001b[0;34m[\u001b[0m\u001b[0;36m0\u001b[0m\u001b[0;34m]\u001b[0m\u001b[0;34m\u001b[0m\u001b[0;34m\u001b[0m\u001b[0m\n\u001b[0;32m--> 369\u001b[0;31m         \u001b[0;32mraise\u001b[0m \u001b[0mCalledProcessError\u001b[0m\u001b[0;34m(\u001b[0m\u001b[0mretcode\u001b[0m\u001b[0;34m,\u001b[0m \u001b[0mcmd\u001b[0m\u001b[0;34m)\u001b[0m\u001b[0;34m\u001b[0m\u001b[0;34m\u001b[0m\u001b[0m\n\u001b[0m\u001b[1;32m    370\u001b[0m     \u001b[0;32mreturn\u001b[0m \u001b[0;36m0\u001b[0m\u001b[0;34m\u001b[0m\u001b[0;34m\u001b[0m\u001b[0m\n\u001b[1;32m    371\u001b[0m \u001b[0;34m\u001b[0m\u001b[0m\n",
            "\u001b[0;31mCalledProcessError\u001b[0m: Command '['/usr/bin/python3', '/usr/local/lib/python3.10/dist-packages/playsound.py', 'sample.mp3']' returned non-zero exit status 1."
          ]
        }
      ]
    },
    {
      "cell_type": "markdown",
      "source": [
        "#Tacotron2"
      ],
      "metadata": {
        "id": "EbBOhQ_V3yUx"
      }
    },
    {
      "cell_type": "code",
      "source": [
        "import torch"
      ],
      "metadata": {
        "id": "cXpIz7jG3YZO"
      },
      "execution_count": 1,
      "outputs": []
    },
    {
      "cell_type": "code",
      "source": [
        "#Tacotron2 Dataset load (만약 GPU가 없다면, 'cuda'부분을 지워야 함)\n",
        "tacotron2 = torch.hub.load('NVIDIA/DeepLearningExamples:torchhub', 'nvidia_tacotron2', model_math='fp16')\n",
        "tacotron2 = tacotron2.to('cuda')\n",
        "tacotron2.eval()"
      ],
      "metadata": {
        "colab": {
          "base_uri": "https://localhost:8080/"
        },
        "id": "mwuJDIp_30j8",
        "outputId": "cf538364-2d79-44fb-f333-d68c45ad6374"
      },
      "execution_count": 3,
      "outputs": [
        {
          "output_type": "stream",
          "name": "stderr",
          "text": [
            "/usr/local/lib/python3.10/dist-packages/torch/hub.py:286: UserWarning: You are about to download and run code from an untrusted repository. In a future release, this won't be allowed. To add the repository to your trusted list, change the command to {calling_fn}(..., trust_repo=False) and a command prompt will appear asking for an explicit confirmation of trust, or load(..., trust_repo=True), which will assume that the prompt is to be answered with 'yes'. You can also use load(..., trust_repo='check') which will only prompt for confirmation if the repo is not already trusted. This will eventually be the default behaviour\n",
            "  warnings.warn(\n",
            "Downloading: \"https://github.com/NVIDIA/DeepLearningExamples/zipball/torchhub\" to /root/.cache/torch/hub/torchhub.zip\n",
            "/root/.cache/torch/hub/NVIDIA_DeepLearningExamples_torchhub/PyTorch/Classification/ConvNets/image_classification/models/common.py:13: UserWarning: pytorch_quantization module not found, quantization will not be available\n",
            "  warnings.warn(\n",
            "/root/.cache/torch/hub/NVIDIA_DeepLearningExamples_torchhub/PyTorch/Classification/ConvNets/image_classification/models/efficientnet.py:17: UserWarning: pytorch_quantization module not found, quantization will not be available\n",
            "  warnings.warn(\n",
            "Downloading checkpoint from https://api.ngc.nvidia.com/v2/models/nvidia/tacotron2_pyt_ckpt_amp/versions/19.09.0/files/nvidia_tacotron2pyt_fp16_20190427\n"
          ]
        },
        {
          "output_type": "execute_result",
          "data": {
            "text/plain": [
              "Tacotron2(\n",
              "  (embedding): Embedding(148, 512)\n",
              "  (encoder): Encoder(\n",
              "    (convolutions): ModuleList(\n",
              "      (0-2): 3 x Sequential(\n",
              "        (0): ConvNorm(\n",
              "          (conv): Conv1d(512, 512, kernel_size=(5,), stride=(1,), padding=(2,))\n",
              "        )\n",
              "        (1): BatchNorm1d(512, eps=1e-05, momentum=0.1, affine=True, track_running_stats=True)\n",
              "      )\n",
              "    )\n",
              "    (lstm): LSTM(512, 256, batch_first=True, bidirectional=True)\n",
              "  )\n",
              "  (decoder): Decoder(\n",
              "    (prenet): Prenet(\n",
              "      (layers): ModuleList(\n",
              "        (0): LinearNorm(\n",
              "          (linear_layer): Linear(in_features=80, out_features=256, bias=False)\n",
              "        )\n",
              "        (1): LinearNorm(\n",
              "          (linear_layer): Linear(in_features=256, out_features=256, bias=False)\n",
              "        )\n",
              "      )\n",
              "    )\n",
              "    (attention_rnn): LSTMCell(768, 1024)\n",
              "    (attention_layer): Attention(\n",
              "      (query_layer): LinearNorm(\n",
              "        (linear_layer): Linear(in_features=1024, out_features=128, bias=False)\n",
              "      )\n",
              "      (memory_layer): LinearNorm(\n",
              "        (linear_layer): Linear(in_features=512, out_features=128, bias=False)\n",
              "      )\n",
              "      (v): LinearNorm(\n",
              "        (linear_layer): Linear(in_features=128, out_features=1, bias=False)\n",
              "      )\n",
              "      (location_layer): LocationLayer(\n",
              "        (location_conv): ConvNorm(\n",
              "          (conv): Conv1d(2, 32, kernel_size=(31,), stride=(1,), padding=(15,), bias=False)\n",
              "        )\n",
              "        (location_dense): LinearNorm(\n",
              "          (linear_layer): Linear(in_features=32, out_features=128, bias=False)\n",
              "        )\n",
              "      )\n",
              "    )\n",
              "    (decoder_rnn): LSTMCell(1536, 1024, bias=1)\n",
              "    (linear_projection): LinearNorm(\n",
              "      (linear_layer): Linear(in_features=1536, out_features=80, bias=True)\n",
              "    )\n",
              "    (gate_layer): LinearNorm(\n",
              "      (linear_layer): Linear(in_features=1536, out_features=1, bias=True)\n",
              "    )\n",
              "  )\n",
              "  (postnet): Postnet(\n",
              "    (convolutions): ModuleList(\n",
              "      (0): Sequential(\n",
              "        (0): ConvNorm(\n",
              "          (conv): Conv1d(80, 512, kernel_size=(5,), stride=(1,), padding=(2,))\n",
              "        )\n",
              "        (1): BatchNorm1d(512, eps=1e-05, momentum=0.1, affine=True, track_running_stats=True)\n",
              "      )\n",
              "      (1-3): 3 x Sequential(\n",
              "        (0): ConvNorm(\n",
              "          (conv): Conv1d(512, 512, kernel_size=(5,), stride=(1,), padding=(2,))\n",
              "        )\n",
              "        (1): BatchNorm1d(512, eps=1e-05, momentum=0.1, affine=True, track_running_stats=True)\n",
              "      )\n",
              "      (4): Sequential(\n",
              "        (0): ConvNorm(\n",
              "          (conv): Conv1d(512, 80, kernel_size=(5,), stride=(1,), padding=(2,))\n",
              "        )\n",
              "        (1): BatchNorm1d(80, eps=1e-05, momentum=0.1, affine=True, track_running_stats=True)\n",
              "      )\n",
              "    )\n",
              "  )\n",
              ")"
            ]
          },
          "metadata": {},
          "execution_count": 3
        }
      ]
    },
    {
      "cell_type": "code",
      "source": [
        "waveglow = torch.hub.load('NVIDIA/DeepLearningExamples:torchhub', 'nvidia_waveglow', model_math='fp16')\n",
        "waveglow = waveglow.remove_weightnorm(waveglow)\n",
        "waveglow = waveglow.to('cuda')\n",
        "waveglow.eval()"
      ],
      "metadata": {
        "colab": {
          "base_uri": "https://localhost:8080/"
        },
        "id": "B3L7aPi-35nE",
        "outputId": "388c507d-8525-4d67-a982-abcb4acf0a04"
      },
      "execution_count": 4,
      "outputs": [
        {
          "output_type": "stream",
          "name": "stderr",
          "text": [
            "Using cache found in /root/.cache/torch/hub/NVIDIA_DeepLearningExamples_torchhub\n",
            "Downloading checkpoint from https://api.ngc.nvidia.com/v2/models/nvidia/waveglow_ckpt_amp/versions/19.09.0/files/nvidia_waveglowpyt_fp16_20190427\n"
          ]
        },
        {
          "output_type": "execute_result",
          "data": {
            "text/plain": [
              "WaveGlow(\n",
              "  (upsample): ConvTranspose1d(80, 80, kernel_size=(1024,), stride=(256,))\n",
              "  (WN): ModuleList(\n",
              "    (0-3): 4 x WN(\n",
              "      (in_layers): ModuleList(\n",
              "        (0): Conv1d(512, 1024, kernel_size=(3,), stride=(1,), padding=(1,))\n",
              "        (1): Conv1d(512, 1024, kernel_size=(3,), stride=(1,), padding=(2,), dilation=(2,))\n",
              "        (2): Conv1d(512, 1024, kernel_size=(3,), stride=(1,), padding=(4,), dilation=(4,))\n",
              "        (3): Conv1d(512, 1024, kernel_size=(3,), stride=(1,), padding=(8,), dilation=(8,))\n",
              "        (4): Conv1d(512, 1024, kernel_size=(3,), stride=(1,), padding=(16,), dilation=(16,))\n",
              "        (5): Conv1d(512, 1024, kernel_size=(3,), stride=(1,), padding=(32,), dilation=(32,))\n",
              "        (6): Conv1d(512, 1024, kernel_size=(3,), stride=(1,), padding=(64,), dilation=(64,))\n",
              "        (7): Conv1d(512, 1024, kernel_size=(3,), stride=(1,), padding=(128,), dilation=(128,))\n",
              "      )\n",
              "      (res_skip_layers): ModuleList(\n",
              "        (0-6): 7 x Conv1d(512, 1024, kernel_size=(1,), stride=(1,))\n",
              "        (7): Conv1d(512, 512, kernel_size=(1,), stride=(1,))\n",
              "      )\n",
              "      (cond_layers): ModuleList(\n",
              "        (0-7): 8 x Conv1d(640, 1024, kernel_size=(1,), stride=(1,))\n",
              "      )\n",
              "      (start): Conv1d(4, 512, kernel_size=(1,), stride=(1,))\n",
              "      (end): Conv1d(512, 8, kernel_size=(1,), stride=(1,))\n",
              "    )\n",
              "    (4-7): 4 x WN(\n",
              "      (in_layers): ModuleList(\n",
              "        (0): Conv1d(512, 1024, kernel_size=(3,), stride=(1,), padding=(1,))\n",
              "        (1): Conv1d(512, 1024, kernel_size=(3,), stride=(1,), padding=(2,), dilation=(2,))\n",
              "        (2): Conv1d(512, 1024, kernel_size=(3,), stride=(1,), padding=(4,), dilation=(4,))\n",
              "        (3): Conv1d(512, 1024, kernel_size=(3,), stride=(1,), padding=(8,), dilation=(8,))\n",
              "        (4): Conv1d(512, 1024, kernel_size=(3,), stride=(1,), padding=(16,), dilation=(16,))\n",
              "        (5): Conv1d(512, 1024, kernel_size=(3,), stride=(1,), padding=(32,), dilation=(32,))\n",
              "        (6): Conv1d(512, 1024, kernel_size=(3,), stride=(1,), padding=(64,), dilation=(64,))\n",
              "        (7): Conv1d(512, 1024, kernel_size=(3,), stride=(1,), padding=(128,), dilation=(128,))\n",
              "      )\n",
              "      (res_skip_layers): ModuleList(\n",
              "        (0-6): 7 x Conv1d(512, 1024, kernel_size=(1,), stride=(1,))\n",
              "        (7): Conv1d(512, 512, kernel_size=(1,), stride=(1,))\n",
              "      )\n",
              "      (cond_layers): ModuleList(\n",
              "        (0-7): 8 x Conv1d(640, 1024, kernel_size=(1,), stride=(1,))\n",
              "      )\n",
              "      (start): Conv1d(3, 512, kernel_size=(1,), stride=(1,))\n",
              "      (end): Conv1d(512, 6, kernel_size=(1,), stride=(1,))\n",
              "    )\n",
              "    (8-11): 4 x WN(\n",
              "      (in_layers): ModuleList(\n",
              "        (0): Conv1d(512, 1024, kernel_size=(3,), stride=(1,), padding=(1,))\n",
              "        (1): Conv1d(512, 1024, kernel_size=(3,), stride=(1,), padding=(2,), dilation=(2,))\n",
              "        (2): Conv1d(512, 1024, kernel_size=(3,), stride=(1,), padding=(4,), dilation=(4,))\n",
              "        (3): Conv1d(512, 1024, kernel_size=(3,), stride=(1,), padding=(8,), dilation=(8,))\n",
              "        (4): Conv1d(512, 1024, kernel_size=(3,), stride=(1,), padding=(16,), dilation=(16,))\n",
              "        (5): Conv1d(512, 1024, kernel_size=(3,), stride=(1,), padding=(32,), dilation=(32,))\n",
              "        (6): Conv1d(512, 1024, kernel_size=(3,), stride=(1,), padding=(64,), dilation=(64,))\n",
              "        (7): Conv1d(512, 1024, kernel_size=(3,), stride=(1,), padding=(128,), dilation=(128,))\n",
              "      )\n",
              "      (res_skip_layers): ModuleList(\n",
              "        (0-6): 7 x Conv1d(512, 1024, kernel_size=(1,), stride=(1,))\n",
              "        (7): Conv1d(512, 512, kernel_size=(1,), stride=(1,))\n",
              "      )\n",
              "      (cond_layers): ModuleList(\n",
              "        (0-7): 8 x Conv1d(640, 1024, kernel_size=(1,), stride=(1,))\n",
              "      )\n",
              "      (start): Conv1d(2, 512, kernel_size=(1,), stride=(1,))\n",
              "      (end): Conv1d(512, 4, kernel_size=(1,), stride=(1,))\n",
              "    )\n",
              "  )\n",
              "  (convinv): ModuleList(\n",
              "    (0-3): 4 x Invertible1x1Conv(\n",
              "      (conv): Conv1d(8, 8, kernel_size=(1,), stride=(1,), bias=False)\n",
              "    )\n",
              "    (4-7): 4 x Invertible1x1Conv(\n",
              "      (conv): Conv1d(6, 6, kernel_size=(1,), stride=(1,), bias=False)\n",
              "    )\n",
              "    (8-11): 4 x Invertible1x1Conv(\n",
              "      (conv): Conv1d(4, 4, kernel_size=(1,), stride=(1,), bias=False)\n",
              "    )\n",
              "  )\n",
              ")"
            ]
          },
          "metadata": {},
          "execution_count": 4
        }
      ]
    },
    {
      "cell_type": "code",
      "source": [
        "# 파이썬 환경 재생\n",
        "from IPython.display import Audio\n",
        "\n",
        "text = \"\"\"\n",
        "Hello World\n",
        "\"\"\"\n",
        "\n",
        "utils = torch.hub.load('NVIDIA/DeepLearningExamples:torchhub', 'nvidia_tts_utils')\n",
        "sequences, lengths = utils.prepare_input_sequence([text])\n",
        "\n",
        "with torch.no_grad():\n",
        "    mel, _, _ = tacotron2.infer(sequences, lengths)\n",
        "    audio = waveglow.infer(mel)\n",
        "audio_numpy = audio[0].data.cpu().numpy()\n",
        "rate = 22050\n",
        "\n",
        "Audio(audio_numpy, rate=rate)"
      ],
      "metadata": {
        "colab": {
          "base_uri": "https://localhost:8080/",
          "height": 92
        },
        "id": "rZro_miM4FTG",
        "outputId": "cdd2944b-6460-4b99-d683-ac28f29712e1"
      },
      "execution_count": 7,
      "outputs": [
        {
          "output_type": "stream",
          "name": "stderr",
          "text": [
            "Using cache found in /root/.cache/torch/hub/NVIDIA_DeepLearningExamples_torchhub\n"
          ]
        },
        {
          "output_type": "execute_result",
          "data": {
            "text/plain": [
              "<IPython.lib.display.Audio object>"
            ],
            "text/html": [
              "\n",
              "                <audio  controls=\"controls\" >\n",
              "                    <source src=\"data:audio/wav;base64,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\" type=\"audio/wav\" />\n",
              "                    Your browser does not support the audio element.\n",
              "                </audio>\n",
              "              "
            ]
          },
          "metadata": {},
          "execution_count": 7
        }
      ]
    },
    {
      "cell_type": "code",
      "source": [],
      "metadata": {
        "id": "sdfPTpm74XsM"
      },
      "execution_count": null,
      "outputs": []
    }
  ]
}