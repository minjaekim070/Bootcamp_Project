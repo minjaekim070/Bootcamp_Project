{
  "nbformat": 4,
  "nbformat_minor": 0,
  "metadata": {
    "colab": {
      "provenance": [],
      "gpuType": "V100",
      "include_colab_link": true
    },
    "kernelspec": {
      "name": "python3",
      "display_name": "Python 3"
    },
    "language_info": {
      "name": "python"
    },
    "accelerator": "GPU"
  },
  "cells": [
    {
      "cell_type": "markdown",
      "metadata": {
        "id": "view-in-github",
        "colab_type": "text"
      },
      "source": [
        "<a href=\"https://colab.research.google.com/github/minjaekim070/Bootcamp_Project/blob/main/DSM_%EA%B0%90%EC%A0%95%EB%B6%84%EC%84%9D.ipynb\" target=\"_parent\"><img src=\"https://colab.research.google.com/assets/colab-badge.svg\" alt=\"Open In Colab\"/></a>"
      ]
    },
    {
      "cell_type": "code",
      "execution_count": null,
      "metadata": {
        "colab": {
          "base_uri": "https://localhost:8080/"
        },
        "id": "SXxiTivcmbc1",
        "outputId": "bbf14342-9578-44e8-fe36-e8b83d11171e"
      },
      "outputs": [
        {
          "output_type": "stream",
          "name": "stdout",
          "text": [
            "\u001b[2K     \u001b[90m━━━━━━━━━━━━━━━━━━━━━━━━━━━━━━━━━━━━━━━━\u001b[0m \u001b[32m1.5/1.5 MB\u001b[0m \u001b[31m8.5 MB/s\u001b[0m eta \u001b[36m0:00:00\u001b[0m\n",
            "\u001b[2K     \u001b[90m━━━━━━━━━━━━━━━━━━━━━━━━━━━━━━━━━━━━━━━━\u001b[0m \u001b[32m1.9/1.9 MB\u001b[0m \u001b[31m15.3 MB/s\u001b[0m eta \u001b[36m0:00:00\u001b[0m\n",
            "\u001b[?25h  Preparing metadata (setup.py) ... \u001b[?25l\u001b[?25hdone\n",
            "  Building wheel for ffmpeg (setup.py) ... \u001b[?25l\u001b[?25hdone\n"
          ]
        }
      ],
      "source": [
        "!pip install -q fer"
      ]
    },
    {
      "cell_type": "code",
      "source": [
        "!unzip /content/drive/MyDrive/운전자 이상탐지/Validation/[원천]bbox(실제도로환경).zip"
      ],
      "metadata": {
        "colab": {
          "base_uri": "https://localhost:8080/"
        },
        "id": "NVBvgdqyBljy",
        "outputId": "1d3674d4-ae5f-4e1f-9a97-0d64e4652ab0"
      },
      "execution_count": null,
      "outputs": [
        {
          "output_type": "stream",
          "name": "stdout",
          "text": [
            "/bin/bash: -c: line 1: syntax error near unexpected token `('\n",
            "/bin/bash: -c: line 1: `unzip /content/drive/MyDrive/운전자 이상탐지/Validation/[원천]bbox(실제도로환경).zip'\n"
          ]
        }
      ]
    },
    {
      "cell_type": "code",
      "source": [
        "from fer import Video\n",
        "from fer import FER\n",
        "import os\n",
        "import sys\n",
        "import pandas as pd"
      ],
      "metadata": {
        "id": "mXBtw1SweztV"
      },
      "execution_count": null,
      "outputs": []
    },
    {
      "cell_type": "markdown",
      "source": [
        "#기존 이미지 데이터셋 기준으로 정리"
      ],
      "metadata": {
        "id": "IniCJAZ8TJuw"
      }
    },
    {
      "cell_type": "code",
      "source": [
        "import os\n",
        "import glob\n",
        "\n",
        "folder_path = '/content/drive/MyDrive/운전자 이상탐지/Training/original/bus/R_001_60_M'\n",
        "extensions = ['jpg']\n",
        "\n",
        "photo_list = []\n",
        "for ext in extensions:\n",
        "    photo_list.extend(glob.glob(os.path.join(folder_path, f'*.{ext}')))\n"
      ],
      "metadata": {
        "id": "nf6G6l8dTMSp"
      },
      "execution_count": null,
      "outputs": []
    },
    {
      "cell_type": "code",
      "source": [
        "detector = FER()"
      ],
      "metadata": {
        "id": "HeFCAC94YsmS"
      },
      "execution_count": null,
      "outputs": []
    },
    {
      "cell_type": "code",
      "source": [
        "def emotion_analysis(self):\n",
        "  for i in self:\n",
        "    result = detector.detect_emotions(self)[0]['emotions']\n",
        "  return result\n"
      ],
      "metadata": {
        "id": "4dei-_PPXzJe"
      },
      "execution_count": null,
      "outputs": []
    },
    {
      "cell_type": "code",
      "source": [
        "detector.detect_emotions(photo_list[0])[0]['emotions']"
      ],
      "metadata": {
        "colab": {
          "base_uri": "https://localhost:8080/"
        },
        "id": "8ceP_0mR2-cy",
        "outputId": "263edfb6-f5a8-4a0e-9efd-ec36645ea8a1"
      },
      "execution_count": null,
      "outputs": [
        {
          "output_type": "execute_result",
          "data": {
            "text/plain": [
              "{'angry': 0.03,\n",
              " 'disgust': 0.0,\n",
              " 'fear': 0.12,\n",
              " 'happy': 0.11,\n",
              " 'sad': 0.4,\n",
              " 'surprise': 0.05,\n",
              " 'neutral': 0.29}"
            ]
          },
          "metadata": {},
          "execution_count": 18
        }
      ]
    },
    {
      "cell_type": "code",
      "source": [
        "detector.detect_emotions(photo_list[16])"
      ],
      "metadata": {
        "colab": {
          "base_uri": "https://localhost:8080/"
        },
        "id": "jj0gaeZDgQl3",
        "outputId": "30fee552-1f83-448c-8a6a-635eabbea7f5"
      },
      "execution_count": null,
      "outputs": [
        {
          "output_type": "execute_result",
          "data": {
            "text/plain": [
              "[{'box': array([260, 773,  69,  69], dtype=int32),\n",
              "  'emotions': {'angry': 0.11,\n",
              "   'disgust': 0.01,\n",
              "   'fear': 0.3,\n",
              "   'happy': 0.15,\n",
              "   'sad': 0.11,\n",
              "   'surprise': 0.15,\n",
              "   'neutral': 0.17}},\n",
              " {'box': array([187, 647, 324, 324], dtype=int32),\n",
              "  'emotions': {'angry': 0.02,\n",
              "   'disgust': 0.0,\n",
              "   'fear': 0.05,\n",
              "   'happy': 0.08,\n",
              "   'sad': 0.3,\n",
              "   'surprise': 0.22,\n",
              "   'neutral': 0.33}}]"
            ]
          },
          "metadata": {},
          "execution_count": 19
        }
      ]
    },
    {
      "cell_type": "code",
      "source": [
        "len(detector.detect_emotions(photo_list[16]))"
      ],
      "metadata": {
        "colab": {
          "base_uri": "https://localhost:8080/"
        },
        "id": "Gy7zAXofiGSh",
        "outputId": "ff8efebf-570f-49b6-e942-1fd2522c3025"
      },
      "execution_count": null,
      "outputs": [
        {
          "output_type": "execute_result",
          "data": {
            "text/plain": [
              "2"
            ]
          },
          "metadata": {},
          "execution_count": 20
        }
      ]
    },
    {
      "cell_type": "code",
      "source": [
        "emotion_analysis(photo_list[16])"
      ],
      "metadata": {
        "colab": {
          "base_uri": "https://localhost:8080/"
        },
        "id": "EqwCQdAKlqDJ",
        "outputId": "6fe9a1e6-87e1-4889-8942-f6aefbd1294c"
      },
      "execution_count": null,
      "outputs": [
        {
          "output_type": "execute_result",
          "data": {
            "text/plain": [
              "{'angry': 0.11,\n",
              " 'disgust': 0.01,\n",
              " 'fear': 0.3,\n",
              " 'happy': 0.15,\n",
              " 'sad': 0.11,\n",
              " 'surprise': 0.15,\n",
              " 'neutral': 0.17}"
            ]
          },
          "metadata": {},
          "execution_count": 21
        }
      ]
    },
    {
      "cell_type": "code",
      "source": [
        "emotions_analysis_result = []\n",
        "for i in range(0,20):\n",
        "  photo = photo_list[i]\n",
        "  if len(detector.detect_emotions(photo)) >= 1:  #emotion detection 결과가 없거나 2개 이상인 경우도 있어서 하나로 제한\n",
        "    emotions_analysis_result.append(emotion_analysis(photo))\n",
        "    print(emotion_analysis(photo))"
      ],
      "metadata": {
        "colab": {
          "base_uri": "https://localhost:8080/"
        },
        "id": "fsMxJFPsamK0",
        "outputId": "ec1b47d7-0942-4598-ada8-cc2b3461e1e1"
      },
      "execution_count": null,
      "outputs": [
        {
          "output_type": "stream",
          "name": "stdout",
          "text": [
            "{'angry': 0.03, 'disgust': 0.0, 'fear': 0.12, 'happy': 0.11, 'sad': 0.4, 'surprise': 0.05, 'neutral': 0.29}\n",
            "{'angry': 0.02, 'disgust': 0.0, 'fear': 0.15, 'happy': 0.5, 'sad': 0.21, 'surprise': 0.03, 'neutral': 0.09}\n",
            "{'angry': 0.08, 'disgust': 0.0, 'fear': 0.28, 'happy': 0.05, 'sad': 0.28, 'surprise': 0.1, 'neutral': 0.2}\n",
            "{'angry': 0.09, 'disgust': 0.02, 'fear': 0.22, 'happy': 0.06, 'sad': 0.43, 'surprise': 0.04, 'neutral': 0.15}\n",
            "{'angry': 0.08, 'disgust': 0.0, 'fear': 0.39, 'happy': 0.14, 'sad': 0.32, 'surprise': 0.01, 'neutral': 0.04}\n",
            "{'angry': 0.06, 'disgust': 0.0, 'fear': 0.15, 'happy': 0.2, 'sad': 0.38, 'surprise': 0.04, 'neutral': 0.16}\n",
            "{'angry': 0.02, 'disgust': 0.0, 'fear': 0.21, 'happy': 0.28, 'sad': 0.31, 'surprise': 0.07, 'neutral': 0.1}\n",
            "{'angry': 0.63, 'disgust': 0.0, 'fear': 0.13, 'happy': 0.05, 'sad': 0.15, 'surprise': 0.0, 'neutral': 0.04}\n",
            "{'angry': 0.47, 'disgust': 0.0, 'fear': 0.25, 'happy': 0.02, 'sad': 0.16, 'surprise': 0.0, 'neutral': 0.1}\n",
            "{'angry': 0.08, 'disgust': 0.0, 'fear': 0.28, 'happy': 0.2, 'sad': 0.24, 'surprise': 0.06, 'neutral': 0.13}\n",
            "{'angry': 0.01, 'disgust': 0.0, 'fear': 0.04, 'happy': 0.11, 'sad': 0.12, 'surprise': 0.53, 'neutral': 0.2}\n",
            "{'angry': 0.08, 'disgust': 0.0, 'fear': 0.52, 'happy': 0.11, 'sad': 0.11, 'surprise': 0.04, 'neutral': 0.14}\n",
            "{'angry': 0.08, 'disgust': 0.0, 'fear': 0.12, 'happy': 0.13, 'sad': 0.07, 'surprise': 0.41, 'neutral': 0.19}\n",
            "{'angry': 0.16, 'disgust': 0.0, 'fear': 0.33, 'happy': 0.08, 'sad': 0.23, 'surprise': 0.01, 'neutral': 0.19}\n",
            "{'angry': 0.15, 'disgust': 0.01, 'fear': 0.07, 'happy': 0.15, 'sad': 0.3, 'surprise': 0.25, 'neutral': 0.07}\n",
            "{'angry': 0.11, 'disgust': 0.01, 'fear': 0.3, 'happy': 0.15, 'sad': 0.11, 'surprise': 0.15, 'neutral': 0.17}\n",
            "{'angry': 0.13, 'disgust': 0.01, 'fear': 0.09, 'happy': 0.06, 'sad': 0.57, 'surprise': 0.0, 'neutral': 0.14}\n",
            "{'angry': 0.02, 'disgust': 0.0, 'fear': 0.07, 'happy': 0.05, 'sad': 0.51, 'surprise': 0.04, 'neutral': 0.3}\n"
          ]
        }
      ]
    },
    {
      "cell_type": "code",
      "source": [
        "# 각각의 감정에 해당하는 확률 값을 따로 모으는 딕셔너리\n",
        "emotions_by_type = {\n",
        "    'happy': [],\n",
        "    'sad': [],\n",
        "    'surprise': [],\n",
        "    'neutral': [],\n",
        "}\n",
        "\n",
        "# 결과값을 종류별로 모으기\n",
        "for result in emotions_analysis_result:\n",
        "    happy = round(sum(result.get(emotion, 0) for emotion in ['happy']), 3)\n",
        "    sad = round(sum(result.get(emotion, 0) for emotion in ['sad', 'disgust']), 3)\n",
        "    surprise = round(sum(result.get(emotion, 0) for emotion in ['surprise', 'angry', 'fear']), 3)\n",
        "    neutral = round(sum(result.get(emotion, 0) for emotion in ['neutral']), 3)\n",
        "\n",
        "    emotions_by_type['happy'].append(happy)\n",
        "    emotions_by_type['sad'].append(sad)\n",
        "    emotions_by_type['surprise'].append(surprise)\n",
        "    emotions_by_type['neutral'].append(neutral)\n",
        "\n",
        "# 결과 출력\n",
        "for emotion, prob_list in emotions_by_type.items():\n",
        "    print(f\"{emotion}: {prob_list}\")\n"
      ],
      "metadata": {
        "colab": {
          "base_uri": "https://localhost:8080/"
        },
        "id": "uJ5Edt3rnJwv",
        "outputId": "962344cb-bebc-4aca-e8ac-48b18ae591bc"
      },
      "execution_count": null,
      "outputs": [
        {
          "output_type": "stream",
          "name": "stdout",
          "text": [
            "happy: [0.11, 0.5, 0.05, 0.06, 0.14, 0.2, 0.28, 0.05, 0.02, 0.2, 0.11, 0.11, 0.13, 0.08, 0.15, 0.15, 0.06, 0.05]\n",
            "sad: [0.4, 0.21, 0.28, 0.45, 0.32, 0.38, 0.31, 0.15, 0.16, 0.24, 0.12, 0.11, 0.07, 0.23, 0.31, 0.12, 0.58, 0.51]\n",
            "surprise: [0.2, 0.2, 0.46, 0.35, 0.48, 0.25, 0.3, 0.76, 0.72, 0.42, 0.58, 0.64, 0.61, 0.5, 0.47, 0.56, 0.22, 0.13]\n",
            "neutral: [0.29, 0.09, 0.2, 0.15, 0.04, 0.16, 0.1, 0.04, 0.1, 0.13, 0.2, 0.14, 0.19, 0.19, 0.07, 0.17, 0.14, 0.3]\n"
          ]
        }
      ]
    },
    {
      "cell_type": "code",
      "source": [
        "import matplotlib.pyplot as plt\n",
        "# 그래프로 시각화\n",
        "for emotion, prob_list in emotions_by_type.items():\n",
        "    plt.plot(range(1, len(prob_list) + 1), prob_list, label=emotion)\n",
        "\n",
        "plt.xlabel('Sample Index')\n",
        "plt.ylabel('Probability')\n",
        "plt.title('Emotions Analysis')\n",
        "plt.legend(loc='upper right')\n",
        "plt.show()"
      ],
      "metadata": {
        "colab": {
          "base_uri": "https://localhost:8080/",
          "height": 472
        },
        "id": "fpN_uAoVnrZ-",
        "outputId": "93b27ddd-a093-4d9c-f8a2-a5670687ba92"
      },
      "execution_count": null,
      "outputs": [
        {
          "output_type": "display_data",
          "data": {
            "text/plain": [
              "<Figure size 640x480 with 1 Axes>"
            ],
            "image/png": "[encoded data removed]"
          },
          "metadata": {}
        }
      ]
    },
    {
      "cell_type": "code",
      "source": [
        "# 연속적으로 감지되는 횟수를 세는 변수 초기화\n",
        "consecutive_detection_count = {\n",
        "    'happy': 0,\n",
        "    'sad': 0,\n",
        "    'surprise': 0,\n",
        "    'neutral': 0,\n",
        "}\n",
        "\n",
        "# 임계값 설정\n",
        "threshold = 0.6\n",
        "continuous_threshold = 0.4\n",
        "continuous_frames = 3  # 연속으로 감지되어야 하는 프레임 수\n",
        "\n",
        "# 결과 출력\n",
        "for i, result in enumerate(emotions_analysis_result):\n",
        "    # 감정별로 확률 값 추출\n",
        "    happy = round(sum(result.get(emotion, 0) for emotion in ['happy']), 3)\n",
        "    sad = round(sum(result.get(emotion, 0) for emotion in ['sad', 'disgust']), 3)\n",
        "    surprise = round(sum(result.get(emotion, 0) for emotion in ['surprise', 'angry', 'fear']), 3)\n",
        "    neutral = round(sum(result.get(emotion, 0) for emotion in ['neutral']), 3)\n",
        "\n",
        "    # 감정별 확률 값을 딕셔너리에 추가\n",
        "    emotions_by_type['happy'].append(happy)\n",
        "    emotions_by_type['sad'].append(sad)\n",
        "    emotions_by_type['surprise'].append(surprise)\n",
        "    emotions_by_type['neutral'].append(neutral)\n",
        "\n",
        "    # 0.6 이상인 감정 출력\n",
        "    for emotion, prob in [('happy', happy), ('sad', sad), ('surprise', surprise), ('neutral', neutral)]:\n",
        "        if prob >= threshold:\n",
        "            print(f\"Frame {i}: High {emotion} detected! Probability: {prob}\")\n",
        "\n",
        "        # 연속적으로 0.4 이상인 감정 검사\n",
        "        if prob >= continuous_threshold:\n",
        "            consecutive_detection_count[emotion] += 1\n",
        "        else:\n",
        "            consecutive_detection_count[emotion] = 0\n",
        "\n",
        "        # 연속적으로 감지된 횟수가 연속 프레임 수를 충족하면 출력\n",
        "        if consecutive_detection_count[emotion] >= continuous_frames:\n",
        "            print(f\"Frame {i}: Continuous {emotion} detected ({continuous_frames} frames)!\")\n"
      ],
      "metadata": {
        "id": "MFDexABg12bs",
        "colab": {
          "base_uri": "https://localhost:8080/"
        },
        "outputId": "5e8c25d4-4a63-4ded-ca68-b32865297433"
      },
      "execution_count": null,
      "outputs": [
        {
          "output_type": "stream",
          "name": "stdout",
          "text": [
            "Frame 7: High surprise detected! Probability: 0.76\n",
            "Frame 8: High surprise detected! Probability: 0.72\n",
            "Frame 9: Continuous surprise detected (3 frames)!\n",
            "Frame 10: Continuous surprise detected (3 frames)!\n",
            "Frame 11: High surprise detected! Probability: 0.64\n",
            "Frame 11: Continuous surprise detected (3 frames)!\n",
            "Frame 12: High surprise detected! Probability: 0.61\n",
            "Frame 12: Continuous surprise detected (3 frames)!\n",
            "Frame 13: Continuous surprise detected (3 frames)!\n",
            "Frame 14: Continuous surprise detected (3 frames)!\n",
            "Frame 15: Continuous surprise detected (3 frames)!\n"
          ]
        }
      ]
    },
    {
      "cell_type": "markdown",
      "source": [
        "#동영상 기준으로 감정"
      ],
      "metadata": {
        "id": "u_Joq2fqykbh"
      }
    },
    {
      "cell_type": "code",
      "source": [],
      "metadata": {
        "id": "zeUSd5hImiVe"
      },
      "execution_count": null,
      "outputs": []
    },
    {
      "cell_type": "code",
      "source": [
        "detector = FER()"
      ],
      "metadata": {
        "id": "TZ5D3c_Tsd09"
      },
      "execution_count": null,
      "outputs": []
    },
    {
      "cell_type": "code",
      "source": [
        "print(dir(detector))"
      ],
      "metadata": {
        "colab": {
          "base_uri": "https://localhost:8080/"
        },
        "id": "ZVATiv0osg8K",
        "outputId": "6fb39282-9e29-4a35-c5fe-fbefa9ea22d3"
      },
      "execution_count": null,
      "outputs": [
        {
          "output_type": "stream",
          "name": "stdout",
          "text": [
            "['_FER__apply_offsets', '_FER__emotion_classifier', '_FER__emotion_target_size', '_FER__face_detector', '_FER__min_face_size', '_FER__min_neighbors', '_FER__offsets', '_FER__preprocess_input', '_FER__scale_factor', '__class__', '__delattr__', '__dict__', '__dir__', '__doc__', '__eq__', '__format__', '__ge__', '__getattribute__', '__gt__', '__hash__', '__init__', '__init_subclass__', '__le__', '__lt__', '__module__', '__ne__', '__new__', '__reduce__', '__reduce_ex__', '__repr__', '__setattr__', '__sizeof__', '__str__', '__subclasshook__', '__weakref__', '_classify_emotions', '_get_labels', '_initialize_model', 'depad', 'detect_emotions', 'find_faces', 'pad', 'tfserving', 'top_emotion', 'tosquare']\n"
          ]
        }
      ]
    },
    {
      "cell_type": "code",
      "source": [
        "videofile_location = 'sample.mp4'\n",
        "#얼굴 인식\n",
        "face_detector = FER(mtcnn = True)\n",
        "#비디오 처리 입력값 설정\n",
        "input_video = Video(videofile_location)"
      ],
      "metadata": {
        "id": "XIKsrbmJmu2x"
      },
      "execution_count": null,
      "outputs": []
    },
    {
      "cell_type": "code",
      "source": [
        "processing_data = input_video.analyze(face_detector, display = False)"
      ],
      "metadata": {
        "id": "QPHCL1VvppBF"
      },
      "execution_count": null,
      "outputs": []
    },
    {
      "cell_type": "code",
      "source": [
        "# to_pandas 메서드로 DataFrame으로 변환\n",
        "vid_df = input_video.to_pandas(processing_data)\n",
        "\n",
        "# get_first_face 메서드를 통해 각 프레임의 첫 번째 얼굴 데이터를 가져와 DataFrame에 추가\n",
        "vid_df = input_video.get_first_face(vid_df)\n",
        "\n",
        "# get_emotions 메서드를 통해 얼굴 감정 데이터를 가져와 DataFrame에 추가\n",
        "vid_df = input_video.get_emotions(vid_df)"
      ],
      "metadata": {
        "id": "6ukFcn8gpulW"
      },
      "execution_count": null,
      "outputs": []
    },
    {
      "cell_type": "code",
      "source": [
        "import matplotlib.pyplot as plt\n",
        "# 시각화\n",
        "pltfig = vid_df.plot(figsize=(20, 8))\n",
        "plt.show()"
      ],
      "metadata": {
        "id": "PHvXsaFmp5Ql"
      },
      "execution_count": null,
      "outputs": []
    }
  ]
}