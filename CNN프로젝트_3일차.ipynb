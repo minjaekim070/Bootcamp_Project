{
  "nbformat": 4,
  "nbformat_minor": 0,
  "metadata": {
    "colab": {
      "provenance": [],
      "gpuType": "T4",
      "mount_file_id": "1LVpeJxuzPxCv9LZcG96L5LN4L4ftFWof",
      "authorship_tag": "ABX9TyM+wDYfWDaeFc4GmiZsfGmk",
      "include_colab_link": true
    },
    "kernelspec": {
      "name": "python3",
      "display_name": "Python 3"
    },
    "language_info": {
      "name": "python"
    },
    "accelerator": "GPU"
  },
  "cells": [
    {
      "cell_type": "markdown",
      "metadata": {
        "id": "view-in-github",
        "colab_type": "text"
      },
      "source": [
        "<a href=\"https://colab.research.google.com/github/minjaekim070/Bootcamp_Project/blob/main/CNN%ED%94%84%EB%A1%9C%EC%A0%9D%ED%8A%B8_3%EC%9D%BC%EC%B0%A8.ipynb\" target=\"_parent\"><img src=\"https://colab.research.google.com/assets/colab-badge.svg\" alt=\"Open In Colab\"/></a>"
      ]
    },
    {
      "cell_type": "markdown",
      "source": [
        "전체 데이터셋의 다운로드가 오래 걸려서 bottle 폴더에 대한 내용을 우선적으로 정상/비정상으로 분류할 수 있도록 진행"
      ],
      "metadata": {
        "id": "LHt48_VyZmCp"
      }
    },
    {
      "cell_type": "markdown",
      "source": [
        "#Library import\n"
      ],
      "metadata": {
        "id": "RFSAcMEOUWgg"
      }
    },
    {
      "cell_type": "code",
      "execution_count": 1,
      "metadata": {
        "id": "fGPPV15ASMjF"
      },
      "outputs": [],
      "source": [
        "# 패키지 import\n",
        "import os\n",
        "import torch\n",
        "import torch.nn as nn\n",
        "import torch.optim as optim\n",
        "import torch.nn.functional as F\n",
        "import tensorflow as tf\n",
        "from torchvision import transforms, datasets, utils\n",
        "from torchsummary import summary\n",
        "\n",
        "import matplotlib.pyplot as plt\n",
        "import numpy as np\n",
        "\n",
        "from tensorflow.keras.preprocessing import image\n"
      ]
    },
    {
      "cell_type": "markdown",
      "source": [
        "#이미지 업로드 및 배열 변환\n"
      ],
      "metadata": {
        "id": "cJuTK1nkZfLL"
      }
    },
    {
      "cell_type": "code",
      "source": [
        "# 이미지 경로\n",
        "train_data_dir = '/content/drive/MyDrive/bottle/train/good'\n",
        "large_data_dir = '/content/drive/MyDrive/bottle/test/broken_large'\n",
        "small_data_dir = '/content/drive/MyDrive/bottle/test/broken_small'\n",
        "contamination_data_dir='/content/drive/MyDrive/bottle/test/contamination'\n",
        "test_data_dir = '/content/drive/MyDrive/bottle/test/good'\n",
        "gr_tr_large_dir = '/content/drive/MyDrive/bottle/ground_truth/broken_large'\n",
        "gr_tr_small_dir = '/content/drive/MyDrive/bottle/ground_truth/broken_small'\n",
        "gr_tr_contamination_dir = '/content/drive/MyDrive/bottle/ground_truth/contamination'"
      ],
      "metadata": {
        "id": "VXd6758kSP2n"
      },
      "execution_count": 2,
      "outputs": []
    },
    {
      "cell_type": "code",
      "source": [
        "#이미지를 데이터로 변환\n",
        "def load_image_data(image_dir):\n",
        "    image_data = []\n",
        "    for img_name in os.listdir(image_dir):\n",
        "        img_path = os.path.join(image_dir, img_name)\n",
        "        img = image.load_img(img_path, target_size=(64, 64))  # 이미지를 지정된 크기로 로드합니다\n",
        "        img_array = image.img_to_array(img)  # 이미지를 배열 형태로 변환합니다\n",
        "        image_data.append(img_array)\n",
        "    return image_data\n",
        "\n",
        "def load_data(data_dir, test_data_dir, large_data_dir, small_data_dir, contamination_data_dir):\n",
        "    train_image_data = load_image_data(data_dir)\n",
        "    test_image_data = load_image_data(test_data_dir)\n",
        "    large_image_data = load_image_data(large_data_dir)\n",
        "    small_image_data = load_image_data(small_data_dir)\n",
        "    contamination_image_data = load_image_data(contamination_data_dir)\n",
        "    return train_image_data, test_image_data, large_image_data, small_image_data, contamination_image_data\n",
        "\n",
        "train_image_data, test_image_data, large_image_data, small_image_data, contamination_image_data = load_data(train_data_dir, test_data_dir, large_data_dir, small_data_dir, contamination_data_dir)\n"
      ],
      "metadata": {
        "id": "j7hpP-BQY48s"
      },
      "execution_count": 3,
      "outputs": []
    },
    {
      "cell_type": "code",
      "source": [
        "#Segmentation용 이미지를 데이터로 변환\n",
        "def load_data(gr_tr_large_dir, gr_tr_small_dir, gr_tr_contamination_dir):\n",
        "    gr_tr_large_data = load_image_data(gr_tr_large_dir)\n",
        "    gr_tr_small_data = load_image_data(gr_tr_small_dir)\n",
        "    gr_tr_contamination_data = load_image_data(gr_tr_contamination_dir)\n",
        "    return gr_tr_large_data, gr_tr_small_data, gr_tr_contamination_data\n",
        "\n",
        "gr_tr_large_data, gr_tr_small_data, gr_tr_contamination_data = load_data(gr_tr_large_dir, gr_tr_small_dir, gr_tr_contamination_dir)\n"
      ],
      "metadata": {
        "id": "JEAdTIrRoYPE"
      },
      "execution_count": 4,
      "outputs": []
    },
    {
      "cell_type": "code",
      "source": [
        "#배열로 변환, normalization\n",
        "def preprocess_image_data(image_data):\n",
        "    return np.array(image_data) / 255\n",
        "\n",
        "train_image_data = preprocess_image_data(train_image_data)\n",
        "test_image_data = preprocess_image_data(test_image_data)\n",
        "small_image_data = preprocess_image_data(small_image_data)\n",
        "large_image_data = preprocess_image_data(large_image_data)\n",
        "contamination_image_data = preprocess_image_data(contamination_image_data)\n",
        "gr_tr_large_data = preprocess_image_data(gr_tr_large_data)\n",
        "gr_tr_small_data = preprocess_image_data(gr_tr_small_data)\n",
        "gr_tr_contamination_data = preprocess_image_data(gr_tr_contamination_data)\n"
      ],
      "metadata": {
        "id": "DV758phRpRZI"
      },
      "execution_count": 5,
      "outputs": []
    },
    {
      "cell_type": "code",
      "source": [
        "#데이터 확인\n",
        "test_image_data[0][16][16]"
      ],
      "metadata": {
        "colab": {
          "base_uri": "https://localhost:8080/"
        },
        "id": "RD8QJBiyowya",
        "outputId": "f5a63e36-6efe-46a4-b625-514b33d8f889"
      },
      "execution_count": 6,
      "outputs": [
        {
          "output_type": "execute_result",
          "data": {
            "text/plain": [
              "array([0.40392157, 0.34117648, 0.32156864], dtype=float32)"
            ]
          },
          "metadata": {},
          "execution_count": 6
        }
      ]
    },
    {
      "cell_type": "markdown",
      "source": [
        "#데이터 전처리"
      ],
      "metadata": {
        "id": "ebEjDYpo1b5j"
      }
    },
    {
      "cell_type": "markdown",
      "source": [
        "크게 파손, 적게 파손, 오염된 데이터 셋 모두 augmentation을 통해 데이터의 양을 늘린 뒤에, train과 test로 분리 후에 예측 결과 확인"
      ],
      "metadata": {
        "id": "-3rGIGx74Au_"
      }
    },
    {
      "cell_type": "code",
      "source": [
        "#배열 변환된 데이터 셋\n",
        "\"\"\"\n",
        "train_image_data : 정상 훈련 데이터 (200)\n",
        "test_image_data : 정상 테스트 데이터 (20)\n",
        "small_image_data : 적게 파손 (20)\n",
        "large_image_data : 크게 파손 (20)\n",
        "contamination_image_data : 오염 (20)\n",
        "\"\"\""
      ],
      "metadata": {
        "colab": {
          "base_uri": "https://localhost:8080/",
          "height": 54
        },
        "id": "dKt63-sy1iJS",
        "outputId": "21ce8557-085e-4cab-840f-248067c57c5a"
      },
      "execution_count": 7,
      "outputs": [
        {
          "output_type": "execute_result",
          "data": {
            "text/plain": [
              "'\\ntrain_image_data : 정상 훈련 데이터 (200)\\ntest_image_data : 정상 테스트 데이터 (20)\\nsmall_image_data : 적게 파손 (20)\\nlarge_image_data : 크게 파손 (20)\\ncontamination_image_data : 오염 (20)\\n'"
            ],
            "application/vnd.google.colaboratory.intrinsic+json": {
              "type": "string"
            }
          },
          "metadata": {},
          "execution_count": 7
        }
      ]
    },
    {
      "cell_type": "code",
      "source": [
        "#정상 데이터셋이 너무 과도하게 많기 때문에 50개 정도로 추출\n",
        "subset_train_data = train_image_data[:50]"
      ],
      "metadata": {
        "id": "Wx7bGOXb2dRB"
      },
      "execution_count": 8,
      "outputs": []
    },
    {
      "cell_type": "code",
      "source": [
        "from tensorflow.keras.preprocessing.image import ImageDataGenerator\n",
        "from PIL import Image\n",
        "\n",
        "# 이미지 데이터 증강을 위한 ImageDataGenerator 생성\n",
        "datagen = ImageDataGenerator(\n",
        "    rotation_range=20,  # 이미지 회전 범위 (0~20도 사이에서 무작위로 회전)\n",
        "    width_shift_range=0.1,  # 가로로 이미지 이동 범위 (전체 너비의 0.1 비율로 무작위로 이동)\n",
        "    height_shift_range=0.1,  # 세로로 이미지 이동 범위 (전체 높이의 0.1 비율로 무작위로 이동)\n",
        "    shear_range=0.2,  # 이미지 변형을 위한 전단 강도 (0.2 비율 내외로 무작위로 전단)\n",
        "    zoom_range=0.2,  # 이미지 확대/축소 범위 (0.2 비율 내외로 무작위로 확대/축소)\n",
        "    horizontal_flip=True,  # 이미지 수평 뒤집기\n",
        "    fill_mode='nearest'  # 이미지 변형 시 채울 픽셀 값 설정\n",
        ")\n",
        "\n",
        "# augmented 이미지 개수\n",
        "desired_num_augmented_images = 10"
      ],
      "metadata": {
        "id": "EEhWDU7i4xtP"
      },
      "execution_count": 9,
      "outputs": []
    },
    {
      "cell_type": "code",
      "source": [
        "def augment_images(image_data, desired_num_augmented_images):\n",
        "    augmented_images = []\n",
        "    num_generated_images = 0\n",
        "\n",
        "    while num_generated_images < desired_num_augmented_images:\n",
        "        image = image_data[0]\n",
        "        generated_images = datagen.flow(np.expand_dims(image, axis=0), batch_size=1)\n",
        "\n",
        "        augmented_images.extend(generated_images[0])\n",
        "        num_generated_images = len(augmented_images)\n",
        "\n",
        "    augmented_images = np.array(augmented_images[:desired_num_augmented_images])\n",
        "    return augmented_images\n",
        "\n",
        "# broken_small 이미지 증강\n",
        "augmented_small_images = augment_images(small_image_data, desired_num_augmented_images)\n",
        "\n",
        "# broken_large 이미지 증강\n",
        "augmented_large_images = augment_images(large_image_data, desired_num_augmented_images)\n",
        "\n",
        "# contamination 이미지 증강\n",
        "augmented_contamination_images = augment_images(contamination_image_data, desired_num_augmented_images)\n"
      ],
      "metadata": {
        "id": "0iCPeuJi7cTN"
      },
      "execution_count": 31,
      "outputs": []
    },
    {
      "cell_type": "code",
      "source": [
        "#데이터 개수 확인\n",
        "print(test_image_data.shape[0])\n",
        "print(small_image_data.shape[0])\n",
        "print(large_image_data.shape[0])\n",
        "print(contamination_image_data.shape[0])\n",
        "print(augmented_small_images.shape[0])\n",
        "print(augmented_large_images.shape[0])\n",
        "print(augmented_contamination_images.shape[0])"
      ],
      "metadata": {
        "colab": {
          "base_uri": "https://localhost:8080/"
        },
        "id": "lQB15CIQbTVr",
        "outputId": "20699a26-5418-4c9e-eb57-0d15097064e3"
      },
      "execution_count": 32,
      "outputs": [
        {
          "output_type": "stream",
          "name": "stdout",
          "text": [
            "20\n",
            "22\n",
            "20\n",
            "21\n",
            "10\n",
            "10\n",
            "10\n"
          ]
        }
      ]
    },
    {
      "cell_type": "code",
      "source": [
        "#각각의 데이터와 augmented_image합친 후 shuffle\n",
        "combined_small_data = np.concatenate((small_image_data, augmented_small_images), axis=0)\n",
        "np.random.shuffle(combined_small_data)\n",
        "\n",
        "combined_large_data = np.concatenate((large_image_data, augmented_large_images), axis=0)\n",
        "np.random.shuffle(combined_large_data)\n",
        "\n",
        "combined_contamination_data = np.concatenate((contamination_image_data, augmented_contamination_images), axis=0)\n",
        "np.random.shuffle(combined_contamination_data)\n",
        "\n",
        "#적게 파손, 크게 파손 모두 파손된 데이터로 합쳐서 분류\n",
        "combined_broken_data = np.concatenate((combined_small_data, combined_large_data), axis=0)"
      ],
      "metadata": {
        "id": "2wOOGdjN9Zir"
      },
      "execution_count": 33,
      "outputs": []
    },
    {
      "cell_type": "code",
      "source": [
        "#배열 변환된 데이터 셋\n",
        "\"\"\"\n",
        "subset_train_data : 정상 훈련 데이터\n",
        "test_image_data : 정상 테스트 데이터\n",
        "combined_broken_data : augmentation 진행한 broken_small, broken_large data\n",
        "combined_contamination_data : augmentation 진행한 contamination_data\n",
        "\"\"\""
      ],
      "metadata": {
        "colab": {
          "base_uri": "https://localhost:8080/",
          "height": 54
        },
        "id": "SDoJqPe49z30",
        "outputId": "cb9fea9e-d223-4647-a1ed-92c59f9f59ed"
      },
      "execution_count": 34,
      "outputs": [
        {
          "output_type": "execute_result",
          "data": {
            "text/plain": [
              "'\\nsubset_train_data : 정상 훈련 데이터\\ntest_image_data : 정상 테스트 데이터\\ncombined_broken_data : augmentation 진행한 broken_small, broken_large data\\ncombined_contamination_data : augmentation 진행한 contamination_data\\n'"
            ],
            "application/vnd.google.colaboratory.intrinsic+json": {
              "type": "string"
            }
          },
          "metadata": {},
          "execution_count": 34
        }
      ]
    },
    {
      "cell_type": "code",
      "source": [
        "#Train set 구성\n",
        "\n",
        "# 데이터 개수 구하기\n",
        "broken_num_samples = combined_broken_data.shape[0]\n",
        "contamination_num_samples = combined_contamination_data.shape[0]\n",
        "\n",
        "# 90%의 데이터 개수 계산\n",
        "b_90 = int(0.90 * broken_num_samples)\n",
        "c_90 = int(0.90 * contamination_num_samples)\n",
        "\n",
        "# 90% 데이터 추출\n",
        "b_new_data = combined_broken_data[:b_90]\n",
        "c_new_data = combined_contamination_data[:c_90]\n",
        "\n",
        "# subset_train_data와 combined_small_data 합치기\n",
        "resized_images = np.concatenate((subset_train_data, b_new_data, c_new_data), axis=0)"
      ],
      "metadata": {
        "id": "VRjNygNAPeeG"
      },
      "execution_count": 35,
      "outputs": []
    },
    {
      "cell_type": "code",
      "source": [
        "all_labels = []\n",
        "for i in range(0,subset_train_data.shape[0]):\n",
        "  all_labels.append([1,0,0])\n",
        "for j in range(0,b_new_data.shape[0]):\n",
        "  all_labels.append([0,1,0])\n",
        "for k in range(0,c_new_data.shape[0]):\n",
        "  all_labels.append([0,0,1])\n",
        "all_labels = np.array(all_labels)"
      ],
      "metadata": {
        "id": "gNtqeDd9S4bh"
      },
      "execution_count": 36,
      "outputs": []
    },
    {
      "cell_type": "code",
      "source": [
        "#Test set 구성\n",
        "b_test_data = combined_broken_data[b_90:]\n",
        "c_test_data = combined_contamination_data[c_90:]\n",
        "test_set_data = np.concatenate((test_image_data, b_test_data, c_test_data),axis=0)\n",
        "\n",
        "test_labels = []\n",
        "for i in range(0,test_image_data.shape[0]):\n",
        "  test_labels.append([1,0,0])\n",
        "for j in range(0,b_test_data.shape[0]):\n",
        "  test_labels.append([0,1,0])\n",
        "for k in range(0,c_test_data.shape[0]):\n",
        "  test_labels.append([0,0,1])\n",
        "test_labels = np.array(test_labels)"
      ],
      "metadata": {
        "id": "QYmTL5NbSbsS"
      },
      "execution_count": 37,
      "outputs": []
    },
    {
      "cell_type": "code",
      "source": [
        "#최종 데이터셋 shape 확인\n",
        "print(resized_images.shape)\n",
        "print(all_labels.shape)\n",
        "print(test_set_data.shape)\n",
        "print(test_labels.shape)"
      ],
      "metadata": {
        "colab": {
          "base_uri": "https://localhost:8080/"
        },
        "id": "8W6laGHv1q92",
        "outputId": "c5218dc5-e5ea-498e-97dd-4b440e3771d1"
      },
      "execution_count": 38,
      "outputs": [
        {
          "output_type": "stream",
          "name": "stdout",
          "text": [
            "(132, 64, 64, 3)\n",
            "(132, 3)\n",
            "(31, 64, 64, 3)\n",
            "(31, 3)\n"
          ]
        }
      ]
    },
    {
      "cell_type": "markdown",
      "source": [
        "#모델 구성 및 결과 예측"
      ],
      "metadata": {
        "id": "oCRxxFhnZa5S"
      }
    },
    {
      "cell_type": "code",
      "source": [
        "from sklearn.model_selection import GridSearchCV\n",
        "from tensorflow.keras.wrappers.scikit_learn import KerasClassifier\n",
        "from tensorflow.keras.models import Sequential\n",
        "\n",
        "\n",
        "# CNN 모델을 함수 형태로 정의\n",
        "def create_model():\n",
        "    model = Sequential()\n",
        "    model.add(layers.Conv2D(64, (3, 3), activation='relu', input_shape=(64, 64, 3)))\n",
        "    model.add(layers.MaxPooling2D((2, 2)))\n",
        "    model.add(layers.Conv2D(128, (3, 3), activation='relu'))\n",
        "    model.add(layers.MaxPooling2D((2, 2)))\n",
        "    model.add(layers.Conv2D(256, (3,3), activation='relu'))\n",
        "    model.add(layers.MaxPooling2D((2,2)))\n",
        "    model.add(layers.Flatten())\n",
        "    model.add(layers.Dense(256, activation='relu'))\n",
        "    model.add(layers.Dense(64, activation='relu'))\n",
        "    model.add(layers.Dense(3, activation='softmax'))\n",
        "    model.compile(optimizer='adam', loss='categorical_crossentropy', metrics=['accuracy'])\n",
        "    return model\n",
        "\n",
        "# KerasClassifier를 사용하여 Keras 모델을 래핑\n",
        "keras_model = KerasClassifier(build_fn=create_model)\n",
        "\n",
        "# 그리드 탐색을 위한 hyperparameter 조합 설정\n",
        "param_grid = {\n",
        "    'batch_size': [32, 64],\n",
        "    'epochs': [10, 20, 30]\n",
        "}\n",
        "\n",
        "# GridSearchCV를 사용하여 그리드 탐색 수행\n",
        "grid_search = GridSearchCV(estimator=keras_model, param_grid=param_grid, cv=3)\n",
        "grid_search_result = grid_search.fit(resized_images, all_labels)\n",
        "\n",
        "# 최적의 hyperparameter 조합과 결과 출력\n",
        "print(\"Best Score: \", grid_search_result.best_score_)\n",
        "print(\"Best Params: \", grid_search_result.best_params_)"
      ],
      "metadata": {
        "colab": {
          "base_uri": "https://localhost:8080/"
        },
        "id": "8uxcxVvoihHk",
        "outputId": "98a2acb7-ca51-4b13-d37a-65305e6ffdcd"
      },
      "execution_count": 41,
      "outputs": [
        {
          "output_type": "stream",
          "name": "stdout",
          "text": [
            "Epoch 1/10\n"
          ]
        },
        {
          "output_type": "stream",
          "name": "stderr",
          "text": [
            "<ipython-input-41-13f99bc52fcc>:23: DeprecationWarning: KerasClassifier is deprecated, use Sci-Keras (https://github.com/adriangb/scikeras) instead. See https://www.adriangb.com/scikeras/stable/migration.html for help migrating.\n",
            "  keras_model = KerasClassifier(build_fn=create_model)\n"
          ]
        },
        {
          "output_type": "stream",
          "name": "stdout",
          "text": [
            "3/3 [==============================] - 3s 621ms/step - loss: 1.0437 - accuracy: 0.4773\n",
            "Epoch 2/10\n",
            "3/3 [==============================] - 3s 1s/step - loss: 0.9578 - accuracy: 0.3864\n",
            "Epoch 3/10\n",
            "3/3 [==============================] - 2s 581ms/step - loss: 0.8842 - accuracy: 0.6250\n",
            "Epoch 4/10\n",
            "3/3 [==============================] - 2s 511ms/step - loss: 0.8604 - accuracy: 0.6250\n",
            "Epoch 5/10\n",
            "3/3 [==============================] - 2s 518ms/step - loss: 0.8680 - accuracy: 0.6250\n",
            "Epoch 6/10\n",
            "3/3 [==============================] - 2s 515ms/step - loss: 0.8474 - accuracy: 0.6250\n",
            "Epoch 7/10\n",
            "3/3 [==============================] - 2s 508ms/step - loss: 0.8381 - accuracy: 0.6250\n",
            "Epoch 8/10\n",
            "3/3 [==============================] - 2s 514ms/step - loss: 0.8314 - accuracy: 0.6250\n",
            "Epoch 9/10\n",
            "3/3 [==============================] - 2s 725ms/step - loss: 0.8444 - accuracy: 0.6250\n",
            "Epoch 10/10\n",
            "3/3 [==============================] - 3s 972ms/step - loss: 0.8382 - accuracy: 0.6250\n",
            "2/2 [==============================] - 0s 67ms/step - loss: 2.2681 - accuracy: 0.0000e+00\n",
            "Epoch 1/10\n",
            "3/3 [==============================] - 3s 757ms/step - loss: 1.0938 - accuracy: 0.4091\n",
            "Epoch 2/10\n",
            "3/3 [==============================] - 3s 994ms/step - loss: 1.0172 - accuracy: 0.5000\n",
            "Epoch 3/10\n",
            "3/3 [==============================] - 2s 523ms/step - loss: 1.0496 - accuracy: 0.4205\n",
            "Epoch 4/10\n",
            "3/3 [==============================] - 2s 513ms/step - loss: 1.0066 - accuracy: 0.5000\n",
            "Epoch 5/10\n",
            "3/3 [==============================] - 2s 521ms/step - loss: 0.9610 - accuracy: 0.5227\n",
            "Epoch 6/10\n",
            "3/3 [==============================] - 2s 533ms/step - loss: 0.8757 - accuracy: 0.6364\n",
            "Epoch 7/10\n",
            "3/3 [==============================] - 2s 527ms/step - loss: 0.9421 - accuracy: 0.4773\n",
            "Epoch 8/10\n",
            "3/3 [==============================] - 2s 532ms/step - loss: 0.9477 - accuracy: 0.4659\n",
            "Epoch 9/10\n",
            "3/3 [==============================] - 2s 873ms/step - loss: 0.9152 - accuracy: 0.5795\n",
            "Epoch 10/10\n",
            "3/3 [==============================] - 3s 920ms/step - loss: 0.8887 - accuracy: 0.6364\n",
            "2/2 [==============================] - 0s 67ms/step - loss: 1.3268 - accuracy: 0.1591\n",
            "Epoch 1/10\n",
            "3/3 [==============================] - 4s 816ms/step - loss: 0.9917 - accuracy: 0.6477\n",
            "Epoch 2/10\n",
            "3/3 [==============================] - 3s 963ms/step - loss: 0.7737 - accuracy: 0.4318\n",
            "Epoch 3/10\n",
            "3/3 [==============================] - 2s 531ms/step - loss: 0.7198 - accuracy: 0.5682\n",
            "Epoch 4/10\n",
            "3/3 [==============================] - 2s 853ms/step - loss: 0.6901 - accuracy: 0.5682\n",
            "Epoch 5/10\n",
            "3/3 [==============================] - 3s 964ms/step - loss: 0.6686 - accuracy: 0.5455\n",
            "Epoch 6/10\n",
            "3/3 [==============================] - 2s 522ms/step - loss: 0.6274 - accuracy: 0.6477\n",
            "Epoch 7/10\n",
            "3/3 [==============================] - 2s 541ms/step - loss: 0.6374 - accuracy: 0.5795\n",
            "Epoch 8/10\n",
            "3/3 [==============================] - 3s 944ms/step - loss: 0.5991 - accuracy: 0.5795\n",
            "Epoch 9/10\n",
            "3/3 [==============================] - 3s 726ms/step - loss: 0.6019 - accuracy: 0.6705\n",
            "Epoch 10/10\n",
            "3/3 [==============================] - 2s 522ms/step - loss: 0.5494 - accuracy: 0.7386\n"
          ]
        },
        {
          "output_type": "stream",
          "name": "stderr",
          "text": [
            "WARNING:tensorflow:5 out of the last 9 calls to <function Model.make_test_function.<locals>.test_function at 0x7eb8b0bf5000> triggered tf.function retracing. Tracing is expensive and the excessive number of tracings could be due to (1) creating @tf.function repeatedly in a loop, (2) passing tensors with different shapes, (3) passing Python objects instead of tensors. For (1), please define your @tf.function outside of the loop. For (2), @tf.function has reduce_retracing=True option that can avoid unnecessary retracing. For (3), please refer to https://www.tensorflow.org/guide/function#controlling_retracing and https://www.tensorflow.org/api_docs/python/tf/function for  more details.\n"
          ]
        },
        {
          "output_type": "stream",
          "name": "stdout",
          "text": [
            "2/2 [==============================] - 0s 75ms/step - loss: 9.1390 - accuracy: 0.3864\n",
            "Epoch 1/20\n",
            "3/3 [==============================] - 3s 731ms/step - loss: 1.0577 - accuracy: 0.5000\n",
            "Epoch 2/20\n",
            "3/3 [==============================] - 3s 980ms/step - loss: 0.8964 - accuracy: 0.6250\n",
            "Epoch 3/20\n",
            "3/3 [==============================] - 2s 560ms/step - loss: 0.8914 - accuracy: 0.6250\n",
            "Epoch 4/20\n",
            "3/3 [==============================] - 2s 516ms/step - loss: 0.8322 - accuracy: 0.6250\n",
            "Epoch 5/20\n",
            "3/3 [==============================] - 2s 529ms/step - loss: 0.8676 - accuracy: 0.6250\n",
            "Epoch 6/20\n",
            "3/3 [==============================] - 2s 518ms/step - loss: 0.8428 - accuracy: 0.6250\n",
            "Epoch 7/20\n",
            "3/3 [==============================] - 2s 514ms/step - loss: 0.8184 - accuracy: 0.6250\n",
            "Epoch 8/20\n",
            "3/3 [==============================] - 2s 526ms/step - loss: 0.8522 - accuracy: 0.6250\n",
            "Epoch 9/20\n",
            "3/3 [==============================] - 2s 812ms/step - loss: 0.8131 - accuracy: 0.6250\n",
            "Epoch 10/20\n",
            "3/3 [==============================] - 3s 954ms/step - loss: 0.8230 - accuracy: 0.6250\n",
            "Epoch 11/20\n",
            "3/3 [==============================] - 2s 519ms/step - loss: 0.7964 - accuracy: 0.6250\n",
            "Epoch 12/20\n",
            "3/3 [==============================] - 2s 515ms/step - loss: 0.7889 - accuracy: 0.6250\n",
            "Epoch 13/20\n",
            "3/3 [==============================] - 2s 515ms/step - loss: 0.7758 - accuracy: 0.6250\n",
            "Epoch 14/20\n",
            "3/3 [==============================] - 2s 522ms/step - loss: 0.7296 - accuracy: 0.6250\n",
            "Epoch 15/20\n",
            "3/3 [==============================] - 2s 517ms/step - loss: 0.6969 - accuracy: 0.7614\n",
            "Epoch 16/20\n",
            "3/3 [==============================] - 2s 526ms/step - loss: 0.6264 - accuracy: 0.7955\n",
            "Epoch 17/20\n",
            "3/3 [==============================] - 2s 902ms/step - loss: 0.5246 - accuracy: 0.7727\n",
            "Epoch 18/20\n",
            "3/3 [==============================] - 3s 979ms/step - loss: 0.4584 - accuracy: 0.8523\n",
            "Epoch 19/20\n",
            "3/3 [==============================] - 2s 516ms/step - loss: 0.4239 - accuracy: 0.8182\n",
            "Epoch 20/20\n",
            "3/3 [==============================] - 2s 528ms/step - loss: 0.3082 - accuracy: 0.8636\n"
          ]
        },
        {
          "output_type": "stream",
          "name": "stderr",
          "text": [
            "WARNING:tensorflow:6 out of the last 11 calls to <function Model.make_test_function.<locals>.test_function at 0x7eb8b0bf7ac0> triggered tf.function retracing. Tracing is expensive and the excessive number of tracings could be due to (1) creating @tf.function repeatedly in a loop, (2) passing tensors with different shapes, (3) passing Python objects instead of tensors. For (1), please define your @tf.function outside of the loop. For (2), @tf.function has reduce_retracing=True option that can avoid unnecessary retracing. For (3), please refer to https://www.tensorflow.org/guide/function#controlling_retracing and https://www.tensorflow.org/api_docs/python/tf/function for  more details.\n"
          ]
        },
        {
          "output_type": "stream",
          "name": "stdout",
          "text": [
            "2/2 [==============================] - 0s 68ms/step - loss: 1.9168 - accuracy: 0.0000e+00\n",
            "Epoch 1/20\n",
            "3/3 [==============================] - 3s 531ms/step - loss: 1.0641 - accuracy: 0.3295\n",
            "Epoch 2/20\n",
            "3/3 [==============================] - 2s 530ms/step - loss: 1.0334 - accuracy: 0.5114\n",
            "Epoch 3/20\n",
            "3/3 [==============================] - 2s 552ms/step - loss: 1.0283 - accuracy: 0.5000\n",
            "Epoch 4/20\n",
            "3/3 [==============================] - 3s 980ms/step - loss: 0.9836 - accuracy: 0.5000\n",
            "Epoch 5/20\n",
            "3/3 [==============================] - 2s 733ms/step - loss: 0.9563 - accuracy: 0.5114\n",
            "Epoch 6/20\n",
            "3/3 [==============================] - 2s 524ms/step - loss: 0.8575 - accuracy: 0.6477\n",
            "Epoch 7/20\n",
            "3/3 [==============================] - 2s 527ms/step - loss: 0.7868 - accuracy: 0.7386\n",
            "Epoch 8/20\n",
            "3/3 [==============================] - 2s 525ms/step - loss: 0.7644 - accuracy: 0.6932\n",
            "Epoch 9/20\n",
            "3/3 [==============================] - 2s 517ms/step - loss: 0.7477 - accuracy: 0.5909\n",
            "Epoch 10/20\n",
            "3/3 [==============================] - 2s 529ms/step - loss: 0.6203 - accuracy: 0.7841\n",
            "Epoch 11/20\n",
            "3/3 [==============================] - 2s 613ms/step - loss: 0.4834 - accuracy: 0.8977\n",
            "Epoch 12/20\n",
            "3/3 [==============================] - 3s 973ms/step - loss: 0.5171 - accuracy: 0.7955\n",
            "Epoch 13/20\n",
            "3/3 [==============================] - 2s 631ms/step - loss: 0.3486 - accuracy: 0.8977\n",
            "Epoch 14/20\n",
            "3/3 [==============================] - 2s 527ms/step - loss: 0.2507 - accuracy: 0.9091\n",
            "Epoch 15/20\n",
            "3/3 [==============================] - 2s 533ms/step - loss: 0.2514 - accuracy: 0.8977\n",
            "Epoch 16/20\n",
            "3/3 [==============================] - 2s 530ms/step - loss: 0.2641 - accuracy: 0.9205\n",
            "Epoch 17/20\n",
            "3/3 [==============================] - 2s 526ms/step - loss: 0.2389 - accuracy: 0.9318\n",
            "Epoch 18/20\n",
            "3/3 [==============================] - 2s 529ms/step - loss: 0.2260 - accuracy: 0.9205\n",
            "Epoch 19/20\n",
            "3/3 [==============================] - 2s 802ms/step - loss: 0.2394 - accuracy: 0.9205\n",
            "Epoch 20/20\n",
            "3/3 [==============================] - 3s 991ms/step - loss: 0.1998 - accuracy: 0.9091\n",
            "2/2 [==============================] - 0s 68ms/step - loss: 0.5540 - accuracy: 0.7727\n",
            "Epoch 1/20\n",
            "3/3 [==============================] - 3s 530ms/step - loss: 0.9070 - accuracy: 0.3182\n",
            "Epoch 2/20\n",
            "3/3 [==============================] - 2s 534ms/step - loss: 0.9214 - accuracy: 0.5000\n",
            "Epoch 3/20\n",
            "3/3 [==============================] - 2s 530ms/step - loss: 0.9316 - accuracy: 0.4318\n",
            "Epoch 4/20\n",
            "3/3 [==============================] - 2s 508ms/step - loss: 0.7064 - accuracy: 0.6932\n",
            "Epoch 5/20\n",
            "3/3 [==============================] - 3s 970ms/step - loss: 0.7176 - accuracy: 0.5682\n",
            "Epoch 6/20\n",
            "3/3 [==============================] - 3s 920ms/step - loss: 0.6777 - accuracy: 0.5682\n",
            "Epoch 7/20\n",
            "3/3 [==============================] - 2s 521ms/step - loss: 0.6543 - accuracy: 0.5795\n",
            "Epoch 8/20\n",
            "3/3 [==============================] - 2s 526ms/step - loss: 0.6387 - accuracy: 0.7500\n",
            "Epoch 9/20\n",
            "3/3 [==============================] - 2s 524ms/step - loss: 0.6225 - accuracy: 0.6136\n",
            "Epoch 10/20\n",
            "3/3 [==============================] - 2s 526ms/step - loss: 0.5522 - accuracy: 0.9545\n",
            "Epoch 11/20\n",
            "3/3 [==============================] - 2s 520ms/step - loss: 0.4883 - accuracy: 0.7273\n",
            "Epoch 12/20\n",
            "3/3 [==============================] - 2s 536ms/step - loss: 0.4483 - accuracy: 0.7386\n",
            "Epoch 13/20\n",
            "3/3 [==============================] - 3s 967ms/step - loss: 0.3369 - accuracy: 0.9091\n",
            "Epoch 14/20\n",
            "3/3 [==============================] - 3s 772ms/step - loss: 0.2620 - accuracy: 0.9432\n",
            "Epoch 15/20\n",
            "3/3 [==============================] - 2s 525ms/step - loss: 0.3438 - accuracy: 0.8750\n",
            "Epoch 16/20\n",
            "3/3 [==============================] - 2s 524ms/step - loss: 0.2125 - accuracy: 0.8977\n",
            "Epoch 17/20\n",
            "3/3 [==============================] - 2s 523ms/step - loss: 0.3018 - accuracy: 0.8068\n",
            "Epoch 18/20\n",
            "3/3 [==============================] - 2s 519ms/step - loss: 0.1534 - accuracy: 0.9432\n",
            "Epoch 19/20\n",
            "3/3 [==============================] - 2s 519ms/step - loss: 0.1356 - accuracy: 1.0000\n",
            "Epoch 20/20\n",
            "3/3 [==============================] - 2s 572ms/step - loss: 0.1125 - accuracy: 0.9545\n",
            "2/2 [==============================] - 1s 116ms/step - loss: 21.3883 - accuracy: 0.3864\n",
            "Epoch 1/30\n",
            "3/3 [==============================] - 56s 535ms/step - loss: 0.9908 - accuracy: 0.4205\n",
            "Epoch 2/30\n",
            "3/3 [==============================] - 2s 519ms/step - loss: 0.9906 - accuracy: 0.6250\n",
            "Epoch 3/30\n",
            "3/3 [==============================] - 2s 520ms/step - loss: 0.9166 - accuracy: 0.3750\n",
            "Epoch 4/30\n",
            "3/3 [==============================] - 2s 521ms/step - loss: 0.8542 - accuracy: 0.6250\n",
            "Epoch 5/30\n",
            "3/3 [==============================] - 2s 521ms/step - loss: 0.8515 - accuracy: 0.6250\n",
            "Epoch 6/30\n",
            "3/3 [==============================] - 3s 932ms/step - loss: 0.8319 - accuracy: 0.6250\n",
            "Epoch 7/30\n",
            "3/3 [==============================] - 3s 829ms/step - loss: 0.8196 - accuracy: 0.6250\n",
            "Epoch 8/30\n",
            "3/3 [==============================] - 2s 526ms/step - loss: 0.8204 - accuracy: 0.6250\n",
            "Epoch 9/30\n",
            "3/3 [==============================] - 2s 518ms/step - loss: 0.7997 - accuracy: 0.6250\n",
            "Epoch 10/30\n",
            "3/3 [==============================] - 2s 529ms/step - loss: 0.8089 - accuracy: 0.6250\n",
            "Epoch 11/30\n",
            "3/3 [==============================] - 2s 536ms/step - loss: 0.7711 - accuracy: 0.6250\n",
            "Epoch 12/30\n",
            "3/3 [==============================] - 2s 530ms/step - loss: 0.7157 - accuracy: 0.6250\n",
            "Epoch 13/30\n",
            "3/3 [==============================] - 2s 549ms/step - loss: 0.6522 - accuracy: 0.6818\n",
            "Epoch 14/30\n",
            "3/3 [==============================] - 3s 954ms/step - loss: 0.5635 - accuracy: 0.8523\n",
            "Epoch 15/30\n",
            "3/3 [==============================] - 3s 714ms/step - loss: 0.5217 - accuracy: 0.8182\n",
            "Epoch 16/30\n",
            "3/3 [==============================] - 2s 522ms/step - loss: 0.3896 - accuracy: 0.8977\n",
            "Epoch 17/30\n",
            "3/3 [==============================] - 2s 519ms/step - loss: 0.4030 - accuracy: 0.8409\n",
            "Epoch 18/30\n",
            "3/3 [==============================] - 2s 525ms/step - loss: 0.3015 - accuracy: 0.8977\n",
            "Epoch 19/30\n",
            "3/3 [==============================] - 2s 515ms/step - loss: 0.2317 - accuracy: 0.9091\n",
            "Epoch 20/30\n",
            "3/3 [==============================] - 2s 525ms/step - loss: 0.2005 - accuracy: 0.9205\n",
            "Epoch 21/30\n",
            "3/3 [==============================] - 2s 675ms/step - loss: 0.1773 - accuracy: 0.9318\n",
            "Epoch 22/30\n",
            "3/3 [==============================] - 3s 968ms/step - loss: 0.1459 - accuracy: 0.9432\n",
            "Epoch 23/30\n",
            "3/3 [==============================] - 2s 586ms/step - loss: 0.1362 - accuracy: 0.9318\n",
            "Epoch 24/30\n",
            "3/3 [==============================] - 2s 535ms/step - loss: 0.0882 - accuracy: 0.9886\n",
            "Epoch 25/30\n",
            "3/3 [==============================] - 2s 522ms/step - loss: 0.1777 - accuracy: 0.9432\n",
            "Epoch 26/30\n",
            "3/3 [==============================] - 2s 532ms/step - loss: 0.0748 - accuracy: 1.0000\n",
            "Epoch 27/30\n",
            "3/3 [==============================] - 2s 517ms/step - loss: 0.1235 - accuracy: 0.9545\n",
            "Epoch 28/30\n",
            "3/3 [==============================] - 2s 526ms/step - loss: 0.0669 - accuracy: 0.9886\n",
            "Epoch 29/30\n",
            "3/3 [==============================] - 2s 813ms/step - loss: 0.0533 - accuracy: 1.0000\n",
            "Epoch 30/30\n",
            "3/3 [==============================] - 3s 950ms/step - loss: 0.0384 - accuracy: 0.9886\n",
            "2/2 [==============================] - 1s 116ms/step - loss: 1.4124 - accuracy: 0.5682\n",
            "Epoch 1/30\n",
            "3/3 [==============================] - 3s 524ms/step - loss: 1.2303 - accuracy: 0.3182\n",
            "Epoch 2/30\n",
            "3/3 [==============================] - 2s 515ms/step - loss: 1.0788 - accuracy: 0.4091\n",
            "Epoch 3/30\n",
            "3/3 [==============================] - 2s 522ms/step - loss: 1.0496 - accuracy: 0.5000\n",
            "Epoch 4/30\n",
            "3/3 [==============================] - 2s 522ms/step - loss: 1.0168 - accuracy: 0.5000\n",
            "Epoch 5/30\n",
            "3/3 [==============================] - 2s 517ms/step - loss: 1.0106 - accuracy: 0.5000\n",
            "Epoch 6/30\n",
            "3/3 [==============================] - 2s 520ms/step - loss: 0.9805 - accuracy: 0.5000\n",
            "Epoch 7/30\n",
            "3/3 [==============================] - 3s 948ms/step - loss: 0.9725 - accuracy: 0.5568\n",
            "Epoch 8/30\n",
            "3/3 [==============================] - 3s 933ms/step - loss: 0.9052 - accuracy: 0.5795\n",
            "Epoch 9/30\n",
            "3/3 [==============================] - 2s 518ms/step - loss: 0.8738 - accuracy: 0.6705\n",
            "Epoch 10/30\n",
            "3/3 [==============================] - 2s 515ms/step - loss: 0.7819 - accuracy: 0.6477\n",
            "Epoch 11/30\n",
            "3/3 [==============================] - 2s 519ms/step - loss: 0.8139 - accuracy: 0.7386\n",
            "Epoch 12/30\n",
            "3/3 [==============================] - 2s 520ms/step - loss: 0.6848 - accuracy: 0.7045\n",
            "Epoch 13/30\n",
            "3/3 [==============================] - 2s 518ms/step - loss: 0.5878 - accuracy: 0.7273\n",
            "Epoch 14/30\n",
            "3/3 [==============================] - 2s 519ms/step - loss: 0.5550 - accuracy: 0.8182\n",
            "Epoch 15/30\n",
            "3/3 [==============================] - 3s 970ms/step - loss: 0.4463 - accuracy: 0.8636\n",
            "Epoch 16/30\n",
            "3/3 [==============================] - 3s 773ms/step - loss: 0.3743 - accuracy: 0.8636\n",
            "Epoch 17/30\n",
            "3/3 [==============================] - 2s 523ms/step - loss: 0.2960 - accuracy: 0.9205\n",
            "Epoch 18/30\n",
            "3/3 [==============================] - 2s 522ms/step - loss: 0.3045 - accuracy: 0.8636\n",
            "Epoch 19/30\n",
            "3/3 [==============================] - 2s 531ms/step - loss: 0.3467 - accuracy: 0.8750\n",
            "Epoch 20/30\n",
            "3/3 [==============================] - 2s 550ms/step - loss: 0.3683 - accuracy: 0.8977\n",
            "Epoch 21/30\n",
            "3/3 [==============================] - 2s 522ms/step - loss: 0.2964 - accuracy: 0.8864\n",
            "Epoch 22/30\n",
            "3/3 [==============================] - 2s 588ms/step - loss: 0.2857 - accuracy: 0.8864\n",
            "Epoch 23/30\n",
            "3/3 [==============================] - 3s 938ms/step - loss: 0.2172 - accuracy: 0.9432\n",
            "Epoch 24/30\n",
            "3/3 [==============================] - 2s 649ms/step - loss: 0.1819 - accuracy: 0.9545\n",
            "Epoch 25/30\n",
            "3/3 [==============================] - 2s 524ms/step - loss: 0.2085 - accuracy: 0.9318\n",
            "Epoch 26/30\n",
            "3/3 [==============================] - 2s 529ms/step - loss: 0.2093 - accuracy: 0.9205\n",
            "Epoch 27/30\n",
            "3/3 [==============================] - 2s 518ms/step - loss: 0.1639 - accuracy: 0.9318\n",
            "Epoch 28/30\n",
            "3/3 [==============================] - 2s 524ms/step - loss: 0.1301 - accuracy: 0.9659\n",
            "Epoch 29/30\n",
            "3/3 [==============================] - 2s 529ms/step - loss: 0.1555 - accuracy: 0.9318\n",
            "Epoch 30/30\n",
            "3/3 [==============================] - 2s 757ms/step - loss: 0.1346 - accuracy: 0.9545\n",
            "2/2 [==============================] - 1s 92ms/step - loss: 1.9360 - accuracy: 0.4545\n",
            "Epoch 1/30\n",
            "3/3 [==============================] - 4s 531ms/step - loss: 0.9306 - accuracy: 0.5227\n",
            "Epoch 2/30\n",
            "3/3 [==============================] - 2s 527ms/step - loss: 0.7372 - accuracy: 0.5682\n",
            "Epoch 3/30\n",
            "3/3 [==============================] - 2s 522ms/step - loss: 0.6551 - accuracy: 0.5455\n",
            "Epoch 4/30\n",
            "3/3 [==============================] - 2s 515ms/step - loss: 0.6358 - accuracy: 0.6932\n",
            "Epoch 5/30\n",
            "3/3 [==============================] - 2s 521ms/step - loss: 0.5861 - accuracy: 0.7386\n",
            "Epoch 6/30\n",
            "3/3 [==============================] - 2s 520ms/step - loss: 0.5213 - accuracy: 0.6591\n",
            "Epoch 7/30\n",
            "3/3 [==============================] - 3s 956ms/step - loss: 0.4647 - accuracy: 0.8182\n",
            "Epoch 8/30\n",
            "3/3 [==============================] - 3s 921ms/step - loss: 0.3993 - accuracy: 0.7273\n",
            "Epoch 9/30\n",
            "3/3 [==============================] - 2s 516ms/step - loss: 0.3489 - accuracy: 0.8295\n",
            "Epoch 10/30\n",
            "3/3 [==============================] - 2s 512ms/step - loss: 0.2805 - accuracy: 0.9545\n",
            "Epoch 11/30\n",
            "3/3 [==============================] - 2s 522ms/step - loss: 0.1725 - accuracy: 0.9659\n",
            "Epoch 12/30\n",
            "3/3 [==============================] - 2s 516ms/step - loss: 0.0951 - accuracy: 0.9659\n",
            "Epoch 13/30\n",
            "3/3 [==============================] - 2s 526ms/step - loss: 0.0997 - accuracy: 0.9659\n",
            "Epoch 14/30\n",
            "3/3 [==============================] - 2s 531ms/step - loss: 0.4054 - accuracy: 0.8409\n",
            "Epoch 15/30\n",
            "3/3 [==============================] - 3s 878ms/step - loss: 0.0821 - accuracy: 0.9773\n",
            "Epoch 16/30\n",
            "3/3 [==============================] - 3s 918ms/step - loss: 0.1616 - accuracy: 0.9886\n",
            "Epoch 17/30\n",
            "3/3 [==============================] - 2s 515ms/step - loss: 0.0835 - accuracy: 0.9773\n",
            "Epoch 18/30\n",
            "3/3 [==============================] - 2s 521ms/step - loss: 0.0753 - accuracy: 0.9773\n",
            "Epoch 19/30\n",
            "3/3 [==============================] - 2s 528ms/step - loss: 0.0446 - accuracy: 0.9886\n",
            "Epoch 20/30\n",
            "3/3 [==============================] - 3s 956ms/step - loss: 0.0308 - accuracy: 0.9886\n",
            "Epoch 21/30\n",
            "3/3 [==============================] - 3s 907ms/step - loss: 0.0185 - accuracy: 0.9886\n",
            "Epoch 22/30\n",
            "3/3 [==============================] - 3s 952ms/step - loss: 0.0078 - accuracy: 1.0000\n",
            "Epoch 23/30\n",
            "3/3 [==============================] - 2s 640ms/step - loss: 0.0079 - accuracy: 1.0000\n",
            "Epoch 24/30\n",
            "3/3 [==============================] - 2s 520ms/step - loss: 0.0055 - accuracy: 1.0000\n",
            "Epoch 25/30\n",
            "3/3 [==============================] - 2s 521ms/step - loss: 0.0029 - accuracy: 1.0000\n",
            "Epoch 26/30\n",
            "3/3 [==============================] - 2s 522ms/step - loss: 0.0061 - accuracy: 1.0000\n",
            "Epoch 27/30\n",
            "3/3 [==============================] - 2s 550ms/step - loss: 0.0045 - accuracy: 1.0000\n",
            "Epoch 28/30\n",
            "3/3 [==============================] - 2s 531ms/step - loss: 0.0047 - accuracy: 1.0000\n",
            "Epoch 29/30\n",
            "3/3 [==============================] - 2s 745ms/step - loss: 0.0010 - accuracy: 1.0000\n",
            "Epoch 30/30\n",
            "3/3 [==============================] - 3s 983ms/step - loss: 0.0038 - accuracy: 1.0000\n",
            "2/2 [==============================] - 0s 70ms/step - loss: 17.7488 - accuracy: 0.3636\n",
            "Epoch 1/10\n",
            "2/2 [==============================] - 4s 872ms/step - loss: 1.1620 - accuracy: 0.3068\n",
            "Epoch 2/10\n",
            "2/2 [==============================] - 2s 457ms/step - loss: 0.9517 - accuracy: 0.3636\n",
            "Epoch 3/10\n",
            "2/2 [==============================] - 2s 454ms/step - loss: 0.8728 - accuracy: 0.6250\n",
            "Epoch 4/10\n",
            "2/2 [==============================] - 2s 445ms/step - loss: 0.8804 - accuracy: 0.6250\n",
            "Epoch 5/10\n",
            "2/2 [==============================] - 2s 456ms/step - loss: 0.8465 - accuracy: 0.6250\n",
            "Epoch 6/10\n",
            "2/2 [==============================] - 2s 446ms/step - loss: 0.8478 - accuracy: 0.6250\n",
            "Epoch 7/10\n",
            "2/2 [==============================] - 2s 454ms/step - loss: 0.8570 - accuracy: 0.6250\n",
            "Epoch 8/10\n",
            "2/2 [==============================] - 2s 847ms/step - loss: 0.8346 - accuracy: 0.6250\n",
            "Epoch 9/10\n",
            "2/2 [==============================] - 3s 869ms/step - loss: 0.8261 - accuracy: 0.6250\n",
            "Epoch 10/10\n",
            "2/2 [==============================] - 2s 469ms/step - loss: 0.8181 - accuracy: 0.6250\n",
            "1/1 [==============================] - 0s 396ms/step - loss: 2.6238 - accuracy: 0.0000e+00\n",
            "Epoch 1/10\n",
            "2/2 [==============================] - 5s 838ms/step - loss: 1.0868 - accuracy: 0.2955\n",
            "Epoch 2/10\n",
            "2/2 [==============================] - 2s 444ms/step - loss: 1.2681 - accuracy: 0.3068\n",
            "Epoch 3/10\n",
            "2/2 [==============================] - 2s 451ms/step - loss: 1.0435 - accuracy: 0.5000\n",
            "Epoch 4/10\n",
            "2/2 [==============================] - 2s 465ms/step - loss: 1.0331 - accuracy: 0.5000\n",
            "Epoch 5/10\n",
            "2/2 [==============================] - 2s 453ms/step - loss: 1.0493 - accuracy: 0.5000\n",
            "Epoch 6/10\n",
            "2/2 [==============================] - 2s 452ms/step - loss: 1.0285 - accuracy: 0.5000\n",
            "Epoch 7/10\n",
            "2/2 [==============================] - 2s 441ms/step - loss: 1.0240 - accuracy: 0.5000\n",
            "Epoch 8/10\n",
            "2/2 [==============================] - 2s 818ms/step - loss: 1.0282 - accuracy: 0.5000\n",
            "Epoch 9/10\n",
            "2/2 [==============================] - 3s 854ms/step - loss: 1.0165 - accuracy: 0.5000\n",
            "Epoch 10/10\n",
            "2/2 [==============================] - 2s 451ms/step - loss: 1.0051 - accuracy: 0.5000\n",
            "1/1 [==============================] - 0s 421ms/step - loss: 1.8475 - accuracy: 0.1364\n",
            "Epoch 1/10\n",
            "2/2 [==============================] - 5s 861ms/step - loss: 1.0610 - accuracy: 0.1477\n",
            "Epoch 2/10\n",
            "2/2 [==============================] - 2s 438ms/step - loss: 0.9609 - accuracy: 0.4773\n",
            "Epoch 3/10\n",
            "2/2 [==============================] - 2s 465ms/step - loss: 0.7019 - accuracy: 0.4318\n",
            "Epoch 4/10\n",
            "2/2 [==============================] - 2s 465ms/step - loss: 0.7553 - accuracy: 0.4318\n",
            "Epoch 5/10\n",
            "2/2 [==============================] - 2s 448ms/step - loss: 0.7458 - accuracy: 0.5909\n",
            "Epoch 6/10\n",
            "2/2 [==============================] - 2s 463ms/step - loss: 0.7198 - accuracy: 0.5682\n",
            "Epoch 7/10\n",
            "2/2 [==============================] - 2s 447ms/step - loss: 0.6659 - accuracy: 0.6136\n",
            "Epoch 8/10\n",
            "2/2 [==============================] - 2s 810ms/step - loss: 0.6638 - accuracy: 0.5568\n",
            "Epoch 9/10\n",
            "2/2 [==============================] - 3s 846ms/step - loss: 0.6835 - accuracy: 0.5682\n",
            "Epoch 10/10\n",
            "2/2 [==============================] - 2s 454ms/step - loss: 0.6303 - accuracy: 0.7045\n",
            "1/1 [==============================] - 0s 385ms/step - loss: 6.7441 - accuracy: 0.3864\n",
            "Epoch 1/20\n",
            "2/2 [==============================] - 3s 473ms/step - loss: 0.9801 - accuracy: 0.4773\n",
            "Epoch 2/20\n",
            "2/2 [==============================] - 2s 448ms/step - loss: 1.8551 - accuracy: 0.6250\n",
            "Epoch 3/20\n",
            "2/2 [==============================] - 2s 466ms/step - loss: 0.9096 - accuracy: 0.5000\n",
            "Epoch 4/20\n",
            "2/2 [==============================] - 2s 456ms/step - loss: 0.9853 - accuracy: 0.3068\n",
            "Epoch 5/20\n",
            "2/2 [==============================] - 3s 853ms/step - loss: 0.9622 - accuracy: 0.6250\n",
            "Epoch 6/20\n",
            "2/2 [==============================] - 3s 498ms/step - loss: 0.8851 - accuracy: 0.6250\n",
            "Epoch 7/20\n",
            "2/2 [==============================] - 2s 448ms/step - loss: 0.8570 - accuracy: 0.6250\n",
            "Epoch 8/20\n",
            "2/2 [==============================] - 2s 465ms/step - loss: 0.8632 - accuracy: 0.6250\n",
            "Epoch 9/20\n",
            "2/2 [==============================] - 2s 441ms/step - loss: 0.8421 - accuracy: 0.6250\n",
            "Epoch 10/20\n",
            "2/2 [==============================] - 2s 444ms/step - loss: 0.8354 - accuracy: 0.6250\n",
            "Epoch 11/20\n",
            "2/2 [==============================] - 2s 458ms/step - loss: 0.8302 - accuracy: 0.6250\n",
            "Epoch 12/20\n",
            "2/2 [==============================] - 2s 849ms/step - loss: 0.8325 - accuracy: 0.6250\n",
            "Epoch 13/20\n",
            "2/2 [==============================] - 3s 841ms/step - loss: 0.8299 - accuracy: 0.6250\n",
            "Epoch 14/20\n",
            "2/2 [==============================] - 2s 455ms/step - loss: 0.8262 - accuracy: 0.6250\n",
            "Epoch 15/20\n",
            "2/2 [==============================] - 2s 832ms/step - loss: 0.8274 - accuracy: 0.6250\n",
            "Epoch 16/20\n",
            "2/2 [==============================] - 3s 839ms/step - loss: 0.8202 - accuracy: 0.6250\n",
            "Epoch 17/20\n",
            "2/2 [==============================] - 2s 445ms/step - loss: 0.8124 - accuracy: 0.6250\n",
            "Epoch 18/20\n",
            "2/2 [==============================] - 2s 456ms/step - loss: 0.8111 - accuracy: 0.6250\n",
            "Epoch 19/20\n",
            "2/2 [==============================] - 3s 870ms/step - loss: 0.8109 - accuracy: 0.6250\n",
            "Epoch 20/20\n",
            "2/2 [==============================] - 3s 461ms/step - loss: 0.7927 - accuracy: 0.6250\n",
            "1/1 [==============================] - 0s 386ms/step - loss: 3.0523 - accuracy: 0.0000e+00\n",
            "Epoch 1/20\n",
            "2/2 [==============================] - 3s 454ms/step - loss: 1.1512 - accuracy: 0.5000\n",
            "Epoch 2/20\n",
            "2/2 [==============================] - 2s 443ms/step - loss: 1.0428 - accuracy: 0.4205\n",
            "Epoch 3/20\n",
            "2/2 [==============================] - 2s 474ms/step - loss: 1.0522 - accuracy: 0.5000\n",
            "Epoch 4/20\n",
            "2/2 [==============================] - 2s 839ms/step - loss: 1.0339 - accuracy: 0.5000\n",
            "Epoch 5/20\n",
            "2/2 [==============================] - 3s 873ms/step - loss: 1.0173 - accuracy: 0.5000\n",
            "Epoch 6/20\n",
            "2/2 [==============================] - 2s 456ms/step - loss: 1.0076 - accuracy: 0.5000\n",
            "Epoch 7/20\n",
            "2/2 [==============================] - 2s 446ms/step - loss: 1.0218 - accuracy: 0.5000\n",
            "Epoch 8/20\n",
            "2/2 [==============================] - 2s 451ms/step - loss: 0.9993 - accuracy: 0.5000\n",
            "Epoch 9/20\n",
            "2/2 [==============================] - 2s 466ms/step - loss: 0.9890 - accuracy: 0.5000\n",
            "Epoch 10/20\n",
            "2/2 [==============================] - 2s 449ms/step - loss: 0.9457 - accuracy: 0.5000\n",
            "Epoch 11/20\n",
            "2/2 [==============================] - 2s 459ms/step - loss: 0.9343 - accuracy: 0.5000\n",
            "Epoch 12/20\n",
            "2/2 [==============================] - 3s 792ms/step - loss: 0.9017 - accuracy: 0.6023\n",
            "Epoch 13/20\n",
            "2/2 [==============================] - 3s 693ms/step - loss: 0.8286 - accuracy: 0.6477\n",
            "Epoch 14/20\n",
            "2/2 [==============================] - 2s 469ms/step - loss: 0.7673 - accuracy: 0.6591\n",
            "Epoch 15/20\n",
            "2/2 [==============================] - 2s 468ms/step - loss: 0.6766 - accuracy: 0.7045\n",
            "Epoch 16/20\n",
            "2/2 [==============================] - 2s 452ms/step - loss: 0.6886 - accuracy: 0.6136\n",
            "Epoch 17/20\n",
            "2/2 [==============================] - 2s 468ms/step - loss: 0.5930 - accuracy: 0.7273\n",
            "Epoch 18/20\n",
            "2/2 [==============================] - 2s 435ms/step - loss: 0.5909 - accuracy: 0.7386\n",
            "Epoch 19/20\n",
            "2/2 [==============================] - 2s 524ms/step - loss: 0.5203 - accuracy: 0.9091\n",
            "Epoch 20/20\n",
            "2/2 [==============================] - 3s 812ms/step - loss: 0.4774 - accuracy: 0.9205\n",
            "1/1 [==============================] - 0s 387ms/step - loss: 1.0308 - accuracy: 0.5909\n",
            "Epoch 1/20\n",
            "2/2 [==============================] - 3s 447ms/step - loss: 0.9847 - accuracy: 0.5341\n",
            "Epoch 2/20\n",
            "2/2 [==============================] - 2s 454ms/step - loss: 0.8207 - accuracy: 0.5455\n",
            "Epoch 3/20\n",
            "2/2 [==============================] - 2s 443ms/step - loss: 0.7319 - accuracy: 0.5795\n",
            "Epoch 4/20\n",
            "2/2 [==============================] - 2s 446ms/step - loss: 0.6940 - accuracy: 0.5682\n",
            "Epoch 5/20\n",
            "2/2 [==============================] - 2s 792ms/step - loss: 0.6964 - accuracy: 0.5682\n",
            "Epoch 6/20\n",
            "2/2 [==============================] - 3s 862ms/step - loss: 0.6607 - accuracy: 0.5682\n",
            "Epoch 7/20\n",
            "2/2 [==============================] - 2s 457ms/step - loss: 0.6250 - accuracy: 0.8295\n",
            "Epoch 8/20\n",
            "2/2 [==============================] - 2s 446ms/step - loss: 0.6242 - accuracy: 0.6136\n",
            "Epoch 9/20\n",
            "2/2 [==============================] - 2s 461ms/step - loss: 0.6111 - accuracy: 0.4545\n",
            "Epoch 10/20\n",
            "2/2 [==============================] - 2s 449ms/step - loss: 0.5062 - accuracy: 0.8523\n",
            "Epoch 11/20\n",
            "2/2 [==============================] - 2s 440ms/step - loss: 0.5680 - accuracy: 0.5227\n",
            "Epoch 12/20\n",
            "2/2 [==============================] - 2s 468ms/step - loss: 0.4113 - accuracy: 0.8068\n",
            "Epoch 13/20\n",
            "2/2 [==============================] - 2s 833ms/step - loss: 0.4317 - accuracy: 0.6477\n",
            "Epoch 14/20\n",
            "2/2 [==============================] - 3s 874ms/step - loss: 0.4818 - accuracy: 0.7841\n",
            "Epoch 15/20\n",
            "2/2 [==============================] - 2s 463ms/step - loss: 0.3422 - accuracy: 0.9545\n",
            "Epoch 16/20\n",
            "2/2 [==============================] - 2s 452ms/step - loss: 0.2717 - accuracy: 0.8636\n",
            "Epoch 17/20\n",
            "2/2 [==============================] - 2s 478ms/step - loss: 0.2240 - accuracy: 0.9205\n",
            "Epoch 18/20\n",
            "2/2 [==============================] - 2s 456ms/step - loss: 0.2402 - accuracy: 0.9432\n",
            "Epoch 19/20\n",
            "2/2 [==============================] - 2s 457ms/step - loss: 0.1821 - accuracy: 0.9205\n",
            "Epoch 20/20\n",
            "2/2 [==============================] - 2s 465ms/step - loss: 0.1274 - accuracy: 0.9545\n",
            "1/1 [==============================] - 1s 567ms/step - loss: 13.7071 - accuracy: 0.3864\n",
            "Epoch 1/30\n",
            "2/2 [==============================] - 3s 441ms/step - loss: 1.0555 - accuracy: 0.4886\n",
            "Epoch 2/30\n",
            "2/2 [==============================] - 2s 476ms/step - loss: 0.8757 - accuracy: 0.6250\n",
            "Epoch 3/30\n",
            "2/2 [==============================] - 2s 455ms/step - loss: 0.8393 - accuracy: 0.6250\n",
            "Epoch 4/30\n",
            "2/2 [==============================] - 2s 459ms/step - loss: 0.8527 - accuracy: 0.6250\n",
            "Epoch 5/30\n",
            "2/2 [==============================] - 2s 455ms/step - loss: 0.8111 - accuracy: 0.6250\n",
            "Epoch 6/30\n",
            "2/2 [==============================] - 3s 873ms/step - loss: 0.8304 - accuracy: 0.6250\n",
            "Epoch 7/30\n",
            "2/2 [==============================] - 3s 511ms/step - loss: 0.8101 - accuracy: 0.6250\n",
            "Epoch 8/30\n",
            "2/2 [==============================] - 2s 447ms/step - loss: 0.7775 - accuracy: 0.6250\n",
            "Epoch 9/30\n",
            "2/2 [==============================] - 2s 459ms/step - loss: 0.7486 - accuracy: 0.6364\n",
            "Epoch 10/30\n",
            "2/2 [==============================] - 2s 463ms/step - loss: 0.7135 - accuracy: 0.6250\n",
            "Epoch 11/30\n",
            "2/2 [==============================] - 2s 446ms/step - loss: 0.6964 - accuracy: 0.6477\n",
            "Epoch 12/30\n",
            "2/2 [==============================] - 2s 463ms/step - loss: 0.5932 - accuracy: 0.7500\n",
            "Epoch 13/30\n",
            "2/2 [==============================] - 2s 824ms/step - loss: 0.5186 - accuracy: 0.7727\n",
            "Epoch 14/30\n",
            "2/2 [==============================] - 3s 880ms/step - loss: 0.4543 - accuracy: 0.8864\n",
            "Epoch 15/30\n",
            "2/2 [==============================] - 2s 452ms/step - loss: 0.3959 - accuracy: 0.8409\n",
            "Epoch 16/30\n",
            "2/2 [==============================] - 2s 456ms/step - loss: 0.2916 - accuracy: 0.8977\n",
            "Epoch 17/30\n",
            "2/2 [==============================] - 2s 449ms/step - loss: 0.2276 - accuracy: 0.8977\n",
            "Epoch 18/30\n",
            "2/2 [==============================] - 2s 479ms/step - loss: 0.3286 - accuracy: 0.8523\n",
            "Epoch 19/30\n",
            "2/2 [==============================] - 2s 465ms/step - loss: 0.1769 - accuracy: 0.9205\n",
            "Epoch 20/30\n",
            "2/2 [==============================] - 2s 466ms/step - loss: 0.1658 - accuracy: 0.9886\n",
            "Epoch 21/30\n",
            "2/2 [==============================] - 3s 858ms/step - loss: 0.1408 - accuracy: 0.9659\n",
            "Epoch 22/30\n",
            "2/2 [==============================] - 3s 842ms/step - loss: 0.1684 - accuracy: 0.9091\n",
            "Epoch 23/30\n",
            "2/2 [==============================] - 2s 466ms/step - loss: 0.1237 - accuracy: 0.9773\n",
            "Epoch 24/30\n",
            "2/2 [==============================] - 2s 449ms/step - loss: 0.1208 - accuracy: 0.9545\n",
            "Epoch 25/30\n",
            "2/2 [==============================] - 3s 864ms/step - loss: 0.1096 - accuracy: 0.9318\n",
            "Epoch 26/30\n",
            "2/2 [==============================] - 3s 833ms/step - loss: 0.0861 - accuracy: 0.9545\n",
            "Epoch 27/30\n",
            "2/2 [==============================] - 2s 808ms/step - loss: 0.0668 - accuracy: 0.9886\n",
            "Epoch 28/30\n",
            "2/2 [==============================] - 3s 824ms/step - loss: 0.0650 - accuracy: 0.9886\n",
            "Epoch 29/30\n",
            "2/2 [==============================] - 2s 471ms/step - loss: 0.0678 - accuracy: 0.9545\n",
            "Epoch 30/30\n",
            "2/2 [==============================] - 2s 449ms/step - loss: 0.0321 - accuracy: 1.0000\n",
            "1/1 [==============================] - 1s 667ms/step - loss: 0.4474 - accuracy: 0.7955\n",
            "Epoch 1/30\n",
            "2/2 [==============================] - 4s 453ms/step - loss: 1.1057 - accuracy: 0.3182\n",
            "Epoch 2/30\n",
            "2/2 [==============================] - 2s 465ms/step - loss: 1.0725 - accuracy: 0.5000\n",
            "Epoch 3/30\n",
            "2/2 [==============================] - 3s 1s/step - loss: 1.0434 - accuracy: 0.5000\n",
            "Epoch 4/30\n",
            "2/2 [==============================] - 4s 775ms/step - loss: 1.0399 - accuracy: 0.5000\n",
            "Epoch 5/30\n",
            "2/2 [==============================] - 4s 1s/step - loss: 1.0152 - accuracy: 0.5000\n",
            "Epoch 6/30\n",
            "2/2 [==============================] - 4s 459ms/step - loss: 0.9976 - accuracy: 0.5000\n",
            "Epoch 7/30\n",
            "2/2 [==============================] - 2s 456ms/step - loss: 0.9686 - accuracy: 0.5000\n",
            "Epoch 8/30\n",
            "2/2 [==============================] - 2s 446ms/step - loss: 0.9920 - accuracy: 0.5568\n",
            "Epoch 9/30\n",
            "2/2 [==============================] - 2s 467ms/step - loss: 0.9102 - accuracy: 0.5455\n",
            "Epoch 10/30\n",
            "2/2 [==============================] - 2s 441ms/step - loss: 0.9791 - accuracy: 0.5000\n",
            "Epoch 11/30\n",
            "2/2 [==============================] - 2s 467ms/step - loss: 0.8749 - accuracy: 0.5682\n",
            "Epoch 12/30\n",
            "2/2 [==============================] - 2s 813ms/step - loss: 0.8333 - accuracy: 0.7386\n",
            "Epoch 13/30\n",
            "2/2 [==============================] - 3s 835ms/step - loss: 0.7239 - accuracy: 0.6932\n",
            "Epoch 14/30\n",
            "2/2 [==============================] - 2s 454ms/step - loss: 0.7189 - accuracy: 0.7386\n",
            "Epoch 15/30\n",
            "2/2 [==============================] - 2s 481ms/step - loss: 0.7233 - accuracy: 0.6932\n",
            "Epoch 16/30\n",
            "2/2 [==============================] - 2s 464ms/step - loss: 0.6252 - accuracy: 0.7386\n",
            "Epoch 17/30\n",
            "2/2 [==============================] - 2s 460ms/step - loss: 0.6019 - accuracy: 0.8182\n",
            "Epoch 18/30\n",
            "2/2 [==============================] - 2s 461ms/step - loss: 0.5707 - accuracy: 0.7841\n",
            "Epoch 19/30\n",
            "2/2 [==============================] - 2s 451ms/step - loss: 0.5040 - accuracy: 0.7955\n",
            "Epoch 20/30\n",
            "2/2 [==============================] - 2s 847ms/step - loss: 0.4688 - accuracy: 0.9432\n",
            "Epoch 21/30\n",
            "2/2 [==============================] - 3s 836ms/step - loss: 0.3806 - accuracy: 0.8523\n",
            "Epoch 22/30\n",
            "2/2 [==============================] - 2s 455ms/step - loss: 0.3382 - accuracy: 0.8636\n",
            "Epoch 23/30\n",
            "2/2 [==============================] - 2s 461ms/step - loss: 0.4568 - accuracy: 0.7045\n",
            "Epoch 24/30\n",
            "2/2 [==============================] - 2s 441ms/step - loss: 0.4170 - accuracy: 0.8523\n",
            "Epoch 25/30\n",
            "2/2 [==============================] - 2s 449ms/step - loss: 0.2543 - accuracy: 0.8864\n",
            "Epoch 26/30\n",
            "2/2 [==============================] - 2s 470ms/step - loss: 0.3747 - accuracy: 0.8636\n",
            "Epoch 27/30\n",
            "2/2 [==============================] - 2s 442ms/step - loss: 0.2303 - accuracy: 0.8864\n",
            "Epoch 28/30\n",
            "2/2 [==============================] - 3s 833ms/step - loss: 0.2431 - accuracy: 0.8864\n",
            "Epoch 29/30\n",
            "2/2 [==============================] - 3s 625ms/step - loss: 0.1736 - accuracy: 0.9545\n",
            "Epoch 30/30\n",
            "2/2 [==============================] - 2s 449ms/step - loss: 0.1796 - accuracy: 0.9659\n",
            "1/1 [==============================] - 0s 405ms/step - loss: 1.3291 - accuracy: 0.5909\n",
            "Epoch 1/30\n",
            "2/2 [==============================] - 4s 463ms/step - loss: 0.9897 - accuracy: 0.5682\n",
            "Epoch 2/30\n",
            "2/2 [==============================] - 2s 451ms/step - loss: 1.3109 - accuracy: 0.4318\n",
            "Epoch 3/30\n",
            "2/2 [==============================] - 2s 459ms/step - loss: 0.7501 - accuracy: 0.5682\n",
            "Epoch 4/30\n",
            "2/2 [==============================] - 3s 821ms/step - loss: 0.7996 - accuracy: 0.5682\n",
            "Epoch 5/30\n",
            "2/2 [==============================] - 3s 748ms/step - loss: 0.7602 - accuracy: 0.5682\n",
            "Epoch 6/30\n",
            "2/2 [==============================] - 2s 445ms/step - loss: 0.7070 - accuracy: 0.5682\n",
            "Epoch 7/30\n",
            "2/2 [==============================] - 2s 441ms/step - loss: 0.6853 - accuracy: 0.5227\n",
            "Epoch 8/30\n",
            "2/2 [==============================] - 2s 450ms/step - loss: 0.6677 - accuracy: 0.6705\n",
            "Epoch 9/30\n",
            "2/2 [==============================] - 2s 450ms/step - loss: 0.6647 - accuracy: 0.5682\n",
            "Epoch 10/30\n",
            "2/2 [==============================] - 2s 475ms/step - loss: 0.6896 - accuracy: 0.4318\n",
            "Epoch 11/30\n",
            "2/2 [==============================] - 2s 489ms/step - loss: 0.6543 - accuracy: 0.5682\n",
            "Epoch 12/30\n",
            "2/2 [==============================] - 3s 866ms/step - loss: 0.6242 - accuracy: 0.5909\n",
            "Epoch 13/30\n",
            "2/2 [==============================] - 3s 450ms/step - loss: 0.7071 - accuracy: 0.4318\n",
            "Epoch 14/30\n",
            "2/2 [==============================] - 2s 448ms/step - loss: 0.6251 - accuracy: 0.8636\n",
            "Epoch 15/30\n",
            "2/2 [==============================] - 2s 470ms/step - loss: 0.6441 - accuracy: 0.5682\n",
            "Epoch 16/30\n",
            "2/2 [==============================] - 2s 461ms/step - loss: 0.5963 - accuracy: 0.5909\n",
            "Epoch 17/30\n",
            "2/2 [==============================] - 2s 453ms/step - loss: 0.5856 - accuracy: 0.7841\n",
            "Epoch 18/30\n",
            "2/2 [==============================] - 2s 456ms/step - loss: 0.5694 - accuracy: 0.6932\n",
            "Epoch 19/30\n",
            "2/2 [==============================] - 2s 729ms/step - loss: 0.4989 - accuracy: 0.8864\n",
            "Epoch 20/30\n",
            "2/2 [==============================] - 3s 851ms/step - loss: 0.4255 - accuracy: 0.8409\n",
            "Epoch 21/30\n",
            "2/2 [==============================] - 2s 465ms/step - loss: 0.3890 - accuracy: 0.9205\n",
            "Epoch 22/30\n",
            "2/2 [==============================] - 2s 458ms/step - loss: 0.3069 - accuracy: 0.8636\n",
            "Epoch 23/30\n",
            "2/2 [==============================] - 2s 470ms/step - loss: 0.7701 - accuracy: 0.5114\n",
            "Epoch 24/30\n",
            "2/2 [==============================] - 2s 441ms/step - loss: 0.6031 - accuracy: 0.7500\n",
            "Epoch 25/30\n",
            "2/2 [==============================] - 2s 456ms/step - loss: 0.2614 - accuracy: 0.9091\n",
            "Epoch 26/30\n",
            "2/2 [==============================] - 2s 464ms/step - loss: 0.4007 - accuracy: 0.8750\n",
            "Epoch 27/30\n",
            "2/2 [==============================] - 2s 853ms/step - loss: 0.3029 - accuracy: 0.9886\n",
            "Epoch 28/30\n",
            "2/2 [==============================] - 3s 841ms/step - loss: 0.2668 - accuracy: 0.9545\n",
            "Epoch 29/30\n",
            "2/2 [==============================] - 2s 448ms/step - loss: 0.2360 - accuracy: 0.9205\n",
            "Epoch 30/30\n",
            "2/2 [==============================] - 2s 459ms/step - loss: 0.1663 - accuracy: 0.9659\n",
            "1/1 [==============================] - 0s 406ms/step - loss: 9.5041 - accuracy: 0.3864\n",
            "Epoch 1/30\n",
            "3/3 [==============================] - 6s 744ms/step - loss: 1.1842 - accuracy: 0.3409\n",
            "Epoch 2/30\n",
            "3/3 [==============================] - 2s 644ms/step - loss: 1.1104 - accuracy: 0.4167\n",
            "Epoch 3/30\n",
            "3/3 [==============================] - 4s 1s/step - loss: 1.0826 - accuracy: 0.4167\n",
            "Epoch 4/30\n",
            "3/3 [==============================] - 3s 648ms/step - loss: 1.0853 - accuracy: 0.4167\n",
            "Epoch 5/30\n",
            "3/3 [==============================] - 2s 644ms/step - loss: 1.0872 - accuracy: 0.4167\n",
            "Epoch 6/30\n",
            "3/3 [==============================] - 2s 642ms/step - loss: 1.0594 - accuracy: 0.4167\n",
            "Epoch 7/30\n",
            "3/3 [==============================] - 2s 641ms/step - loss: 1.0731 - accuracy: 0.4697\n",
            "Epoch 8/30\n",
            "3/3 [==============================] - 4s 1s/step - loss: 1.0732 - accuracy: 0.5682\n",
            "Epoch 9/30\n",
            "3/3 [==============================] - 3s 636ms/step - loss: 1.0675 - accuracy: 0.4167\n",
            "Epoch 10/30\n",
            "3/3 [==============================] - 2s 639ms/step - loss: 1.0623 - accuracy: 0.4167\n",
            "Epoch 11/30\n",
            "3/3 [==============================] - 2s 639ms/step - loss: 1.0925 - accuracy: 0.4167\n",
            "Epoch 12/30\n",
            "3/3 [==============================] - 3s 652ms/step - loss: 1.0544 - accuracy: 0.4167\n",
            "Epoch 13/30\n",
            "3/3 [==============================] - 3s 1s/step - loss: 1.0530 - accuracy: 0.4167\n",
            "Epoch 14/30\n",
            "3/3 [==============================] - 4s 836ms/step - loss: 1.0439 - accuracy: 0.4167\n",
            "Epoch 15/30\n",
            "3/3 [==============================] - 2s 645ms/step - loss: 1.0399 - accuracy: 0.5455\n",
            "Epoch 16/30\n",
            "3/3 [==============================] - 3s 664ms/step - loss: 1.0369 - accuracy: 0.7045\n",
            "Epoch 17/30\n",
            "3/3 [==============================] - 2s 654ms/step - loss: 1.0308 - accuracy: 0.4167\n",
            "Epoch 18/30\n",
            "3/3 [==============================] - 3s 955ms/step - loss: 1.0124 - accuracy: 0.4167\n",
            "Epoch 19/30\n",
            "3/3 [==============================] - 4s 965ms/step - loss: 1.0234 - accuracy: 0.7727\n",
            "Epoch 20/30\n",
            "3/3 [==============================] - 2s 668ms/step - loss: 0.9985 - accuracy: 0.7803\n",
            "Epoch 21/30\n",
            "3/3 [==============================] - 2s 650ms/step - loss: 0.9959 - accuracy: 0.4242\n",
            "Epoch 22/30\n",
            "3/3 [==============================] - 2s 638ms/step - loss: 0.8724 - accuracy: 0.7576\n",
            "Epoch 23/30\n",
            "3/3 [==============================] - 3s 788ms/step - loss: 0.8249 - accuracy: 0.6288\n",
            "Epoch 24/30\n",
            "3/3 [==============================] - 4s 1s/step - loss: 1.3389 - accuracy: 0.4242\n",
            "Epoch 25/30\n",
            "3/3 [==============================] - 2s 656ms/step - loss: 0.8191 - accuracy: 0.7273\n",
            "Epoch 26/30\n",
            "3/3 [==============================] - 2s 641ms/step - loss: 0.9299 - accuracy: 0.6742\n",
            "Epoch 27/30\n",
            "3/3 [==============================] - 2s 648ms/step - loss: 0.8835 - accuracy: 0.7273\n",
            "Epoch 28/30\n",
            "3/3 [==============================] - 2s 657ms/step - loss: 0.6862 - accuracy: 0.7500\n",
            "Epoch 29/30\n",
            "3/3 [==============================] - 5s 1s/step - loss: 0.7216 - accuracy: 0.6136\n",
            "Epoch 30/30\n",
            "3/3 [==============================] - 3s 647ms/step - loss: 0.6682 - accuracy: 0.6591\n",
            "Best Score:  0.5909090836842855\n",
            "Best Params:  {'batch_size': 64, 'epochs': 30}\n"
          ]
        }
      ]
    },
    {
      "cell_type": "markdown",
      "source": [
        "Best Params:  {'batch_size': 64, 'epochs': 30} 으로 확인했지만 accuracy 값을 봤을 때 과적합이 발생했을 확률이 굉장히 높다고 판단되기 떄문에 {'batch_size': 64, 'epochs': 15}로 모델학습"
      ],
      "metadata": {
        "id": "qyC0Ee9Wur2O"
      }
    },
    {
      "cell_type": "code",
      "source": [
        "model = Sequential()\n",
        "model.add(layers.Conv2D(64, (3, 3), activation='relu', input_shape=(64, 64, 3)))\n",
        "model.add(layers.MaxPooling2D((2, 2)))\n",
        "model.add(layers.Conv2D(128, (3, 3), activation='relu'))\n",
        "model.add(layers.MaxPooling2D((2, 2)))\n",
        "model.add(layers.Conv2D(256, (3,3), activation='relu'))\n",
        "model.add(layers.MaxPooling2D((2,2)))\n",
        "model.add(layers.Flatten())\n",
        "model.add(layers.Dense(256, activation='relu'))\n",
        "model.add(layers.Dense(64, activation='relu'))\n",
        "model.add(layers.Dense(3, activation='softmax'))\n",
        "model.compile(optimizer='adam', loss='categorical_crossentropy', metrics=['accuracy'])\n",
        "\n",
        "#모델 학습\n",
        "model.fit(resized_images, all_labels, epochs=15, batch_size=64, verbose=1)"
      ],
      "metadata": {
        "colab": {
          "base_uri": "https://localhost:8080/"
        },
        "id": "CUEIRyTf0fxw",
        "outputId": "d7d0c64c-452e-4a06-e2bf-a22ff7c66295"
      },
      "execution_count": 43,
      "outputs": [
        {
          "output_type": "stream",
          "name": "stdout",
          "text": [
            "Epoch 1/15\n",
            "3/3 [==============================] - 4s 687ms/step - loss: 1.1243 - accuracy: 0.3409\n",
            "Epoch 2/15\n",
            "3/3 [==============================] - 2s 648ms/step - loss: 1.1087 - accuracy: 0.2652\n",
            "Epoch 3/15\n",
            "3/3 [==============================] - 3s 660ms/step - loss: 1.0818 - accuracy: 0.4167\n",
            "Epoch 4/15\n",
            "3/3 [==============================] - 3s 827ms/step - loss: 1.0528 - accuracy: 0.6288\n",
            "Epoch 5/15\n",
            "3/3 [==============================] - 4s 1s/step - loss: 1.1343 - accuracy: 0.4167\n",
            "Epoch 6/15\n",
            "3/3 [==============================] - 2s 648ms/step - loss: 1.0486 - accuracy: 0.4167\n",
            "Epoch 7/15\n",
            "3/3 [==============================] - 2s 650ms/step - loss: 1.0664 - accuracy: 0.4167\n",
            "Epoch 8/15\n",
            "3/3 [==============================] - 3s 653ms/step - loss: 1.0763 - accuracy: 0.4167\n",
            "Epoch 9/15\n",
            "3/3 [==============================] - 3s 747ms/step - loss: 1.0672 - accuracy: 0.4167\n",
            "Epoch 10/15\n",
            "3/3 [==============================] - 5s 1s/step - loss: 1.0548 - accuracy: 0.4167\n",
            "Epoch 11/15\n",
            "3/3 [==============================] - 2s 646ms/step - loss: 1.0418 - accuracy: 0.4167\n",
            "Epoch 12/15\n",
            "3/3 [==============================] - 2s 640ms/step - loss: 1.0301 - accuracy: 0.7045\n",
            "Epoch 13/15\n",
            "3/3 [==============================] - 2s 639ms/step - loss: 1.0096 - accuracy: 0.7348\n",
            "Epoch 14/15\n",
            "3/3 [==============================] - 2s 644ms/step - loss: 0.9939 - accuracy: 0.4242\n",
            "Epoch 15/15\n",
            "3/3 [==============================] - 5s 1s/step - loss: 0.9295 - accuracy: 0.7803\n"
          ]
        },
        {
          "output_type": "execute_result",
          "data": {
            "text/plain": [
              "<keras.callbacks.History at 0x7eb8d1bd13f0>"
            ]
          },
          "metadata": {},
          "execution_count": 43
        }
      ]
    },
    {
      "cell_type": "code",
      "source": [
        "# test set에 대한 예측 수행\n",
        "predictions = model.predict(test_set_data)\n",
        "\n",
        "# 최종 예측 레이블 생성\n",
        "predicted_labels = []\n",
        "for prediction in predictions:\n",
        "    if prediction[0] > prediction[1] and prediction[0] > prediction[2]:\n",
        "        predicted_labels.append([1, 0, 0])\n",
        "    elif prediction[1] > prediction[0] and prediction[1] > prediction[2]:\n",
        "        predicted_labels.append([0, 1, 0])\n",
        "    else:\n",
        "        predicted_labels.append([0, 0, 1])\n",
        "predicted_labels = np.array(predicted_labels)\n",
        "\n",
        "#예측률 확인\n",
        "count = 0\n",
        "for i in range(0,predicted_labels.shape[0]):\n",
        "  if np.array_equal(predicted_labels[i], test_labels[i]):\n",
        "        count += 1\n",
        "\n",
        "prediction_accuracy = count / predicted_labels.shape[0] * 100\n",
        "print('test set에 대한 예측률: {}%'.format(prediction_accuracy))\n"
      ],
      "metadata": {
        "colab": {
          "base_uri": "https://localhost:8080/"
        },
        "id": "85n1g-3NpU8h",
        "outputId": "9ad50786-15cc-4103-bbdf-a5f2c4b5d1a6"
      },
      "execution_count": 44,
      "outputs": [
        {
          "output_type": "stream",
          "name": "stdout",
          "text": [
            "1/1 [==============================] - 0s 236ms/step\n",
            "test set에 대한 예측률: 87.09677419354838%\n"
          ]
        }
      ]
    },
    {
      "cell_type": "code",
      "source": [
        "#원본 데이터에 대한 예측 및 평가 함수\n",
        "def predict_and_evaluate(model, data, target_labels):\n",
        "    predictions = model.predict(data)\n",
        "\n",
        "    predicted_labels = []\n",
        "    for prediction in predictions:\n",
        "        if prediction[0] > prediction[1] and prediction[0] > prediction[2]:\n",
        "            predicted_labels.append([1, 0, 0])\n",
        "        elif prediction[1] > prediction[0] and prediction[1] > prediction[2]:\n",
        "            predicted_labels.append([0, 1, 0])\n",
        "        else:\n",
        "            predicted_labels.append([0, 0, 1])\n",
        "    predicted_labels = np.array(predicted_labels)\n",
        "\n",
        "    count = 0\n",
        "    for i in range(predicted_labels.shape[0]):\n",
        "        if np.array_equal(predicted_labels[i], target_labels):\n",
        "            count += 1\n",
        "\n",
        "    prediction_accuracy = count / predicted_labels.shape[0] * 100\n",
        "    return prediction_accuracy"
      ],
      "metadata": {
        "id": "af_Jb-MQopKh"
      },
      "execution_count": 45,
      "outputs": []
    },
    {
      "cell_type": "code",
      "source": [
        "#원본 데이터에 대한 예측 및 정확도 평가\n",
        "\n",
        "# broken_large\n",
        "accuracy_large = predict_and_evaluate(model, large_image_data, [0, 1, 0])\n",
        "print('broken_large에 대한 예측률: {}%'.format(accuracy_large))\n",
        "\n",
        "# broken_small\n",
        "accuracy_small = predict_and_evaluate(model, small_image_data, [0, 1, 0])\n",
        "print('broken_small에 대한 예측률: {}%'.format(accuracy_small))\n",
        "\n",
        "#contamination\n",
        "accuracy_contamination = predict_and_evaluate(model, contamination_image_data, [0,0,1])\n",
        "print('contamination에 대한 예측률:{}%'.format(accuracy_contamination))"
      ],
      "metadata": {
        "colab": {
          "base_uri": "https://localhost:8080/"
        },
        "id": "sQQdEy6FosR6",
        "outputId": "5c6430f6-698b-4576-873e-4faf0348d1f4"
      },
      "execution_count": 46,
      "outputs": [
        {
          "output_type": "stream",
          "name": "stdout",
          "text": [
            "1/1 [==============================] - 0s 115ms/step\n",
            "broken_large에 대한 예측률: 100.0%\n",
            "1/1 [==============================] - 0s 128ms/step\n",
            "broken_small에 대한 예측률: 77.27272727272727%\n",
            "1/1 [==============================] - 0s 126ms/step\n",
            "contamination에 대한 예측률:0.0%\n"
          ]
        }
      ]
    },
    {
      "cell_type": "markdown",
      "source": [
        "#Image Segmentation\n"
      ],
      "metadata": {
        "id": "e69uKpkSkVjl"
      }
    },
    {
      "cell_type": "code",
      "source": [
        "!pip install -q git+https://github.com/tensorflow/examples.git"
      ],
      "metadata": {
        "colab": {
          "base_uri": "https://localhost:8080/"
        },
        "id": "Ij3W21vwvL57",
        "outputId": "85ed316e-e745-44a3-adce-aca8ab0ca223"
      },
      "execution_count": 11,
      "outputs": [
        {
          "output_type": "stream",
          "name": "stdout",
          "text": [
            "  Preparing metadata (setup.py) ... \u001b[?25l\u001b[?25hdone\n",
            "  Building wheel for tensorflow-examples (setup.py) ... \u001b[?25l\u001b[?25hdone\n"
          ]
        }
      ]
    },
    {
      "cell_type": "code",
      "source": [
        "# U-Net model\n",
        "# coded by st.watermelon\n",
        "#https://pasus.tistory.com/204 링\n",
        "import tensorflow as tf\n",
        "from tensorflow.keras.layers import Conv2D, MaxPooling2D, Conv2DTranspose\n",
        "from tensorflow.keras.layers import Activation, BatchNormalization, Concatenate\n"
      ],
      "metadata": {
        "id": "s6HjktPQvHJk"
      },
      "execution_count": 31,
      "outputs": []
    },
    {
      "cell_type": "code",
      "source": [
        "#배열 변환된 ground_truth 이미지\n",
        "\"\"\"\n",
        "gr_tr_large_data : ground_truth 데이터 (20)\n",
        "gr_tr_small_data : ground_truth 데이터 (22)\n",
        "gr_tr_contamination_data : ground_truth 데이터 (21)\n",
        "large_image_data : 크게 파손 (20)\n",
        "small_image_data : 적게 파손 (22)\n",
        "contamination_image_data : 오염 (21)\n",
        "\"\"\""
      ],
      "metadata": {
        "id": "-AziH72yqVv3"
      },
      "execution_count": null,
      "outputs": []
    },
    {
      "cell_type": "code",
      "source": [
        "#train, test set 분리\n",
        "gr_tr_large_80,gr_tr_small_80, gr_tr_conta_80  = 16, 17, 17\n",
        "gr_tr_train_set = np.concatenate((gr_tr_large_data[:gr_tr_large_80], gr_tr_small_data[:gr_tr_small_80], gr_tr_contamination_data[:gr_tr_conta_80]),axis=0)\n",
        "gr_tr_test_set = np.concatenate((gr_tr_large_data[gr_tr_large_80:], gr_tr_small_data[gr_tr_small_80:], gr_tr_contamination_data[gr_tr_conta_80:]),axis=0)\n",
        "train_image_set = np.concatenate((large_image_data[:gr_tr_large_80], small_image_data[:gr_tr_small_80], contamination_image_data[:gr_tr_conta_80]),axis=0)\n",
        "test_image_set = np.concatenate((large_image_data[gr_tr_large_80:], small_image_data[gr_tr_small_80:], contamination_image_data[gr_tr_conta_80:]),axis=0)"
      ],
      "metadata": {
        "id": "IcTTybkDBoz2"
      },
      "execution_count": 33,
      "outputs": []
    },
    {
      "cell_type": "code",
      "source": [
        "print(gr_tr_train_set.shape, gr_tr_test_set.shape, train_image_set.shape, test_image_set.shape)"
      ],
      "metadata": {
        "colab": {
          "base_uri": "https://localhost:8080/"
        },
        "id": "UgGPVE5uqaAX",
        "outputId": "5d1ffee4-4b57-4300-bdf6-316dc353ad1f"
      },
      "execution_count": 34,
      "outputs": [
        {
          "output_type": "stream",
          "name": "stdout",
          "text": [
            "(50, 64, 64, 3) (13, 64, 64, 3) (50, 64, 64, 3) (13, 64, 64, 3)\n"
          ]
        }
      ]
    },
    {
      "cell_type": "code",
      "source": [
        "#Train, Test set\n",
        "\"\"\"\n",
        "gr_tr_train_set, train_image_set : train (50)\n",
        "gr_tr_test_set, test_image_set : test (13)\n",
        "\"\"\""
      ],
      "metadata": {
        "id": "5w_FsNLVE8IU"
      },
      "execution_count": null,
      "outputs": []
    },
    {
      "cell_type": "code",
      "source": [
        "#이미지, ground_truth 확인\n",
        "def plot_image(image):\n",
        "    plt.imshow(image)\n",
        "    plt.axis('off')\n",
        "    plt.show()\n",
        "# gr_tr_large_data와 large_image_data 이미지 동시 plot\n",
        "plot_image(gr_tr_large_data[0])\n",
        "plot_image(large_image_data[0])"
      ],
      "metadata": {
        "id": "3S10jMS3s5CL"
      },
      "execution_count": null,
      "outputs": []
    },
    {
      "cell_type": "code",
      "source": [
        "\n",
        "\"\"\" Conv Block \"\"\"\n",
        "class ConvBlock(tf.keras.layers.Layer):\n",
        "    def __init__(self, n_filters):\n",
        "        super(ConvBlock, self).__init__()\n",
        "\n",
        "        self.conv1 = Conv2D(n_filters, 3, padding='same')\n",
        "        self.conv2 = Conv2D(n_filters, 3, padding='same')\n",
        "\n",
        "        self.bn1 = BatchNormalization()\n",
        "        self.bn2 = BatchNormalization()\n",
        "\n",
        "        self.activation = Activation('relu')\n",
        "\n",
        "    def call(self, inputs):\n",
        "        x = self.conv1(inputs)\n",
        "        x = self.bn1(x)\n",
        "        x = self.activation(x)\n",
        "\n",
        "        x = self.conv2(x)\n",
        "        x = self.bn2(x)\n",
        "        x = self.activation(x)\n",
        "\n",
        "        return x\n",
        "\n",
        "\n",
        "\"\"\" Encoder Block \"\"\"\n",
        "class EncoderBlock(tf.keras.layers.Layer):\n",
        "    def __init__(self, n_filters):\n",
        "        super(EncoderBlock, self).__init__()\n",
        "\n",
        "        self.conv_blk = ConvBlock(n_filters)\n",
        "        self.pool = MaxPooling2D((2,2))\n",
        "\n",
        "    def call(self, inputs):\n",
        "        x = self.conv_blk(inputs)\n",
        "        p = self.pool(x)\n",
        "        return x, p\n",
        "\n",
        "\n",
        "\"\"\" Decoder Block \"\"\"\n",
        "class DecoderBlock(tf.keras.layers.Layer):\n",
        "    def __init__(self, n_filters):\n",
        "        super(DecoderBlock, self).__init__()\n",
        "\n",
        "        self.up = Conv2DTranspose(n_filters, (2,2), strides=2, padding='same')\n",
        "        self.conv_blk = ConvBlock(n_filters)\n",
        "\n",
        "    def call(self, inputs, skip):\n",
        "        x = self.up(inputs)\n",
        "        x = Concatenate()([x, skip])\n",
        "        x = self.conv_blk(x)\n",
        "\n",
        "        return x\n",
        "\n",
        "\n",
        "\"\"\" U-Net Model \"\"\"\n",
        "class UNET(tf.keras.Model):\n",
        "    def __init__(self, n_classes):\n",
        "        super(UNET, self).__init__()\n",
        "\n",
        "        # Encoder\n",
        "        self.e1 = EncoderBlock(64)\n",
        "        self.e2 = EncoderBlock(128)\n",
        "        self.e3 = EncoderBlock(256)\n",
        "        self.e4 = EncoderBlock(512)\n",
        "\n",
        "        # Bridge\n",
        "        self.b = ConvBlock(1024)\n",
        "\n",
        "        # Decoder\n",
        "        self.d1 = DecoderBlock(512)\n",
        "        self.d2 = DecoderBlock(256)\n",
        "        self.d3 = DecoderBlock(128)\n",
        "        self.d4 = DecoderBlock(64)\n",
        "\n",
        "        # Outputs\n",
        "        if n_classes == 1:\n",
        "            activation = 'sigmoid'\n",
        "        else:\n",
        "            activation = 'softmax'\n",
        "\n",
        "        self.outputs = Conv2D(n_classes, 1, padding='same', activation=activation)\n",
        "\n",
        "    def call(self, inputs):\n",
        "        s1, p1 = self.e1(inputs)\n",
        "        s2, p2 = self.e2(p1)\n",
        "        s3, p3 = self.e3(p2)\n",
        "        s4, p4 = self.e4(p3)\n",
        "\n",
        "        b = self.b(p4)\n",
        "\n",
        "        d1 = self.d1(b, s4)\n",
        "        d2 = self.d2(d1, s3)\n",
        "        d3 = self.d3(d2, s2)\n",
        "        d4 = self.d4(d3, s1)\n",
        "\n",
        "        outputs = self.outputs(d4)\n",
        "\n",
        "        return outputs"
      ],
      "metadata": {
        "id": "AdAuA8u1vl-5"
      },
      "execution_count": 43,
      "outputs": []
    },
    {
      "cell_type": "code",
      "source": [
        "# U-Net Model\n",
        "class UNET(tf.keras.Model):\n",
        "    # U-Net 모델 구현 (이전 설명의 코드 활용)\n",
        "\n",
        "  # 학습 데이터와 검증 데이터로 분할\n",
        "  train_data = (train_image_set, gr_tr_train_set)\n",
        "  val_data = (test_image_set, gr_tr_test_set)\n",
        "\n",
        "  # 모델 인스턴스화\n",
        "  model = UNET(n_classes)\n",
        "\n",
        "  # 손실 함수 및 최적화 알고리즘 설정\n",
        "  loss_fn = tf.keras.losses.CategoricalCrossentropy()\n",
        "  optimizer = tf.keras.optimizers.Adam()\n",
        "\n",
        "  # 메트릭 설정 (선택 사항)\n",
        "  metrics = [tf.keras.metrics.CategoricalAccuracy(), tf.keras.metrics.MeanIoU(n_classes)]\n",
        "\n",
        "  # 모델 컴파일\n",
        "  model.compile(optimizer=optimizer, loss=loss_fn, metrics=metrics)\n",
        "\n",
        "  # 모델 학습\n",
        "  epochs = 15\n",
        "  batch_size = 16\n",
        "  model.fit(train_data[0], train_data[1], validation_data=(val_data[0], val_data[1]), batch_size=batch_size, epochs=epochs)\n",
        "\n",
        "\n",
        "  # 모델 평가\n",
        "  loss, accuracy, mean_iou = model.evaluate(test_image_set, gr_tr_test_set)\n",
        "  print(\"Test Loss:\", loss)\n",
        "  print(\"Test Accuracy:\", accuracy)\n",
        "  print(\"Test Mean IoU:\", mean_iou)"
      ],
      "metadata": {
        "colab": {
          "base_uri": "https://localhost:8080/"
        },
        "id": "_jZQZOyIDLHf",
        "outputId": "7d5df01e-f30e-4af1-eb5d-9bda3fa6edeb"
      },
      "execution_count": 44,
      "outputs": [
        {
          "output_type": "stream",
          "name": "stdout",
          "text": [
            "Epoch 1/15\n",
            "4/4 [==============================] - 16s 325ms/step - loss: 0.2901 - categorical_accuracy: 0.0292 - mean_io_u_8: 0.4616 - val_loss: 0.2425 - val_categorical_accuracy: 0.1164 - val_mean_io_u_8: 0.4632\n",
            "Epoch 2/15\n",
            "4/4 [==============================] - 0s 101ms/step - loss: 0.2708 - categorical_accuracy: 0.0055 - mean_io_u_8: 0.4616 - val_loss: 0.2426 - val_categorical_accuracy: 0.0293 - val_mean_io_u_8: 0.4632\n",
            "Epoch 3/15\n",
            "4/4 [==============================] - 0s 90ms/step - loss: 0.2712 - categorical_accuracy: 0.0013 - mean_io_u_8: 0.4616 - val_loss: 0.2426 - val_categorical_accuracy: 0.1202 - val_mean_io_u_8: 0.4632\n",
            "Epoch 4/15\n",
            "4/4 [==============================] - 0s 105ms/step - loss: 0.2621 - categorical_accuracy: 0.0093 - mean_io_u_8: 0.4616 - val_loss: 0.2463 - val_categorical_accuracy: 0.5392 - val_mean_io_u_8: 0.4632\n",
            "Epoch 5/15\n",
            "4/4 [==============================] - 0s 92ms/step - loss: 0.2632 - categorical_accuracy: 0.0029 - mean_io_u_8: 0.4616 - val_loss: 0.9219 - val_categorical_accuracy: 0.7966 - val_mean_io_u_8: 0.4632\n",
            "Epoch 6/15\n",
            "4/4 [==============================] - 0s 91ms/step - loss: 0.2735 - categorical_accuracy: 0.0014 - mean_io_u_8: 0.4616 - val_loss: 4.8047 - val_categorical_accuracy: 0.8527 - val_mean_io_u_8: 0.4730\n",
            "Epoch 7/15\n",
            "4/4 [==============================] - 0s 91ms/step - loss: 0.2705 - categorical_accuracy: 2.4902e-04 - mean_io_u_8: 0.4616 - val_loss: 11.8299 - val_categorical_accuracy: 0.9724 - val_mean_io_u_8: 0.4090\n",
            "Epoch 8/15\n",
            "4/4 [==============================] - 0s 93ms/step - loss: 0.2617 - categorical_accuracy: 2.4902e-04 - mean_io_u_8: 0.4616 - val_loss: 7.4172 - val_categorical_accuracy: 0.9746 - val_mean_io_u_8: 0.4371\n",
            "Epoch 9/15\n",
            "4/4 [==============================] - 0s 101ms/step - loss: 0.2605 - categorical_accuracy: 1.4160e-04 - mean_io_u_8: 0.4616 - val_loss: 3.4954 - val_categorical_accuracy: 0.9762 - val_mean_io_u_8: 0.4703\n",
            "Epoch 10/15\n",
            "4/4 [==============================] - 0s 107ms/step - loss: 0.2619 - categorical_accuracy: 0.0015 - mean_io_u_8: 0.4616 - val_loss: 5.4678 - val_categorical_accuracy: 0.9773 - val_mean_io_u_8: 0.4507\n",
            "Epoch 11/15\n",
            "4/4 [==============================] - 0s 94ms/step - loss: 0.2624 - categorical_accuracy: 0.0017 - mean_io_u_8: 0.4616 - val_loss: 4.1437 - val_categorical_accuracy: 0.9422 - val_mean_io_u_8: 0.4655\n",
            "Epoch 12/15\n",
            "4/4 [==============================] - 0s 83ms/step - loss: 0.2604 - categorical_accuracy: 0.0047 - mean_io_u_8: 0.4616 - val_loss: 3.6851 - val_categorical_accuracy: 0.7593 - val_mean_io_u_8: 0.4695\n",
            "Epoch 13/15\n",
            "4/4 [==============================] - 0s 83ms/step - loss: 0.2584 - categorical_accuracy: 0.0036 - mean_io_u_8: 0.4616 - val_loss: 2.2002 - val_categorical_accuracy: 0.3940 - val_mean_io_u_8: 0.4679\n",
            "Epoch 14/15\n",
            "4/4 [==============================] - 0s 85ms/step - loss: 0.2580 - categorical_accuracy: 0.0017 - mean_io_u_8: 0.4616 - val_loss: 0.7869 - val_categorical_accuracy: 0.1772 - val_mean_io_u_8: 0.4647\n",
            "Epoch 15/15\n",
            "4/4 [==============================] - 0s 82ms/step - loss: 0.2574 - categorical_accuracy: 0.0083 - mean_io_u_8: 0.4616 - val_loss: 0.3211 - val_categorical_accuracy: 0.3138 - val_mean_io_u_8: 0.4632\n",
            "1/1 [==============================] - 0s 50ms/step - loss: 0.3211 - categorical_accuracy: 0.3138 - mean_io_u_8: 0.4632\n",
            "Test Loss: 0.3211190104484558\n",
            "Test Accuracy: 0.3137582540512085\n",
            "Test Mean IoU: 0.4632098972797394\n"
          ]
        }
      ]
    },
    {
      "cell_type": "code",
      "source": [],
      "metadata": {
        "id": "eRu_PB6RtYkX"
      },
      "execution_count": null,
      "outputs": []
    }
  ]
}